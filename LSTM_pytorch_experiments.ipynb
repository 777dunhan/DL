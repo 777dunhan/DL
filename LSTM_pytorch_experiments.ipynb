{
  "cells": [
    {
      "cell_type": "markdown",
      "metadata": {
        "id": "UR4qfYrVoO4v"
      },
      "source": [
        "To run this notebook, please just go from the top cell all the way to the bottom cell sequentially.\n",
        "All model structures are detailed below, with hyperparameters being tuned and tested with wandb record on."
      ]
    },
    {
      "cell_type": "markdown",
      "metadata": {},
      "source": [
        "# Installs"
      ]
    },
    {
      "cell_type": "code",
      "execution_count": 1,
      "metadata": {
        "colab": {
          "base_uri": "https://localhost:8080/"
        },
        "id": "mA9qZoIDcx-h",
        "outputId": "609ff8fa-9234-4e27-f3ee-3fbef87ef422"
      },
      "outputs": [
        {
          "name": "stdout",
          "output_type": "stream",
          "text": [
            "\u001b[2K     \u001b[90m━━━━━━━━━━━━━━━━━━━━━━━━━━━━━━━━━━━━━━━━\u001b[0m \u001b[32m1.8/1.8 GB\u001b[0m \u001b[31m909.7 kB/s\u001b[0m eta \u001b[36m0:00:00\u001b[0m\n",
            "\u001b[2K     \u001b[90m━━━━━━━━━━━━━━━━━━━━━━━━━━━━━━━━━━━━━━━━\u001b[0m \u001b[32m24.3/24.3 MB\u001b[0m \u001b[31m45.8 MB/s\u001b[0m eta \u001b[36m0:00:00\u001b[0m\n",
            "\u001b[2K     \u001b[90m━━━━━━━━━━━━━━━━━━━━━━━━━━━━━━━━━━━━━━━━\u001b[0m \u001b[32m2.0/2.0 MB\u001b[0m \u001b[31m12.3 MB/s\u001b[0m eta \u001b[36m0:00:00\u001b[0m\n",
            "\u001b[2K     \u001b[90m━━━━━━━━━━━━━━━━━━━━━━━━━━━━━━━━━━━━━━━━\u001b[0m \u001b[32m4.2/4.2 MB\u001b[0m \u001b[31m56.5 MB/s\u001b[0m eta \u001b[36m0:00:00\u001b[0m\n",
            "\u001b[2K     \u001b[90m━━━━━━━━━━━━━━━━━━━━━━━━━━━━━━━━━━━━━━━━\u001b[0m \u001b[32m4.6/4.6 MB\u001b[0m \u001b[31m26.9 MB/s\u001b[0m eta \u001b[36m0:00:00\u001b[0m\n",
            "\u001b[2K     \u001b[90m━━━━━━━━━━━━━━━━━━━━━━━━━━━━━━━━━━━━━━━━\u001b[0m \u001b[32m2.2/2.2 MB\u001b[0m \u001b[31m14.7 MB/s\u001b[0m eta \u001b[36m0:00:00\u001b[0m\n",
            "\u001b[2K     \u001b[90m━━━━━━━━━━━━━━━━━━━━━━━━━━━━━━━━━━━━━━━━\u001b[0m \u001b[32m195.4/195.4 kB\u001b[0m \u001b[31m18.6 MB/s\u001b[0m eta \u001b[36m0:00:00\u001b[0m\n",
            "\u001b[2K     \u001b[90m━━━━━━━━━━━━━━━━━━━━━━━━━━━━━━━━━━━━━━━━\u001b[0m \u001b[32m264.6/264.6 kB\u001b[0m \u001b[31m18.0 MB/s\u001b[0m eta \u001b[36m0:00:00\u001b[0m\n",
            "\u001b[2K     \u001b[90m━━━━━━━━━━━━━━━━━━━━━━━━━━━━━━━━━━━━━━━━\u001b[0m \u001b[32m62.7/62.7 kB\u001b[0m \u001b[31m7.4 MB/s\u001b[0m eta \u001b[36m0:00:00\u001b[0m\n",
            "\u001b[2K     \u001b[90m━━━━━━━━━━━━━━━━━━━━━━━━━━━━━━━━━━━━━━━━\u001b[0m \u001b[32m177.4/177.4 kB\u001b[0m \u001b[31m5.5 MB/s\u001b[0m eta \u001b[36m0:00:00\u001b[0m\n",
            "\u001b[2K     \u001b[90m━━━━━━━━━━━━━━━━━━━━━━━━━━━━━━━━━━━━━━━━\u001b[0m \u001b[32m3.4/3.4 MB\u001b[0m \u001b[31m20.0 MB/s\u001b[0m eta \u001b[36m0:00:00\u001b[0m\n",
            "\u001b[?25hCloning into 'ctcdecode'...\n",
            "remote: Enumerating objects: 1102, done.\u001b[K\n",
            "remote: Counting objects: 100% (39/39), done.\u001b[K\n",
            "remote: Compressing objects: 100% (25/25), done.\u001b[K\n",
            "remote: Total 1102 (delta 16), reused 32 (delta 14), pack-reused 1063\u001b[K\n",
            "Receiving objects: 100% (1102/1102), 782.27 KiB | 6.86 MiB/s, done.\n",
            "Resolving deltas: 100% (529/529), done.\n",
            "Submodule 'third_party/ThreadPool' (https://github.com/progschj/ThreadPool.git) registered for path 'third_party/ThreadPool'\n",
            "Submodule 'third_party/kenlm' (https://github.com/kpu/kenlm.git) registered for path 'third_party/kenlm'\n",
            "Cloning into '/content/ctcdecode/third_party/ThreadPool'...\n",
            "remote: Enumerating objects: 82, done.        \n",
            "remote: Counting objects: 100% (26/26), done.        \n",
            "remote: Compressing objects: 100% (9/9), done.        \n",
            "remote: Total 82 (delta 19), reused 17 (delta 17), pack-reused 56        \n",
            "Receiving objects: 100% (82/82), 13.34 KiB | 2.22 MiB/s, done.\n",
            "Resolving deltas: 100% (36/36), done.\n",
            "Cloning into '/content/ctcdecode/third_party/kenlm'...\n",
            "remote: Enumerating objects: 14165, done.        \n",
            "remote: Counting objects: 100% (478/478), done.        \n",
            "remote: Compressing objects: 100% (332/332), done.        \n",
            "remote: Total 14165 (delta 163), reused 409 (delta 132), pack-reused 13687        \n",
            "Receiving objects: 100% (14165/14165), 5.91 MiB | 19.65 MiB/s, done.\n",
            "Resolving deltas: 100% (8043/8043), done.\n",
            "Submodule path 'third_party/ThreadPool': checked out '9a42ec1329f259a5f4881a291db1dcb8f2ad9040'\n",
            "Submodule path 'third_party/kenlm': checked out '35835f1ac4884126458ac89f9bf6dd9ccad561e0'\n",
            "  Preparing metadata (setup.py) ... \u001b[?25l\u001b[?25hdone\n",
            "  Building wheel for wget (setup.py) ... \u001b[?25l\u001b[?25hdone\n",
            "/content/ctcdecode\n",
            "  Preparing metadata (setup.py) ... \u001b[?25l\u001b[?25hdone\n",
            "  Building wheel for ctcdecode (setup.py) ... \u001b[?25l\u001b[?25hdone\n",
            "/content\n",
            "Collecting torchsummaryx==1.1.0\n",
            "  Downloading torchsummaryX-1.1.0-py3-none-any.whl (2.9 kB)\n",
            "Installing collected packages: torchsummaryx\n",
            "  Attempting uninstall: torchsummaryx\n",
            "    Found existing installation: torchsummaryX 1.3.0\n",
            "    Uninstalling torchsummaryX-1.3.0:\n",
            "      Successfully uninstalled torchsummaryX-1.3.0\n",
            "Successfully installed torchsummaryx-1.1.0\n"
          ]
        }
      ],
      "source": [
        "%pip install torch==1.13.1+cu117 torchvision==0.14.1+cu117 torchtext==0.14.1 torchaudio==0.13.1 torchdata==0.5.1 --extra-index-url https://download.pytorch.org/whl/cu117 -q\n",
        "!pip install wandb --quiet\n",
        "!pip install python-Levenshtein -q\n",
        "!git clone --recursive https://github.com/parlance/ctcdecode.git\n",
        "!pip install wget -q\n",
        "%cd ctcdecode\n",
        "!pip install . -q\n",
        "%cd ..\n",
        "!pip install torchsummaryX -q\n",
        "!pip install torchsummaryx==1.1.0"
      ]
    },
    {
      "cell_type": "markdown",
      "metadata": {
        "id": "IWVONJxCobPc"
      },
      "source": [
        "# Imports"
      ]
    },
    {
      "cell_type": "code",
      "execution_count": 2,
      "metadata": {
        "colab": {
          "base_uri": "https://localhost:8080/"
        },
        "id": "78ZTCIXoof2f",
        "outputId": "564352d1-9c9b-4de8-aa06-5ceefc777616"
      },
      "outputs": [
        {
          "name": "stdout",
          "output_type": "stream",
          "text": [
            "Device:  cuda\n"
          ]
        }
      ],
      "source": [
        "import torch\n",
        "import random\n",
        "import numpy as np\n",
        "import torch.nn as nn\n",
        "import torch.nn.functional as F\n",
        "from torchsummaryX import summary\n",
        "from torch.utils.data import Dataset, DataLoader\n",
        "from torch.nn.utils.rnn import pad_sequence, pack_padded_sequence, pad_packed_sequence\n",
        "import torchaudio.transforms as tat\n",
        "import torchaudio\n",
        "from sklearn.metrics import accuracy_score\n",
        "import gc\n",
        "import zipfile\n",
        "import pandas as pd\n",
        "from tqdm import tqdm\n",
        "import os\n",
        "import wandb\n",
        "import datetime\n",
        "import ctcdecode # imports for decoding and distance calculation\n",
        "import Levenshtein\n",
        "from ctcdecode import CTCBeamDecoder\n",
        "import warnings\n",
        "warnings.filterwarnings('ignore')\n",
        "device = 'cuda' if torch.cuda.is_available() else 'cpu'\n",
        "print(\"Device: \", device)"
      ]
    },
    {
      "cell_type": "markdown",
      "metadata": {
        "id": "gg3-yJ8tok34"
      },
      "source": [
        "# Kaggle Setup"
      ]
    },
    {
      "cell_type": "code",
      "execution_count": 3,
      "metadata": {
        "colab": {
          "base_uri": "https://localhost:8080/"
        },
        "id": "AdUelfGhom1m",
        "outputId": "f96378d2-0abe-48d4-f55c-900ada5b4948"
      },
      "outputs": [
        {
          "name": "stdout",
          "output_type": "stream",
          "text": [
            "\u001b[?25l     \u001b[90m━━━━━━━━━━━━━━━━━━━━━━━━━━━━━━━━━━━━━━━━\u001b[0m \u001b[32m0.0/59.2 kB\u001b[0m \u001b[31m?\u001b[0m eta \u001b[36m-:--:--\u001b[0m\r\u001b[2K     \u001b[90m━━━━━━━━━━━━━━━━━━━━━━━━━━━━━━━━━━━━━━━━\u001b[0m \u001b[32m59.2/59.2 kB\u001b[0m \u001b[31m2.4 MB/s\u001b[0m eta \u001b[36m0:00:00\u001b[0m\n",
            "\u001b[?25h  Preparing metadata (setup.py) ... \u001b[?25l\u001b[?25hdone\n",
            "  Building wheel for kaggle (setup.py) ... \u001b[?25l\u001b[?25hdone\n",
            "Downloading hw3p2asr-s24.zip to /content\n",
            " 99% 3.72G/3.74G [00:30<00:00, 221MB/s]\n",
            "100% 3.74G/3.74G [00:30<00:00, 130MB/s]\n",
            "11-785-s24-hw3p2  best_early_submission.pth  ctcdecode\thw3p2asr-s24.zip  sample_data\n"
          ]
        }
      ],
      "source": [
        "!pip install --upgrade --force-reinstall --no-deps kaggle==1.5.8 -q\n",
        "!mkdir /root/.kaggle\n",
        "with open(\"/root/.kaggle/kaggle.json\", \"w+\") as f:\n",
        "    f.write('{\"username\": \"dunhan777\", \"key\": \"8fd87309c15da3fc8173ced30a2dfa76\"}') # TODO: Put your kaggle username & key here\n",
        "!chmod 600 /root/.kaggle/kaggle.json\n",
        "!kaggle competitions download -c hw3p2asr-s24\n",
        "'''\n",
        "This will take a couple minutes, but you should see at least the following:\n",
        "11-785-s24-hw3p2  ctcdecode  hw3p2asr-s24.zip  sample_data\n",
        "'''\n",
        "!unzip -q hw3p2asr-s24.zip\n",
        "!ls"
      ]
    },
    {
      "cell_type": "markdown",
      "metadata": {
        "id": "2ORNHnSFroP0"
      },
      "source": [
        "# Dataset and Dataloader"
      ]
    },
    {
      "cell_type": "code",
      "execution_count": 4,
      "metadata": {
        "id": "k0v7wHRWrqH6"
      },
      "outputs": [],
      "source": [
        "CMUdict_ARPAbet = {\n",
        "    \"\" : \" \",\n",
        "    \"[SIL]\": \"-\", \"NG\": \"G\", \"F\" : \"f\", \"M\" : \"m\", \"AE\": \"@\",\n",
        "    \"R\"    : \"r\", \"UW\": \"u\", \"N\" : \"n\", \"IY\": \"i\", \"AW\": \"W\",\n",
        "    \"V\"    : \"v\", \"UH\": \"U\", \"OW\": \"o\", \"AA\": \"a\", \"ER\": \"R\",\n",
        "    \"HH\"   : \"h\", \"Z\" : \"z\", \"K\" : \"k\", \"CH\": \"C\", \"W\" : \"w\",\n",
        "    \"EY\"   : \"e\", \"ZH\": \"Z\", \"T\" : \"t\", \"EH\": \"E\", \"Y\" : \"y\",\n",
        "    \"AH\"   : \"A\", \"B\" : \"b\", \"P\" : \"p\", \"TH\": \"T\", \"DH\": \"D\",\n",
        "    \"AO\"   : \"c\", \"G\" : \"g\", \"L\" : \"l\", \"JH\": \"j\", \"OY\": \"O\",\n",
        "    \"SH\"   : \"S\", \"D\" : \"d\", \"AY\": \"Y\", \"S\" : \"s\", \"IH\": \"I\",\n",
        "    \"[SOS]\": \"[SOS]\", \"[EOS]\": \"[EOS]\"\n",
        "} # ARPABET PHONEME MAPPING DO NOT CHANGE\n",
        "CMUdict = list(CMUdict_ARPAbet.keys())\n",
        "ARPAbet = list(CMUdict_ARPAbet.values())\n",
        "PHONEMES = CMUdict[:-2]\n",
        "LABELS = ARPAbet[:-2]"
      ]
    },
    {
      "cell_type": "markdown",
      "metadata": {
        "id": "agmNBKf4JrLV"
      },
      "source": [
        "### Train Data"
      ]
    },
    {
      "cell_type": "code",
      "execution_count": 5,
      "metadata": {
        "id": "1TffDGN85cMU"
      },
      "outputs": [],
      "source": [
        "class AudioDataset(torch.utils.data.Dataset):\n",
        "    # For this homework, we give you full flexibility to design your data set class. Hint: The data from HW1 is very similar to this HW\n",
        "    def __init__(self, directory, PHONEMES):\n",
        "        # Initializes the dataset. INPUTS: What inputs do you need here? Load the directory and all files in them.\n",
        "        self.mfcc_dir = directory + '/mfcc/' #TODO\n",
        "        self.transcript_dir = directory + '/transcript/' #TODO\n",
        "        self.mfcc_files = sorted(os.listdir(self.mfcc_dir)) #TODO\n",
        "        self.transcript_files = sorted(os.listdir(self.transcript_dir)) #TODO\n",
        "        self.PHONEMES = PHONEMES\n",
        "        self.length = len(self.mfcc_files) # WHAT SHOULD THE LENGTH OF THE DATASET BE?\n",
        "        # HOW CAN WE REPRESENT PHONEMES? CAN WE CREATE A MAPPING FOR THEM? HINT: TENSORS CANNOT STORE NON-NUMERICAL VALUES OR STRINGS\n",
        "        # CREATE AN ARRAY OF ALL FEATUERS AND LABELS WHAT NORMALIZATION TECHNIQUE DID YOU USE IN HW1? CAN WE USE IT HERE?\n",
        "        # You may decide to do this in __getitem__ if you wish. However, doing this here will make\n",
        "        # the __init__ function take the load of loading the data, and shift it away from training.\n",
        "        self.mfccs = []\n",
        "        self.transcripts = []\n",
        "        for i in range(len(self.mfcc_files)):\n",
        "            self.mfccs.append(np.load(self.mfcc_dir + self.mfcc_files[i]))\n",
        "            transcript  = np.load(self.transcript_dir + self.transcript_files[i])[1:-1] # remove sos & eos\n",
        "            self.transcripts.append([self.PHONEMES.index(j) for j in transcript])\n",
        "    def __len__(self):\n",
        "        return self.length\n",
        "    def __getitem__(self, ind):\n",
        "        # RETURN THE MFCC COEFFICIENTS AND ITS CORRESPONDING LABELS\n",
        "        # If you didn't do the loading and processing of the data in __init__, do that here. Once done, return a tuple of features and labels.\n",
        "        return torch.FloatTensor(self.mfccs[ind]), torch.tensor(self.transcripts[ind])\n",
        "    def collate_fn(self, batch):\n",
        "        '''\n",
        "        1.  Extract the features and labels from 'batch'\n",
        "        2.  We will additionally need to pad both features and labels, look at pytorch's docs for pad_sequence\n",
        "        3.  This is a good place to perform transforms, if you so wish. Performing them on batches will speed the process up a bit.\n",
        "        4.  Return batch of features, labels, lenghts of features, and lengths of labels.\n",
        "        '''\n",
        "        batch_mfcc = [mfcc for mfcc, _ in batch] # TODO batch of input mfcc coefficients\n",
        "        batch_transcript = [ts for _, ts in batch] # TODO batch of output phonemes\n",
        "        # HINT: CHECK OUT -> pad_sequence (imported above), also be sure to check the input format (batch_first)\n",
        "        mfcc_all = [len(mfcc) for mfcc, _ in batch]\n",
        "        ts_all = [len(ts) for _, ts in batch]\n",
        "        audio_transforms = nn.Sequential(\n",
        "            PermuteBlock(),\n",
        "            torchaudio.transforms.FrequencyMasking(freq_mask_param=5),\n",
        "            torchaudio.transforms.TimeMasking(time_mask_param=100),\n",
        "            PermuteBlock()\n",
        "        )\n",
        "        # You may apply some transformation, Time and Frequency masking, here in the collate function;\n",
        "        # Food for thought -> Why are we applying the transformation here and not in the __getitem__?\n",
        "        #                  -> Would we apply transformation on the validation set as well?\n",
        "        #                  -> Is the order of axes / dimensions as expected for the transform functions?\n",
        "        # Return the following values: padded features, padded labels, actual length of features, actual length of the labels\n",
        "        padded_features = audio_transforms(pad_sequence(batch_mfcc,batch_first=True))\n",
        "        padded_labels = pad_sequence(batch_transcript,batch_first=True)\n",
        "        return padded_features, padded_labels, torch.tensor(mfcc_all), torch.tensor(ts_all)\n",
        "class PermuteBlock(torch.nn.Module):\n",
        "    def forward(self, x):\n",
        "        return x.transpose(1, 2)"
      ]
    },
    {
      "cell_type": "code",
      "execution_count": 6,
      "metadata": {
        "id": "rjUxBrxZgcNo"
      },
      "outputs": [],
      "source": [
        "class AudioDatasetValid(torch.utils.data.Dataset):\n",
        "    # For this homework, we give you full flexibility to design your data set class. Hint: The data from HW1 is very similar to this HW\n",
        "    def __init__(self, directory, PHONEMES):\n",
        "        # Initializes the dataset. INPUTS: What inputs do you need here? Load the directory and all files in them.\n",
        "        self.mfcc_dir = directory + '/mfcc/' #TODO\n",
        "        self.transcript_dir = directory + '/transcript/' #TODO\n",
        "        self.mfcc_files = sorted(os.listdir(self.mfcc_dir)) #TODO\n",
        "        self.transcript_files = sorted(os.listdir(self.transcript_dir)) #TODO\n",
        "        self.PHONEMES = PHONEMES\n",
        "        self.length = len(self.mfcc_files) # WHAT SHOULD THE LENGTH OF THE DATASET BE?\n",
        "        # HOW CAN WE REPRESENT PHONEMES? CAN WE CREATE A MAPPING FOR THEM? HINT: TENSORS CANNOT STORE NON-NUMERICAL VALUES OR STRINGS\n",
        "        # CREATE AN ARRAY OF ALL FEATUERS AND LABELS WHAT NORMALIZATION TECHNIQUE DID YOU USE IN HW1? CAN WE USE IT HERE?\n",
        "        # You may decide to do this in __getitem__ if you wish. However, doing this here will make\n",
        "        # the __init__ function take the load of loading the data, and shift it away from training.\n",
        "        self.mfccs = []\n",
        "        self.transcripts = []\n",
        "        for i in range(len(self.mfcc_files)):\n",
        "            self.mfccs.append(np.load(self.mfcc_dir + self.mfcc_files[i]))\n",
        "            transcript  = np.load(self.transcript_dir + self.transcript_files[i])[1:-1] # remove sos & eos\n",
        "            self.transcripts.append([self.PHONEMES.index(j) for j in transcript])\n",
        "    def __len__(self):\n",
        "        return self.length\n",
        "    def __getitem__(self, ind):\n",
        "        # RETURN THE MFCC COEFFICIENTS AND ITS CORRESPONDING LABELS\n",
        "        # If you didn't do the loading and processing of the data in __init__, do that here. Once done, return a tuple of features and labels.\n",
        "        return torch.FloatTensor(self.mfccs[ind]), torch.tensor(self.transcripts[ind])\n",
        "    def collate_fn(self, batch):\n",
        "        '''\n",
        "        1.  Extract the features and labels from 'batch'\n",
        "        2.  We will additionally need to pad both features and labels, look at pytorch's docs for pad_sequence\n",
        "        3.  This is a good place to perform transforms, if you so wish. Performing them on batches will speed the process up a bit.\n",
        "        4.  Return batch of features, labels, lenghts of features, and lengths of labels.\n",
        "        '''\n",
        "        batch_mfcc = [mfcc for mfcc, _ in batch] # TODO batch of input mfcc coefficients\n",
        "        batch_transcript = [ts for _, ts in batch] # TODO batch of output phonemes\n",
        "        # HINT: CHECK OUT -> pad_sequence (imported above), also be sure to check the input format (batch_first)\n",
        "        mfcc_all = [len(mfcc) for mfcc, _ in batch]\n",
        "        ts_all = [len(ts) for _, ts in batch]\n",
        "        # You may apply some transformation, Time and Frequency masking, here in the collate function;\n",
        "        # Food for thought -> Why are we applying the transformation here and not in the __getitem__?\n",
        "        #                  -> Would we apply transformation on the validation set as well?\n",
        "        #                  -> Is the order of axes / dimensions as expected for the transform functions?\n",
        "        # Return the following values: padded features, padded labels, actual length of features, actual length of the labels\n",
        "        padded_features = pad_sequence(batch_mfcc,batch_first=True)\n",
        "        padded_labels = pad_sequence(batch_transcript,batch_first=True)\n",
        "        return padded_features, padded_labels, torch.tensor(mfcc_all), torch.tensor(ts_all)"
      ]
    },
    {
      "cell_type": "markdown",
      "metadata": {
        "id": "hqDrxeHfJw4g"
      },
      "source": [
        "### Test Data"
      ]
    },
    {
      "cell_type": "code",
      "execution_count": 7,
      "metadata": {
        "id": "p7Y9eXMEwaa9"
      },
      "outputs": [],
      "source": [
        "class AudioDatasetTest(torch.utils.data.Dataset):\n",
        "  def __init__(self, directory):\n",
        "      self.mfcc_dir = directory + '/mfcc/'\n",
        "      self.mfcc_files = sorted(os.listdir(self.mfcc_dir))\n",
        "      self.length = len(self.mfcc_files)\n",
        "      self.mfccs = []\n",
        "      for i in range(len(self.mfcc_files)):\n",
        "        self.mfccs.append(np.load(self.mfcc_dir + self.mfcc_files[i]))\n",
        "  def __len__(self):\n",
        "      return self.length\n",
        "  def __getitem__(self, ind):\n",
        "      return torch.FloatTensor(self.mfccs[ind])\n",
        "  def collate_fn(self, batch):\n",
        "      batch_mfcc = [mfcc for mfcc in batch]\n",
        "      mfcc_all = list(map(len, batch_mfcc))\n",
        "      padded_features = pad_sequence(batch_mfcc,batch_first=True)\n",
        "      return padded_features, torch.tensor(mfcc_all)"
      ]
    },
    {
      "cell_type": "markdown",
      "metadata": {
        "id": "NmuPk9J6L8dz"
      },
      "source": [
        "### Data loaders"
      ]
    },
    {
      "cell_type": "code",
      "execution_count": 8,
      "metadata": {
        "colab": {
          "base_uri": "https://localhost:8080/"
        },
        "id": "4mzoYfTKu14s",
        "outputId": "e5302299-ddba-41d7-e78d-0104734e885b"
      },
      "outputs": [
        {
          "name": "stdout",
          "output_type": "stream",
          "text": [
            "Train dataset samples = 28539, batches = 446\n",
            "Val dataset samples = 2703, batches = 43\n",
            "Test dataset samples = 2620, batches = 2620\n",
            "sanity check: torch.Size([64, 1688, 27]) torch.Size([64, 206]) torch.Size([64]) torch.Size([64])\n"
          ]
        }
      ],
      "source": [
        "config = {\n",
        "    \"beam_width\" : 5,\n",
        "    \"lr\"         : 0.002,\n",
        "    \"batch_size\" : 64,\n",
        "    \"epochs\"     : 50,\n",
        "    \"watch\": True\n",
        "}\n",
        "gc.collect() # get me RAMMM!!!!\n",
        "train_data = AudioDataset('/content/11-785-s24-hw3p2/train-clean-100', PHONEMES) #TODO Create objects for the dataset class\n",
        "val_data =  AudioDatasetValid('/content/11-785-s24-hw3p2/dev-clean', PHONEMES) # TODO\n",
        "test_data = AudioDatasetTest('/content/11-785-s24-hw3p2/test-clean') #TODO\n",
        "train_loader = torch.utils.data.DataLoader(\n",
        "    dataset     = train_data,\n",
        "    shuffle     = True,\n",
        "    num_workers = 8,\n",
        "    batch_size  = config[\"batch_size\"],\n",
        "    pin_memory  = True,\n",
        "    collate_fn = train_data.collate_fn)\n",
        "val_loader = torch.utils.data.DataLoader(\n",
        "    dataset     = val_data,\n",
        "    shuffle     = False,\n",
        "    num_workers = 4,\n",
        "    batch_size  = config[\"batch_size\"],\n",
        "    pin_memory  = True,\n",
        "    collate_fn = val_data.collate_fn)\n",
        "test_loader = torch.utils.data.DataLoader(\n",
        "    dataset     = test_data,\n",
        "    shuffle     = False,\n",
        "    num_workers = 2,\n",
        "    batch_size  = 1,\n",
        "    pin_memory  = True,\n",
        "    collate_fn = test_data.collate_fn)\n",
        "print(\"Train dataset samples = {}, batches = {}\".format(train_data.__len__(), len(train_loader)))\n",
        "print(\"Val dataset samples = {}, batches = {}\".format(val_data.__len__(), len(val_loader)))\n",
        "print(\"Test dataset samples = {}, batches = {}\".format(test_data.__len__(), len(test_loader)))\n",
        "# sanity check\n",
        "for data in train_loader:\n",
        "    x, y, lx, ly = data\n",
        "    print(\"sanity check:\", x.shape, y.shape, lx.shape, ly.shape)\n",
        "    break"
      ]
    },
    {
      "cell_type": "markdown",
      "metadata": {
        "id": "PB6eh3gnMUzy"
      },
      "source": [
        "### Pyramid Bi-LSTM (pBLSTM)"
      ]
    },
    {
      "cell_type": "code",
      "execution_count": 9,
      "metadata": {
        "id": "OmdyXI6KMUzz"
      },
      "outputs": [],
      "source": [
        "class pBLSTM(torch.nn.Module):\n",
        "    '''\n",
        "    Pyramidal BiLSTM: Read the write up/paper and understand the concepts and then write your implementation here. At each step:\n",
        "    1. Pad your input if it is packed (Unpack it)\n",
        "    2. Reduce the input length dimension by concatenating feature dimension (Tip: Write down the shapes and understand)\n",
        "        (i) How should  you deal with odd/even length input? (ii) How should you deal with input length array (x_lens) after truncating the input?\n",
        "    3. Pack your input\n",
        "    4. Pass it into LSTM layer\n",
        "    To make our implementation modular, we pass 1 layer at a time.\n",
        "    '''\n",
        "    def __init__(self, input_size, hidden_size):\n",
        "        super(pBLSTM, self).__init__()\n",
        "        # TODO: Initialize a single layer bidirectional LSTM with the given input_size and hidden_size\n",
        "        self.blstm = nn.LSTM(input_size=2*input_size,hidden_size=hidden_size,num_layers=1,bidirectional=True,dropout=0.25,batch_first=True)\n",
        "    def forward(self, x_packed): # x_packed is a PackedSequence\n",
        "        x, unpacked = pad_packed_sequence(x_packed, batch_first=True) # TODO: Pad Packed Sequence\n",
        "        # Call self.trunc_reshape() which downsamples the time steps of x and increases the feature dimensions as mentioned above\n",
        "        x, x_lens = self.trunc_reshape(x, unpacked) # self.trunc_reshape will return 2 outputs.\n",
        "        x = pack_padded_sequence(x, x_lens, batch_first=True, enforce_sorted=False) # TODO: Pack Padded Sequence. What output(s) would you get?\n",
        "        x, _ = self.blstm(x) # TODO: Pass the sequence through bLSTM\n",
        "        return x\n",
        "    def trunc_reshape(self, x, x_lens):\n",
        "        # TODO: If you have odd number of timesteps, how can you handle it? (Hint: You can exclude them)\n",
        "        x = x[:, :-1, :] if x.shape[1] % 2 != 0 else x\n",
        "        # TODO: Reshape x, while reducing number of timesteps by a downsampling factor while increasing number of features by the same factor\n",
        "        # TODO: Reduce lengths by the same downsampling factor\n",
        "        return x.reshape(x.shape[0], x.shape[1]//2, x.shape[2]*2), x_lens//2"
      ]
    },
    {
      "cell_type": "markdown",
      "metadata": {
        "id": "g3ZQ75OcMUz0"
      },
      "source": [
        "### Encoder"
      ]
    },
    {
      "cell_type": "code",
      "execution_count": 10,
      "metadata": {
        "id": "GEzw5_xmMUz0"
      },
      "outputs": [],
      "source": [
        "class lDropout(nn.Module):\n",
        "    def __init__(self, p):\n",
        "        super(lDropout, self).__init__()\n",
        "        self.p = p\n",
        "    def forward(self, x):\n",
        "        if not self.training or not self.p: return x # turn it off during inference\n",
        "        else:\n",
        "          x, x_lens = pad_packed_sequence(x, batch_first=True)\n",
        "          m = (x.new_empty(x.size(0), 1, x.size(2), requires_grad=False).bernoulli_(1 - self.p)) / (1 - self.p)\n",
        "          return pack_padded_sequence(x*(m.expand_as(x)), x_lens, batch_first=True, enforce_sorted=False)\n",
        "class Encoder(torch.nn.Module):\n",
        "    # The Encoder takes utterances as inputs and returns latent feature representations\n",
        "    def __init__(self, input_size, encoder_hidden_size):\n",
        "        super(Encoder, self).__init__()\n",
        "        self.dim = [128, 256]\n",
        "        #TODO: You can use CNNs as Embedding layer to extract features. Keep in mind the Input dimensions and expected dimension of Pytorch CNN.\n",
        "        self.embedding = torch.nn.Sequential(\n",
        "            PermuteBlock(),\n",
        "            nn.Conv1d(in_channels=input_size, out_channels=self.dim[0], kernel_size=3, stride=1, padding=1),\n",
        "            nn.BatchNorm1d(num_features=self.dim[0]),\n",
        "            nn.GELU(),\n",
        "            nn.Conv1d(in_channels=self.dim[0], out_channels=self.dim[1], kernel_size=3, stride=1, padding=1),\n",
        "            nn.BatchNorm1d(num_features=self.dim[1]),\n",
        "            PermuteBlock())\n",
        "        self.pBLSTMs = torch.nn.Sequential( # How many pBLSTMs are required?\n",
        "            # TODO: Fill this up with pBLSTMs - What should the input_size be?\n",
        "            # Hint: You are downsampling timesteps by a factor of 2, upsampling features by a factor of 2 and the LSTM is bidirectional)\n",
        "            # Optional: Dropout/Locked Dropout after each pBLSTM (Not needed for early submission)\n",
        "            # https://github.com/salesforce/awd-lstm-lm/blob/dfd3cb0235d2caf2847a4d53e1cbd495b781b5d2/locked_dropout.py#L5\n",
        "            pBLSTM(input_size=self.dim[1], hidden_size=encoder_hidden_size),\n",
        "            lDropout(0.4),\n",
        "            pBLSTM(input_size=2*encoder_hidden_size, hidden_size=encoder_hidden_size),\n",
        "            lDropout(0.25)\n",
        "        )\n",
        "    def forward(self, x, x_lens): # Where are x and x_lens coming from? The dataloader\n",
        "        #TODO: Call the embedding layer and the Pack Padded Sequence\n",
        "        x = self.embedding(x)\n",
        "        x = pack_padded_sequence(x, x_lens.clamp(max=x.shape[1]), batch_first=True, enforce_sorted=False)\n",
        "        x = self.pBLSTMs(x) #TODO: Pass Sequence through the pyramidal Bi-LSTM layer\n",
        "        encoder_outputs, encoder_lens = pad_packed_sequence(x, batch_first=True) #TODO: Pad Packed Sequence\n",
        "        return encoder_outputs, encoder_lens"
      ]
    },
    {
      "cell_type": "markdown",
      "metadata": {
        "id": "kg82HXa3MUz1"
      },
      "source": [
        "### Decoder"
      ]
    },
    {
      "cell_type": "code",
      "execution_count": 11,
      "metadata": {
        "id": "PQIRxdNTMUz1"
      },
      "outputs": [],
      "source": [
        "class Decoder(torch.nn.Module):\n",
        "    def __init__(self, embed_size, output_size=41):\n",
        "        super().__init__()\n",
        "        self.mlp = torch.nn.Sequential(\n",
        "            PermuteBlock(), \n",
        "            torch.nn.BatchNorm1d(embed_size), \n",
        "            PermuteBlock(),\n",
        "            #TODO define your MLP arch. Refer HW1P2. Use Permute Block before and after BatchNorm1d() to match the size\n",
        "            nn.Linear(embed_size, 2048),\n",
        "            nn.GELU(),\n",
        "            PermuteBlock(), \n",
        "            torch.nn.BatchNorm1d(2048), \n",
        "            PermuteBlock(),\n",
        "            nn.Dropout(0.25),\n",
        "            nn.Linear(2048, 1024),\n",
        "            nn.GELU(),\n",
        "            PermuteBlock(), \n",
        "            torch.nn.BatchNorm1d(1024), \n",
        "            PermuteBlock(),\n",
        "            nn.Dropout(0.25),\n",
        "            nn.Linear(1024, output_size)\n",
        "        )\n",
        "        self.softmax = torch.nn.LogSoftmax(dim=2)\n",
        "    def forward(self, encoder_out):\n",
        "        #TODO call your MLP, think what should be the final output of the decoder for the classification\n",
        "        return self.softmax(self.mlp(encoder_out))\n",
        "class ASRModel(torch.nn.Module):\n",
        "    def __init__(self, input, embed=192, output=len(PHONEMES)):\n",
        "        super().__init__()\n",
        "        self.encoder = Encoder(input, embed) # TODO: Initialize Encoder\n",
        "        self.decoder = Decoder(embed*2, output) # TODO: Initialize Decoder\n",
        "    def forward(self, x, lengths_x):\n",
        "        encoder_out, encoder_lens = self.encoder(x, lengths_x)\n",
        "        decoder_out = self.decoder(encoder_out)\n",
        "        return decoder_out, encoder_lens"
      ]
    },
    {
      "cell_type": "markdown",
      "metadata": {
        "id": "IBwunYpyugFg"
      },
      "source": [
        "# Initialize model"
      ]
    },
    {
      "cell_type": "code",
      "execution_count": 12,
      "metadata": {
        "id": "iGoozH2nd6KB"
      },
      "outputs": [],
      "source": [
        "model = ASRModel(input=27, embed=512, output=len(PHONEMES)).to(device)\n",
        "criterion = torch.nn.CTCLoss(blank=0, reduction='mean', zero_infinity=False) # Define CTC loss as the criterion\n",
        "# CTC Loss: https://pytorch.org/docs/stable/generated/torch.nn.CTCLoss.html\n",
        "optimizer = torch.optim.AdamW(model.parameters(), lr=config['lr']) # What goes in here?\n",
        "# Declare the decoder. Use the CTC Beam Decoder to decode phonemes\n",
        "decoder = CTCBeamDecoder(LABELS, beam_width=config[\"beam_width\"], log_probs_input=True) # TODO Doc: https://github.com/parlance/ctcdecode\n",
        "scheduler = torch.optim.lr_scheduler.ReduceLROnPlateau(optimizer, mode='min', patience=4, threshold=1e-2) #TODO\n",
        "scaler = torch.cuda.amp.GradScaler() # Mixed Precision, if you need it"
      ]
    },
    {
      "cell_type": "markdown",
      "metadata": {
        "id": "Jmc6_4eWL2Xp"
      },
      "source": [
        "# Decode Prediction"
      ]
    },
    {
      "cell_type": "code",
      "execution_count": 13,
      "metadata": {
        "id": "KHjnCDddL36E"
      },
      "outputs": [],
      "source": [
        "def decode_prediction(output, output_lens, decoder, PHONEME_MAP=LABELS):\n",
        "    # TODO: look at docs for CTC.decoder and find out what is returned here. Check the shape of output and expected shape in decode.\n",
        "    beam, _, _, seq = decoder.decode(output, seq_lens=output_lens) #lengths - list of lengths\n",
        "    pred_strings = []\n",
        "    for i in range(output_lens.shape[0]):\n",
        "        #TODO: Create the prediction from the output of decoder.decode. Don't forget to map it using PHONEMES_MAP.\n",
        "        pred_strings.append(''.join([PHONEME_MAP[n] for n in beam[i][0][:seq[i][0]]]))\n",
        "    return pred_strings\n",
        "def calculate_levenshtein(output, label, output_lens, label_lens, decoder, PHONEME_MAP= LABELS): # y - sequence of integers\n",
        "    dist            = 0\n",
        "    batch_size      = label.shape[0]\n",
        "    pred_strings    = decode_prediction(output, output_lens, decoder, PHONEME_MAP)\n",
        "    for i in range(batch_size): # TODO: Get predicted string and label string for each element in the batch\n",
        "        pred_string = pred_strings[i] #TODO\n",
        "        label_string = ''.join([PHONEME_MAP[n] for n in label[i][:label_lens[i]]]) #TODO\n",
        "        dist += Levenshtein.distance(pred_string, label_string)\n",
        "    dist /= batch_size # TODO: Uncomment this, but think about why we are doing this\n",
        "    return dist"
      ]
    },
    {
      "cell_type": "markdown",
      "metadata": {
        "id": "0Qk9iZud1LXT"
      },
      "source": [
        "# Test Implementation"
      ]
    },
    {
      "cell_type": "code",
      "execution_count": 14,
      "metadata": {
        "colab": {
          "base_uri": "https://localhost:8080/"
        },
        "id": "GnTLL-5gMBrY",
        "outputId": "83cfc4e1-a1b8-4d7c-bb63-a7bea65c114c"
      },
      "outputs": [
        {
          "name": "stdout",
          "output_type": "stream",
          "text": [
            "torch.Size([64, 734, 41])\n",
            "201.703125\n",
            "torch.Size([734, 64, 41]) torch.Size([64, 265])\n",
            "tensor(7.6629, device='cuda:0', grad_fn=<MeanBackward0>)\n"
          ]
        }
      ],
      "source": [
        "model.eval()\n",
        "for i, data in enumerate(val_loader, 0):\n",
        "    x, y, lx, ly = data\n",
        "    x, y = x.to(device), y.to(device)\n",
        "    h, lh = model(x, lx)\n",
        "    print(h.shape)\n",
        "    print(calculate_levenshtein(h, y, lx, ly, decoder, LABELS))\n",
        "    h = torch.permute(h, (1, 0, 2))\n",
        "    print(h.shape, y.shape)\n",
        "    loss = criterion(h, y, lh, ly)\n",
        "    print(loss)\n",
        "    break"
      ]
    },
    {
      "cell_type": "markdown",
      "metadata": {
        "id": "rd5aNaLVoR_g"
      },
      "source": [
        "# WandB"
      ]
    },
    {
      "cell_type": "code",
      "execution_count": null,
      "metadata": {
        "colab": {
          "base_uri": "https://localhost:8080/",
          "height": 211
        },
        "id": "4s52yBOvICPZ",
        "outputId": "80221039-1a33-4d9c-ee40-45b73ec7fafb"
      },
      "outputs": [
        {
          "name": "stdout",
          "output_type": "stream",
          "text": [
            "initializing wandb watch for current experiment\n"
          ]
        },
        {
          "name": "stderr",
          "output_type": "stream",
          "text": [
            "\u001b[34m\u001b[1mwandb\u001b[0m: W&B API key is configured. Use \u001b[1m`wandb login --relogin`\u001b[0m to force relogin\n",
            "\u001b[34m\u001b[1mwandb\u001b[0m: \u001b[33mWARNING\u001b[0m If you're specifying your api key in code, ensure this code is not shared publicly.\n",
            "\u001b[34m\u001b[1mwandb\u001b[0m: \u001b[33mWARNING\u001b[0m Consider setting the WANDB_API_KEY environment variable, or running `wandb login` from the command line.\n",
            "\u001b[34m\u001b[1mwandb\u001b[0m: Appending key for api.wandb.ai to your netrc file: /root/.netrc\n",
            "\u001b[34m\u001b[1mwandb\u001b[0m: Currently logged in as: \u001b[33mdunhanj\u001b[0m (\u001b[33mdunhan\u001b[0m). Use \u001b[1m`wandb login --relogin`\u001b[0m to force relogin\n"
          ]
        },
        {
          "data": {
            "text/html": [
              "Tracking run with wandb version 0.16.5"
            ],
            "text/plain": [
              "<IPython.core.display.HTML object>"
            ]
          },
          "metadata": {},
          "output_type": "display_data"
        },
        {
          "data": {
            "text/html": [
              "Run data is saved locally in <code>/content/wandb/run-20240326_115444-8sbidnq9</code>"
            ],
            "text/plain": [
              "<IPython.core.display.HTML object>"
            ]
          },
          "metadata": {},
          "output_type": "display_data"
        },
        {
          "data": {
            "text/html": [
              "Syncing run <strong><a href='https://wandb.ai/dunhan/hw3p2-ablations/runs/8sbidnq9/workspace' target=\"_blank\">early-submission</a></strong> to <a href='https://wandb.ai/dunhan/hw3p2-ablations' target=\"_blank\">Weights & Biases</a> (<a href='https://wandb.me/run' target=\"_blank\">docs</a>)<br/>"
            ],
            "text/plain": [
              "<IPython.core.display.HTML object>"
            ]
          },
          "metadata": {},
          "output_type": "display_data"
        },
        {
          "data": {
            "text/html": [
              " View project at <a href='https://wandb.ai/dunhan/hw3p2-ablations' target=\"_blank\">https://wandb.ai/dunhan/hw3p2-ablations</a>"
            ],
            "text/plain": [
              "<IPython.core.display.HTML object>"
            ]
          },
          "metadata": {},
          "output_type": "display_data"
        },
        {
          "data": {
            "text/html": [
              " View run at <a href='https://wandb.ai/dunhan/hw3p2-ablations/runs/8sbidnq9/workspace' target=\"_blank\">https://wandb.ai/dunhan/hw3p2-ablations/runs/8sbidnq9/workspace</a>"
            ],
            "text/plain": [
              "<IPython.core.display.HTML object>"
            ]
          },
          "metadata": {},
          "output_type": "display_data"
        }
      ],
      "source": [
        "if config['watch']:\n",
        "  print(\"initializing wandb watch for current experiment\")\n",
        "  wandb.login(key=\"e82cd60c71ce53e010026113443de725b0d4fb58\")\n",
        "  run = wandb.init(\n",
        "    name = \"early-submission\", ## Wandb creates random run names if you skip this field\n",
        "    reinit = True, ### Allows reinitalizing runs when you re-run this cell\n",
        "    # run_id = \"4219x9e1\", # Insert specific run id here if you want to resume a previous run\n",
        "    # resume = \"must\", ### You need this to resume previous runs, but comment out reinit = True when using this\n",
        "    project = \"hw3p2-ablations\", ### Project should be created in your wandb account\n",
        "    config = config ### Wandb Config for your run\n",
        "  )"
      ]
    },
    {
      "cell_type": "markdown",
      "metadata": {
        "id": "6fLLj5KIMMOe"
      },
      "source": [
        "# Train Functions"
      ]
    },
    {
      "cell_type": "code",
      "execution_count": 15,
      "metadata": {
        "id": "ri87MAdhMUz5"
      },
      "outputs": [],
      "source": [
        "def train_model(model, train_loader, criterion, optimizer):\n",
        "    model.train()\n",
        "    batch_bar = tqdm(total=len(train_loader), dynamic_ncols=True, leave=False, position=0, desc='Train')\n",
        "    total_loss = 0\n",
        "    for i, data in enumerate(train_loader):\n",
        "        optimizer.zero_grad()\n",
        "        x, y, lx, ly = data\n",
        "        x, y = x.to(device), y.to(device)\n",
        "        with torch.cuda.amp.autocast():\n",
        "            h, lh = model(x, lx)\n",
        "            h = torch.permute(h, (1, 0, 2))\n",
        "            loss = criterion(h, y, lh, ly)\n",
        "        total_loss += loss.item()\n",
        "        batch_bar.set_postfix(\n",
        "            loss=\"{:.04f}\".format(float(total_loss / (i + 1))),\n",
        "            lr=\"{:.06f}\".format(float(optimizer.param_groups[0]['lr'])))\n",
        "        batch_bar.update() # Update tqdm bar\n",
        "        # Another couple things you need for FP16.\n",
        "        scaler.scale(loss).backward() # This is a replacement for loss.backward()\n",
        "        scaler.step(optimizer) # This is a replacement for optimizer.step()\n",
        "        scaler.update() # This is something added just for FP16\n",
        "        del x, y, lx, ly, h, lh, loss\n",
        "        torch.cuda.empty_cache()\n",
        "    batch_bar.close() # You need this to close the tqdm bar\n",
        "    return total_loss / len(train_loader)\n",
        "def validate_model(model, val_loader, decoder, phoneme_map= LABELS):\n",
        "    model.eval()\n",
        "    batch_bar = tqdm(total=len(val_loader), dynamic_ncols=True, position=0, leave=False, desc='Val')\n",
        "    total_loss = 0\n",
        "    vdist = 0\n",
        "    for i, data in enumerate(val_loader):\n",
        "        x, y, lx, ly = data\n",
        "        x, y = x.to(device), y.to(device)\n",
        "        with torch.inference_mode():\n",
        "            h, lh = model(x, lx)\n",
        "            h = torch.permute(h, (1, 0, 2))\n",
        "            loss = criterion(h, y, lh, ly)\n",
        "        total_loss += float(loss)\n",
        "        vdist += calculate_levenshtein(torch.permute(h, (1, 0, 2)), y, lh, ly, decoder, phoneme_map)\n",
        "        batch_bar.set_postfix(loss=\"{:.04f}\".format(float(total_loss / (i + 1))), dist=\"{:.04f}\".format(float(vdist / (i + 1))))\n",
        "        batch_bar.update()\n",
        "        del x, y, lx, ly, h, lh, loss\n",
        "        torch.cuda.empty_cache()\n",
        "    batch_bar.close()\n",
        "    total_loss = total_loss/len(val_loader)\n",
        "    val_dist = vdist/len(val_loader)\n",
        "    return total_loss, val_dist"
      ]
    },
    {
      "cell_type": "markdown",
      "metadata": {
        "id": "qpYExu4vT4_g"
      },
      "source": [
        "## Training Setup"
      ]
    },
    {
      "cell_type": "code",
      "execution_count": 16,
      "metadata": {
        "id": "husa5_EYMUz6"
      },
      "outputs": [],
      "source": [
        "def save_model(model, optimizer, scheduler, metric, epoch, path):\n",
        "    torch.save(\n",
        "        {'model_state_dict'         : model.state_dict(),\n",
        "         'optimizer_state_dict'     : optimizer.state_dict(),\n",
        "         'scheduler_state_dict'     : scheduler.state_dict(),\n",
        "         metric[0]                  : metric[1],\n",
        "         'epoch'                    : epoch},\n",
        "         path\n",
        "    )\n",
        "def load_model(path, model, metric='valid_acc', optimizer=None, scheduler=None):\n",
        "    checkpoint = torch.load(path)\n",
        "    model.load_state_dict(checkpoint['model_state_dict'])\n",
        "    if optimizer != None:\n",
        "        optimizer.load_state_dict(checkpoint['optimizer_state_dict'])\n",
        "    if scheduler != None:\n",
        "        scheduler.load_state_dict(checkpoint['scheduler_state_dict'])\n",
        "    return model"
      ]
    },
    {
      "cell_type": "code",
      "execution_count": 17,
      "metadata": {
        "id": "tExvyl1BIdMC"
      },
      "outputs": [],
      "source": [
        "# This is for checkpointing, if you're doing it over multiple sessions\n",
        "last_epoch_completed = 0\n",
        "start = last_epoch_completed\n",
        "end = config[\"epochs\"]\n",
        "best_lev_dist = float(\"inf\") # if you're restarting from some checkpoint, use what you saw there.\n",
        "best_model_path = '/content/best_early_submission.pth' #TODO set best model path"
      ]
    },
    {
      "cell_type": "code",
      "execution_count": null,
      "metadata": {
        "colab": {
          "base_uri": "https://localhost:8080/",
          "height": 522,
          "referenced_widgets": [
            "d3e163320e9447fe8ae862f855b3cb62",
            "6a8edb0e9dbb4a14bc32a5e191651772",
            "f34423f24a5b443bb9c85af561e50e21",
            "ebe06b12361544d58a6bc5cf69b1c2c3",
            "7a3fc81d3f1a473fa2dd655e90fb1224",
            "f895043eeca64bedb0cde07d4d4d4c8f",
            "57b3ae310f994f588d05979977a4f58c",
            "e38dc4a57ed64dc59b63675f504a4e16"
          ]
        },
        "id": "JR43E28rM9Ak",
        "outputId": "bd5f8ddf-d1bf-4b2b-b155-47a4da1d9a8e"
      },
      "outputs": [
        {
          "name": "stdout",
          "output_type": "stream",
          "text": [
            "Epoch: 1/5\n"
          ]
        },
        {
          "name": "stderr",
          "output_type": "stream",
          "text": []
        },
        {
          "name": "stdout",
          "output_type": "stream",
          "text": [
            "\ttrain_loss 0.2194\t lr 0.00020\t val_loss 0.2581%\t val_dist 4.9390\n"
          ]
        },
        {
          "name": "stderr",
          "output_type": "stream",
          "text": [
            "\u001b[34m\u001b[1mwandb\u001b[0m: \u001b[33mWARNING\u001b[0m Saving files without folders. If you want to preserve subdirectories pass base_path to wandb.save, i.e. wandb.save(\"/mnt/folder/file.h5\", base_path=\"/mnt\")\n"
          ]
        },
        {
          "name": "stdout",
          "output_type": "stream",
          "text": [
            "the best model saved\n",
            "Epoch: 2/5\n"
          ]
        },
        {
          "name": "stderr",
          "output_type": "stream",
          "text": []
        },
        {
          "name": "stdout",
          "output_type": "stream",
          "text": [
            "\ttrain_loss 0.2205\t lr 0.00020\t val_loss 0.2597%\t val_dist 4.8538\n",
            "the best model saved\n",
            "Epoch: 3/5\n"
          ]
        },
        {
          "name": "stderr",
          "output_type": "stream",
          "text": []
        },
        {
          "name": "stdout",
          "output_type": "stream",
          "text": [
            "\ttrain_loss 0.2192\t lr 0.00020\t val_loss 0.2611%\t val_dist 4.9212\n",
            "Epoch: 4/5\n"
          ]
        },
        {
          "name": "stderr",
          "output_type": "stream",
          "text": []
        },
        {
          "name": "stdout",
          "output_type": "stream",
          "text": [
            "\ttrain_loss 0.2148\t lr 0.00020\t val_loss 0.2616%\t val_dist 4.9159\n",
            "Epoch: 5/5\n"
          ]
        },
        {
          "name": "stderr",
          "output_type": "stream",
          "text": []
        },
        {
          "name": "stdout",
          "output_type": "stream",
          "text": [
            "\ttrain_loss 0.2135\t lr 0.00020\t val_loss 0.2603%\t val_dist 4.8491\n",
            "the best model saved\n"
          ]
        },
        {
          "data": {
            "application/vnd.jupyter.widget-view+json": {
              "model_id": "d3e163320e9447fe8ae862f855b3cb62",
              "version_major": 2,
              "version_minor": 0
            },
            "text/plain": [
              "VBox(children=(Label(value='218.135 MB of 218.135 MB uploaded\\r'), FloatProgress(value=1.0, max=1.0)))"
            ]
          },
          "metadata": {},
          "output_type": "display_data"
        },
        {
          "data": {
            "text/html": [
              "<style>\n",
              "    table.wandb td:nth-child(1) { padding: 0 10px; text-align: left ; width: auto;} td:nth-child(2) {text-align: left ; width: 100%}\n",
              "    .wandb-row { display: flex; flex-direction: row; flex-wrap: wrap; justify-content: flex-start; width: 100% }\n",
              "    .wandb-col { display: flex; flex-direction: column; flex-basis: 100%; flex: 1; padding: 10px; }\n",
              "    </style>\n",
              "<div class=\"wandb-row\"><div class=\"wandb-col\"><h3>Run history:</h3><br/><table class=\"wandb\"><tr><td>lr</td><td>▁▁▁▁▁</td></tr><tr><td>train_loss</td><td>▇█▇▂▁</td></tr><tr><td>valid_dist</td><td>█▁▇▆▁</td></tr><tr><td>valid_loss</td><td>▁▄▇█▅</td></tr></table><br/></div><div class=\"wandb-col\"><h3>Run summary:</h3><br/><table class=\"wandb\"><tr><td>lr</td><td>0.0002</td></tr><tr><td>train_loss</td><td>0.21345</td></tr><tr><td>valid_dist</td><td>4.84913</td></tr><tr><td>valid_loss</td><td>0.26025</td></tr></table><br/></div></div>"
            ],
            "text/plain": [
              "<IPython.core.display.HTML object>"
            ]
          },
          "metadata": {},
          "output_type": "display_data"
        },
        {
          "data": {
            "text/html": [
              " View run <strong style=\"color:#cdcd00\">early-submission</strong> at: <a href='https://wandb.ai/dunhan/hw3p2-ablations/runs/8sbidnq9/workspace' target=\"_blank\">https://wandb.ai/dunhan/hw3p2-ablations/runs/8sbidnq9/workspace</a><br/>Synced 5 W&B file(s), 0 media file(s), 0 artifact file(s) and 1 other file(s)"
            ],
            "text/plain": [
              "<IPython.core.display.HTML object>"
            ]
          },
          "metadata": {},
          "output_type": "display_data"
        },
        {
          "data": {
            "text/html": [
              "Find logs at: <code>./wandb/run-20240326_115444-8sbidnq9/logs</code>"
            ],
            "text/plain": [
              "<IPython.core.display.HTML object>"
            ]
          },
          "metadata": {},
          "output_type": "display_data"
        }
      ],
      "source": [
        "# model = load_model(best_model_path, model)\n",
        "torch.cuda.empty_cache()\n",
        "gc.collect()\n",
        "#TODO: Please complete the training loop\n",
        "for epoch in range(0, config['epochs']):\n",
        "    print(\"Epoch: {}/{}\".format(epoch+1, config['epochs']))\n",
        "    curr_lr = float(optimizer.param_groups[0]['lr']) #TODO\n",
        "    train_loss = train_model(model, train_loader, criterion, optimizer) #TODO\n",
        "    valid_loss, valid_dist = validate_model(model, val_loader, decoder, phoneme_map=LABELS) #TODO\n",
        "    scheduler.step(valid_dist)\n",
        "    print(\"\\ttrain_loss {:.04f}\\t lr {:.05f}\\t val_loss {:.04f}%\\t val_dist {:.04f}\".format(train_loss, curr_lr, valid_loss, valid_dist))\n",
        "    if config['watch']:\n",
        "      wandb.log({\n",
        "          'train_loss': train_loss,\n",
        "          'valid_dist': valid_dist,\n",
        "          'valid_loss': valid_loss,\n",
        "          'lr'        : curr_lr\n",
        "      })\n",
        "    if valid_dist <= best_lev_dist:\n",
        "        best_lev_dist = valid_dist\n",
        "        save_model(model, optimizer, scheduler, ['valid_dist', valid_dist], epoch, best_model_path)\n",
        "        if config['watch']:\n",
        "          wandb.save(best_model_path)\n",
        "        print(\"the best model saved\")\n",
        "run.finish()"
      ]
    },
    {
      "cell_type": "markdown",
      "metadata": {
        "id": "M2H4EEj-sD32"
      },
      "source": [
        "# Generate Predictions and Submit to Kaggle"
      ]
    },
    {
      "cell_type": "code",
      "execution_count": 19,
      "metadata": {
        "colab": {
          "base_uri": "https://localhost:8080/"
        },
        "id": "2moYJhTWsOG-",
        "outputId": "3d522d53-8a61-47a3-d764-c01c463e56dc"
      },
      "outputs": [
        {
          "name": "stderr",
          "output_type": "stream",
          "text": [
            "100%|██████████| 2620/2620 [03:24<00:00, 12.84it/s]\n"
          ]
        }
      ],
      "source": [
        "best_model = load_model(best_model_path, model)\n",
        "#TODO: Make predictions. Follow the steps below:\n",
        "# 1. Create a new object for CTCBeamDecoder with larger (why?) number of beams\n",
        "# 2. Get prediction string by decoding the results of the beam decoder\n",
        "TEST_BEAM_WIDTH = 40\n",
        "test_decoder =  CTCBeamDecoder(LABELS, beam_width = TEST_BEAM_WIDTH, log_probs_input = True)\n",
        "results = []\n",
        "best_model.eval()\n",
        "for data in tqdm(test_loader):\n",
        "    x, lx   = data\n",
        "    x       = x.to(device)\n",
        "    with torch.no_grad():\n",
        "        h, lh = best_model(x, lx)\n",
        "    prediction_string= decode_prediction(h, lh, test_decoder) # TODO call decode_prediction\n",
        "    #TODO save the output in results array.\n",
        "    results.extend(prediction_string)\n",
        "    del x, lx, h, lh\n",
        "    torch.cuda.empty_cache()"
      ]
    },
    {
      "cell_type": "code",
      "execution_count": 20,
      "metadata": {
        "id": "d70dvu_lsMlv"
      },
      "outputs": [],
      "source": [
        "data_dir = \"/content/11-785-s24-hw3p2/test-clean/random_submission.csv\"\n",
        "df = pd.read_csv(data_dir)\n",
        "df.label = results\n",
        "df.to_csv('submission.csv', index=False)"
      ]
    },
    {
      "cell_type": "code",
      "execution_count": 21,
      "metadata": {
        "colab": {
          "base_uri": "https://localhost:8080/"
        },
        "id": "m1sZmEIs4yIz",
        "outputId": "c359c1ba-1695-4c73-a6c1-52e47830b6aa"
      },
      "outputs": [
        {
          "name": "stdout",
          "output_type": "stream",
          "text": [
            "Warning: Looks like you're using an outdated API Version, please consider updating (server 1.6.7 / client 1.5.8)\n",
            "100% 209k/209k [00:01<00:00, 114kB/s]\n",
            "Successfully submitted to HW3P2_ASR-S24"
          ]
        }
      ],
      "source": [
        "!kaggle competitions submit -c hw3p2asr-s24 -f submission.csv -m \"I made it!\""
      ]
    }
  ],
  "metadata": {
    "accelerator": "GPU",
    "colab": {
      "provenance": []
    },
    "kernelspec": {
      "display_name": "Python 3",
      "language": "python",
      "name": "python3"
    },
    "language_info": {
      "codemirror_mode": {
        "name": "ipython",
        "version": 3
      },
      "file_extension": ".py",
      "mimetype": "text/x-python",
      "name": "python",
      "nbconvert_exporter": "python",
      "pygments_lexer": "ipython3",
      "version": "3.10.13"
    },
    "vscode": {
      "interpreter": {
        "hash": "bd385fe162c5ca0c84973b7dd5c518456272446b2b64e67c2a69f949ca7a1754"
      }
    },
    "widgets": {
      "application/vnd.jupyter.widget-state+json": {
        "57b3ae310f994f588d05979977a4f58c": {
          "model_module": "@jupyter-widgets/base",
          "model_module_version": "1.2.0",
          "model_name": "LayoutModel",
          "state": {
            "_model_module": "@jupyter-widgets/base",
            "_model_module_version": "1.2.0",
            "_model_name": "LayoutModel",
            "_view_count": null,
            "_view_module": "@jupyter-widgets/base",
            "_view_module_version": "1.2.0",
            "_view_name": "LayoutView",
            "align_content": null,
            "align_items": null,
            "align_self": null,
            "border": null,
            "bottom": null,
            "display": null,
            "flex": null,
            "flex_flow": null,
            "grid_area": null,
            "grid_auto_columns": null,
            "grid_auto_flow": null,
            "grid_auto_rows": null,
            "grid_column": null,
            "grid_gap": null,
            "grid_row": null,
            "grid_template_areas": null,
            "grid_template_columns": null,
            "grid_template_rows": null,
            "height": null,
            "justify_content": null,
            "justify_items": null,
            "left": null,
            "margin": null,
            "max_height": null,
            "max_width": null,
            "min_height": null,
            "min_width": null,
            "object_fit": null,
            "object_position": null,
            "order": null,
            "overflow": null,
            "overflow_x": null,
            "overflow_y": null,
            "padding": null,
            "right": null,
            "top": null,
            "visibility": null,
            "width": null
          }
        },
        "6a8edb0e9dbb4a14bc32a5e191651772": {
          "model_module": "@jupyter-widgets/controls",
          "model_module_version": "1.5.0",
          "model_name": "LabelModel",
          "state": {
            "_dom_classes": [],
            "_model_module": "@jupyter-widgets/controls",
            "_model_module_version": "1.5.0",
            "_model_name": "LabelModel",
            "_view_count": null,
            "_view_module": "@jupyter-widgets/controls",
            "_view_module_version": "1.5.0",
            "_view_name": "LabelView",
            "description": "",
            "description_tooltip": null,
            "layout": "IPY_MODEL_7a3fc81d3f1a473fa2dd655e90fb1224",
            "placeholder": "​",
            "style": "IPY_MODEL_f895043eeca64bedb0cde07d4d4d4c8f",
            "value": "218.147 MB of 218.147 MB uploaded\r"
          }
        },
        "7a3fc81d3f1a473fa2dd655e90fb1224": {
          "model_module": "@jupyter-widgets/base",
          "model_module_version": "1.2.0",
          "model_name": "LayoutModel",
          "state": {
            "_model_module": "@jupyter-widgets/base",
            "_model_module_version": "1.2.0",
            "_model_name": "LayoutModel",
            "_view_count": null,
            "_view_module": "@jupyter-widgets/base",
            "_view_module_version": "1.2.0",
            "_view_name": "LayoutView",
            "align_content": null,
            "align_items": null,
            "align_self": null,
            "border": null,
            "bottom": null,
            "display": null,
            "flex": null,
            "flex_flow": null,
            "grid_area": null,
            "grid_auto_columns": null,
            "grid_auto_flow": null,
            "grid_auto_rows": null,
            "grid_column": null,
            "grid_gap": null,
            "grid_row": null,
            "grid_template_areas": null,
            "grid_template_columns": null,
            "grid_template_rows": null,
            "height": null,
            "justify_content": null,
            "justify_items": null,
            "left": null,
            "margin": null,
            "max_height": null,
            "max_width": null,
            "min_height": null,
            "min_width": null,
            "object_fit": null,
            "object_position": null,
            "order": null,
            "overflow": null,
            "overflow_x": null,
            "overflow_y": null,
            "padding": null,
            "right": null,
            "top": null,
            "visibility": null,
            "width": null
          }
        },
        "d3e163320e9447fe8ae862f855b3cb62": {
          "model_module": "@jupyter-widgets/controls",
          "model_module_version": "1.5.0",
          "model_name": "VBoxModel",
          "state": {
            "_dom_classes": [],
            "_model_module": "@jupyter-widgets/controls",
            "_model_module_version": "1.5.0",
            "_model_name": "VBoxModel",
            "_view_count": null,
            "_view_module": "@jupyter-widgets/controls",
            "_view_module_version": "1.5.0",
            "_view_name": "VBoxView",
            "box_style": "",
            "children": [
              "IPY_MODEL_6a8edb0e9dbb4a14bc32a5e191651772",
              "IPY_MODEL_f34423f24a5b443bb9c85af561e50e21"
            ],
            "layout": "IPY_MODEL_ebe06b12361544d58a6bc5cf69b1c2c3"
          }
        },
        "e38dc4a57ed64dc59b63675f504a4e16": {
          "model_module": "@jupyter-widgets/controls",
          "model_module_version": "1.5.0",
          "model_name": "ProgressStyleModel",
          "state": {
            "_model_module": "@jupyter-widgets/controls",
            "_model_module_version": "1.5.0",
            "_model_name": "ProgressStyleModel",
            "_view_count": null,
            "_view_module": "@jupyter-widgets/base",
            "_view_module_version": "1.2.0",
            "_view_name": "StyleView",
            "bar_color": null,
            "description_width": ""
          }
        },
        "ebe06b12361544d58a6bc5cf69b1c2c3": {
          "model_module": "@jupyter-widgets/base",
          "model_module_version": "1.2.0",
          "model_name": "LayoutModel",
          "state": {
            "_model_module": "@jupyter-widgets/base",
            "_model_module_version": "1.2.0",
            "_model_name": "LayoutModel",
            "_view_count": null,
            "_view_module": "@jupyter-widgets/base",
            "_view_module_version": "1.2.0",
            "_view_name": "LayoutView",
            "align_content": null,
            "align_items": null,
            "align_self": null,
            "border": null,
            "bottom": null,
            "display": null,
            "flex": null,
            "flex_flow": null,
            "grid_area": null,
            "grid_auto_columns": null,
            "grid_auto_flow": null,
            "grid_auto_rows": null,
            "grid_column": null,
            "grid_gap": null,
            "grid_row": null,
            "grid_template_areas": null,
            "grid_template_columns": null,
            "grid_template_rows": null,
            "height": null,
            "justify_content": null,
            "justify_items": null,
            "left": null,
            "margin": null,
            "max_height": null,
            "max_width": null,
            "min_height": null,
            "min_width": null,
            "object_fit": null,
            "object_position": null,
            "order": null,
            "overflow": null,
            "overflow_x": null,
            "overflow_y": null,
            "padding": null,
            "right": null,
            "top": null,
            "visibility": null,
            "width": null
          }
        },
        "f34423f24a5b443bb9c85af561e50e21": {
          "model_module": "@jupyter-widgets/controls",
          "model_module_version": "1.5.0",
          "model_name": "FloatProgressModel",
          "state": {
            "_dom_classes": [],
            "_model_module": "@jupyter-widgets/controls",
            "_model_module_version": "1.5.0",
            "_model_name": "FloatProgressModel",
            "_view_count": null,
            "_view_module": "@jupyter-widgets/controls",
            "_view_module_version": "1.5.0",
            "_view_name": "ProgressView",
            "bar_style": "",
            "description": "",
            "description_tooltip": null,
            "layout": "IPY_MODEL_57b3ae310f994f588d05979977a4f58c",
            "max": 1,
            "min": 0,
            "orientation": "horizontal",
            "style": "IPY_MODEL_e38dc4a57ed64dc59b63675f504a4e16",
            "value": 1
          }
        },
        "f895043eeca64bedb0cde07d4d4d4c8f": {
          "model_module": "@jupyter-widgets/controls",
          "model_module_version": "1.5.0",
          "model_name": "DescriptionStyleModel",
          "state": {
            "_model_module": "@jupyter-widgets/controls",
            "_model_module_version": "1.5.0",
            "_model_name": "DescriptionStyleModel",
            "_view_count": null,
            "_view_module": "@jupyter-widgets/base",
            "_view_module_version": "1.2.0",
            "_view_name": "StyleView",
            "description_width": ""
          }
        }
      }
    }
  },
  "nbformat": 4,
  "nbformat_minor": 0
}
