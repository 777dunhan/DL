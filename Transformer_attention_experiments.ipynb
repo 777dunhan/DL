{
  "cells": [
    {
      "cell_type": "markdown",
      "metadata": {
        "id": "8XpNMS7Vk6Df"
      },
      "source": [
        "# HW4P2: Attention-based Speech Recognition\n",
        "\n",
        "<img src=\"https://cdn.shopify.com/s/files/1/0272/2080/3722/products/SmileBumperSticker_5400x.jpg\" alt=\"A cute cat\" width=\"600\">\n",
        "\n",
        "\n",
        "Welcome to the final assignment in 11785. In this HW, you will work on building a speech recognition system with <i>**attention**</i>. <br> <br>\n",
        "\n",
        "<center>\n",
        "<img src=\"https://popmn.org/wp-content/uploads/2020/03/pay-attention.jpg\" alt=\"A cute cat\" height=\"100\">\n",
        "</center>\n",
        "\n",
        "<h2>Learning Objectives:\n",
        "\n",
        "*  **Understand the Transformer Architecture**: Gain a comprehensive understanding of the transformer model architecture.\n",
        "\n",
        "*  **Develop the  Encoder and Decoder Modules**: Understand the individual components of the transformer's encoder and decoder modules, including positional encoding, multi-head attention, and feed-forward projections.\n",
        "\n",
        "*  **Integrate the Complete Transformer Model**:  Combine the encoder and decoder modules to construct the full transformer model, and learn how to manage the flow of information between these components.\n",
        "\n",
        "* **Understand the Value of Multi-Head Attention**: Learn how to use the multi-head attention mechanism and understand its significance in improving the model's ability to focus on different parts of the input sequence simultaneously.\n",
        "\n",
        "* **Understand and Apply Pretraining Techniques**: Grasp the concept of pretraining by employing LSTMs as an initial embedding mechanism in a transformer's encoder. Learn the strategic process of incrementally training different components of a model — starting with a simple architecture (LSTM), then progressing to more complex structures (transformers). This objective underscores the role of pretraining and its gradual integration to enhance the overall efficacy of neural network models, culminating in superior performance metrics.\n",
        "\n",
        "* **Enhance Training Efficiency Through Strategic Freezing**: Master the technique of selectively freezing and unfreezing model components at different stages of training. This approach aims to direct the model's learning capacity more effectively, concentrating on specific modules at a time. Understand how this method facilitates a more efficient training process, allowing various parts of the model to adapt incrementally. This objective highlights the value of phased learning, especially beneficial when integrating model components with varying learning dynamics.\n",
        "\n",
        "*  **Tune Model Hyperparameters**: Experiment with different configurations of model hyperparameters, such as the number of layers, model dimensionality, and the number of attention heads, to help you understand the tradeoff between model complexity and dataset size.\n",
        "\n",
        "<br>\n",
        "\n",
        "\n",
        "[Kaggle Competition Link](https://www.kaggle.com/competitions/automatic-speech-recognition-s24)<br>\n",
        "\n",
        "[Kaggle Dataset Link](https://www.kaggle.com/competitions/automatic-speech-recognition-s24/data)<br>\n",
        "\n",
        "[Speech Transformer Paper](https://ieeexplore.ieee.org/document/8462506)<br>\n",
        "\n",
        "[Attention Is All You Need Paper](https://arxiv.org/pdf/1706.03762.pdf)<br>"
      ]
    },
    {
      "cell_type": "markdown",
      "metadata": {
        "id": "vwIdDTTmmZVe"
      },
      "source": [
        "# Libraries"
      ]
    },
    {
      "cell_type": "markdown",
      "metadata": {
        "id": "y9qsVrRemgh7"
      },
      "source": [
        "1. By now, we believe that you are already a great deep learning practitioner, Congratulations. 🎉\n",
        "\n",
        "2. There are a lot of resources provided in this notebook, that will help you check if you are running your implementations correctly."
      ]
    },
    {
      "cell_type": "code",
      "execution_count": 1,
      "metadata": {
        "colab": {
          "base_uri": "https://localhost:8080/"
        },
        "id": "8UK7J-dp5iN5",
        "outputId": "4d03882e-a249-4f8c-d9f4-12c8a2620f5e"
      },
      "outputs": [
        {
          "name": "stdout",
          "output_type": "stream",
          "text": [
            "Wed May  1 19:03:23 2024       \n",
            "+---------------------------------------------------------------------------------------+\n",
            "| NVIDIA-SMI 535.104.05             Driver Version: 535.104.05   CUDA Version: 12.2     |\n",
            "|-----------------------------------------+----------------------+----------------------+\n",
            "| GPU  Name                 Persistence-M | Bus-Id        Disp.A | Volatile Uncorr. ECC |\n",
            "| Fan  Temp   Perf          Pwr:Usage/Cap |         Memory-Usage | GPU-Util  Compute M. |\n",
            "|                                         |                      |               MIG M. |\n",
            "|=========================================+======================+======================|\n",
            "|   0  Tesla V100-SXM2-16GB           Off | 00000000:00:04.0 Off |                    0 |\n",
            "| N/A   34C    P0              24W / 300W |      0MiB / 16384MiB |      0%      Default |\n",
            "|                                         |                      |                  N/A |\n",
            "+-----------------------------------------+----------------------+----------------------+\n",
            "                                                                                         \n",
            "+---------------------------------------------------------------------------------------+\n",
            "| Processes:                                                                            |\n",
            "|  GPU   GI   CI        PID   Type   Process name                            GPU Memory |\n",
            "|        ID   ID                                                             Usage      |\n",
            "|=======================================================================================|\n",
            "|  No running processes found                                                           |\n",
            "+---------------------------------------------------------------------------------------+\n"
          ]
        }
      ],
      "source": [
        "!nvidia-smi"
      ]
    },
    {
      "cell_type": "code",
      "execution_count": 2,
      "metadata": {
        "colab": {
          "base_uri": "https://localhost:8080/"
        },
        "id": "nYgaLmgy5iqR",
        "outputId": "f3fc93ba-dc99-487d-fa51-3655e56df247"
      },
      "outputs": [
        {
          "name": "stdout",
          "output_type": "stream",
          "text": [
            "\u001b[2K     \u001b[90m━━━━━━━━━━━━━━━━━━━━━━━━━━━━━━━━━━━━━━━━\u001b[0m \u001b[32m2.2/2.2 MB\u001b[0m \u001b[31m8.4 MB/s\u001b[0m eta \u001b[36m0:00:00\u001b[0m\n",
            "\u001b[2K     \u001b[90m━━━━━━━━━━━━━━━━━━━━━━━━━━━━━━━━━━━━━━━━\u001b[0m \u001b[32m90.1/90.1 kB\u001b[0m \u001b[31m6.8 MB/s\u001b[0m eta \u001b[36m0:00:00\u001b[0m\n",
            "\u001b[2K     \u001b[90m━━━━━━━━━━━━━━━━━━━━━━━━━━━━━━━━━━━━━━━━\u001b[0m \u001b[32m177.4/177.4 kB\u001b[0m \u001b[31m3.4 MB/s\u001b[0m eta \u001b[36m0:00:00\u001b[0m\n",
            "\u001b[2K     \u001b[90m━━━━━━━━━━━━━━━━━━━━━━━━━━━━━━━━━━━━━━━━\u001b[0m \u001b[32m3.4/3.4 MB\u001b[0m \u001b[31m44.6 MB/s\u001b[0m eta \u001b[36m0:00:00\u001b[0m\n",
            "\u001b[2K     \u001b[90m━━━━━━━━━━━━━━━━━━━━━━━━━━━━━━━━━━━━━━━━\u001b[0m \u001b[32m207.3/207.3 kB\u001b[0m \u001b[31m18.1 MB/s\u001b[0m eta \u001b[36m0:00:00\u001b[0m\n",
            "\u001b[2K     \u001b[90m━━━━━━━━━━━━━━━━━━━━━━━━━━━━━━━━━━━━━━━━\u001b[0m \u001b[32m266.8/266.8 kB\u001b[0m \u001b[31m24.2 MB/s\u001b[0m eta \u001b[36m0:00:00\u001b[0m\n",
            "\u001b[2K     \u001b[90m━━━━━━━━━━━━━━━━━━━━━━━━━━━━━━━━━━━━━━━━\u001b[0m \u001b[32m62.7/62.7 kB\u001b[0m \u001b[31m6.2 MB/s\u001b[0m eta \u001b[36m0:00:00\u001b[0m\n",
            "\u001b[?25h"
          ]
        }
      ],
      "source": [
        "''' Installing some required libraries. '''\n",
        "!pip install python-levenshtein torchsummaryX wandb kaggle pytorch-nlp --quiet"
      ]
    },
    {
      "cell_type": "markdown",
      "metadata": {
        "id": "xLXQgnj7E8BM"
      },
      "source": [
        "##  Imports"
      ]
    },
    {
      "cell_type": "code",
      "execution_count": 3,
      "metadata": {
        "colab": {
          "base_uri": "https://localhost:8080/"
        },
        "id": "0mkii-6Dsjr8",
        "outputId": "1361a78b-22f2-44fd-80fd-310f32875568"
      },
      "outputs": [
        {
          "name": "stdout",
          "output_type": "stream",
          "text": [
            "Device:  cuda\n"
          ]
        }
      ],
      "source": [
        "import torch\n",
        "import torch.nn as nn\n",
        "import torch.nn.functional as F\n",
        "import torchaudio.transforms as tat\n",
        "\n",
        "from torchsummaryX import summary\n",
        "from torch.autograd import Variable\n",
        "from torch.nn.utils.rnn import pad_sequence, pack_padded_sequence, pad_packed_sequence\n",
        "\n",
        "import gc\n",
        "import os\n",
        "import math\n",
        "import yaml\n",
        "import random\n",
        "import zipfile\n",
        "import datetime\n",
        "\n",
        "import glob\n",
        "import wandb\n",
        "import numpy as np\n",
        "import pandas as pd\n",
        "from tqdm import tqdm\n",
        "\n",
        "import seaborn as sns\n",
        "import matplotlib.pyplot as plt\n",
        "\n",
        "''' Imports for decoding and distance calculation. '''\n",
        "import Levenshtein\n",
        "\n",
        "import warnings\n",
        "warnings.filterwarnings(\"ignore\")\n",
        "\n",
        "device = \"cuda\" if torch.cuda.is_available() else \"cpu\"\n",
        "print(\"Device: \", device)"
      ]
    },
    {
      "cell_type": "markdown",
      "metadata": {
        "id": "AIOBPQjzrx5n"
      },
      "source": [
        "# Configurations"
      ]
    },
    {
      "cell_type": "code",
      "execution_count": 4,
      "metadata": {
        "colab": {
          "base_uri": "https://localhost:8080/"
        },
        "id": "qkzzA5l2VbXZ",
        "outputId": "d5a67f3d-f28a-43ef-ff5b-2b52734e99b1"
      },
      "outputs": [
        {
          "name": "stdout",
          "output_type": "stream",
          "text": [
            "Writing config.yaml\n"
          ]
        }
      ],
      "source": [
        "%%writefile config.yaml\n",
        "train_dataset   : \"train-clean-100\"\n",
        "cepstral_norm   : True\n",
        "input_dim       : 27\n",
        "batch_size      : 128\n",
        "enc_dropout     : 0.2                   # [0.1, 0.4]\n",
        "enc_num_layers  : 2                     # [1, 3]\n",
        "enc_num_heads   : 4                     # [1, 4]\n",
        "dec_dropout     : 0.2                   # [0.1, 0.4]\n",
        "dec_num_layers  : 2                     # [1, 3]\n",
        "dec_num_heads   : 4                     # [1, 4]\n",
        "d_model         : 512                   # [256, 1024]\n",
        "d_ff            : 2048                  # [512, 4096]\n",
        "learning_rate   : 5E-4                  # [1E-3, 1E-4], this will depend on the specified optimizer\n",
        "optimizer       : \"AdamW\"               # Adam, AdamW\n",
        "momentum        : 0.0\n",
        "nesterov        : True\n",
        "scheduler       : \"ReduceLR\"     # CosineAnnealing, ReduceLR\n",
        "factor          : 0.4\n",
        "patience        : 5\n",
        "epochs          : 50\n",
        "###### Name --------------------------------------------------------------------\n",
        "Name: \"Dunhan\"                                # write your name here for study group"
      ]
    },
    {
      "cell_type": "code",
      "execution_count": 5,
      "metadata": {
        "id": "xcQEffYWYOVm"
      },
      "outputs": [],
      "source": [
        "with open(\"config.yaml\") as file:\n",
        "    config = yaml.safe_load(file)"
      ]
    },
    {
      "cell_type": "code",
      "execution_count": 6,
      "metadata": {
        "colab": {
          "base_uri": "https://localhost:8080/"
        },
        "id": "rgkkGyEa4TMS",
        "outputId": "bc4f18e3-5da1-43a9-d8d5-1ff2497dba8f"
      },
      "outputs": [
        {
          "data": {
            "text/plain": [
              "{'train_dataset': 'train-clean-100',\n",
              " 'cepstral_norm': True,\n",
              " 'input_dim': 27,\n",
              " 'batch_size': 128,\n",
              " 'enc_dropout': 0.2,\n",
              " 'enc_num_layers': 2,\n",
              " 'enc_num_heads': 4,\n",
              " 'dec_dropout': 0.2,\n",
              " 'dec_num_layers': 2,\n",
              " 'dec_num_heads': 4,\n",
              " 'd_model': 512,\n",
              " 'd_ff': 2048,\n",
              " 'learning_rate': '5E-4',\n",
              " 'optimizer': 'AdamW',\n",
              " 'momentum': 0.0,\n",
              " 'nesterov': True,\n",
              " 'scheduler': 'ReduceLR',\n",
              " 'factor': 0.4,\n",
              " 'patience': 5,\n",
              " 'epochs': 50,\n",
              " 'Name': 'Dunhan'}"
            ]
          },
          "execution_count": 6,
          "metadata": {},
          "output_type": "execute_result"
        }
      ],
      "source": [
        "config"
      ]
    },
    {
      "cell_type": "markdown",
      "metadata": {
        "id": "-njBvl2Opd6I"
      },
      "source": [
        "# Kaggle Dataset Download"
      ]
    },
    {
      "cell_type": "code",
      "execution_count": 7,
      "metadata": {
        "colab": {
          "base_uri": "https://localhost:8080/"
        },
        "id": "PTyWR2sIp0Ns",
        "outputId": "34f1b51c-c0ea-4bea-cf9b-8fbacc235763"
      },
      "outputs": [
        {
          "name": "stdout",
          "output_type": "stream",
          "text": [
            "Collecting kaggle==1.5.8\n",
            "  Downloading kaggle-1.5.8.tar.gz (59 kB)\n",
            "\u001b[2K     \u001b[90m━━━━━━━━━━━━━━━━━━━━━━━━━━━━━━━━━━━━━━━━\u001b[0m \u001b[32m59.2/59.2 kB\u001b[0m \u001b[31m1.1 MB/s\u001b[0m eta \u001b[36m0:00:00\u001b[0m\n",
            "\u001b[?25h  Preparing metadata (setup.py) ... \u001b[?25l\u001b[?25hdone\n",
            "Building wheels for collected packages: kaggle\n",
            "  Building wheel for kaggle (setup.py) ... \u001b[?25l\u001b[?25hdone\n",
            "  Created wheel for kaggle: filename=kaggle-1.5.8-py3-none-any.whl size=73249 sha256=b163efad0e869507a8453be5549e7f2b5b8bfb0232925c211fb8e708c0d8c37a\n",
            "  Stored in directory: /root/.cache/pip/wheels/0b/76/ca/e58f8afa83166a0e68f0d5cd2e7f99d260bdc40e35da080eee\n",
            "Successfully built kaggle\n",
            "Installing collected packages: kaggle\n",
            "  Attempting uninstall: kaggle\n",
            "    Found existing installation: kaggle 1.6.12\n",
            "    Uninstalling kaggle-1.6.12:\n",
            "      Successfully uninstalled kaggle-1.6.12\n",
            "Successfully installed kaggle-1.5.8\n"
          ]
        }
      ],
      "source": [
        "!pip install --upgrade --force-reinstall --no-deps kaggle==1.5.8\n",
        "!mkdir /root/.kaggle\n",
        "\n",
        "with open(\"/root/.kaggle/kaggle.json\", \"w+\") as f:\n",
        "\n",
        "    # Enter your kaggle username <USERNAME> and key <KEY> here.\n",
        "    f.write('{\"username\":\"dunhan777\",\"key\":\"8fd87309c15da3fc8173ced30a2dfa76\"}')\n",
        "\n",
        "!chmod 600 /root/.kaggle/kaggle.json"
      ]
    },
    {
      "cell_type": "code",
      "execution_count": 8,
      "metadata": {
        "colab": {
          "base_uri": "https://localhost:8080/"
        },
        "id": "F581gjfnqE2C",
        "outputId": "1b723f60-ef14-430a-8910-52a1e057254c"
      },
      "outputs": [
        {
          "name": "stdout",
          "output_type": "stream",
          "text": [
            "Downloading automatic-speech-recognition-s24.zip to /content\n",
            "100% 5.45G/5.46G [00:52<00:00, 155MB/s]\n",
            "100% 5.46G/5.46G [00:52<00:00, 112MB/s]\n"
          ]
        }
      ],
      "source": [
        "''' Downloading the dataset. '''\n",
        "!kaggle competitions download -c automatic-speech-recognition-s24\n",
        "\n",
        "''' Unzipping quickly and quietly. '''\n",
        "!unzip -q automatic-speech-recognition-s24.zip -d ./data"
      ]
    },
    {
      "cell_type": "markdown",
      "metadata": {
        "id": "zUJyBBwIqQs6"
      },
      "source": [
        "# Character-based LibriSpeech (HW4P2)\n",
        "\n",
        "In terms of the dataset, the dataset structure for HW3P2 and HW4P2 dataset are very similar.\n",
        "\n",
        "Can you spot out the differences? What all will be required??\n",
        "\n",
        "Hints:\n",
        "\n",
        "- Check how big is the dataset? (do you require memory efficient loading techniques??)\n",
        "- How do we load MFCCs? Do we need to normalize them?\n",
        "- Does the data have \\<SOS> and \\<EOS> tokens in each sequences? Do we remove them or do we not remove them? (Read writeup)\n",
        "- Would we want a collating function? Ask yourself: Why did we need a collate function last time?\n",
        "- Observe the VOCAB -- is the dataset same as HW3P2?\n",
        "- Should you add augmentations, if yes which augmentations? When should you add augmentations? (Check bootcamp for answer)\n"
      ]
    },
    {
      "cell_type": "code",
      "execution_count": 9,
      "metadata": {
        "colab": {
          "base_uri": "https://localhost:8080/"
        },
        "id": "MBMLGYX-kZcd",
        "outputId": "07f9e243-3a48-4ecb-88fd-adc378033a9f"
      },
      "outputs": [
        {
          "name": "stdout",
          "output_type": "stream",
          "text": [
            "Length of Vocabulary    : 31\n",
            "VOCAB                   : ['<pad>', '<sos>', '<eos>', 'A', 'B', 'C', 'D', 'E', 'F', 'G', 'H', 'I', 'J', 'K', 'L', 'M', 'N', 'O', 'P', 'Q', 'R', 'S', 'T', 'U', 'V', 'W', 'X', 'Y', 'Z', \"'\", ' ']\n",
            "PAD_TOKEN               : 0\n",
            "SOS_TOKEN               : 1\n",
            "EOS_TOKEN               : 2\n"
          ]
        }
      ],
      "source": [
        "VOCAB = [\n",
        "    \"<pad>\", \"<sos>\", \"<eos>\",\n",
        "    \"A\",   \"B\",    \"C\",    \"D\",\n",
        "    \"E\",   \"F\",    \"G\",    \"H\",\n",
        "    \"I\",   \"J\",    \"K\",    \"L\",\n",
        "    \"M\",   \"N\",    \"O\",    \"P\",\n",
        "    \"Q\",   \"R\",    \"S\",    \"T\",\n",
        "    \"U\",   \"V\",    \"W\",    \"X\",\n",
        "    \"Y\",   \"Z\",    \"'\",    \" \",\n",
        "]\n",
        "\n",
        "VOCAB_MAP = {VOCAB[i]:i for i in range(0, len(VOCAB))}\n",
        "\n",
        "PAD_TOKEN = VOCAB_MAP[\"<pad>\"]\n",
        "SOS_TOKEN = VOCAB_MAP[\"<sos>\"]\n",
        "EOS_TOKEN = VOCAB_MAP[\"<eos>\"]\n",
        "\n",
        "print(f\"Length of Vocabulary    : {len(VOCAB)}\")\n",
        "print(f\"VOCAB                   : {VOCAB}\")\n",
        "print(f\"PAD_TOKEN               : {PAD_TOKEN}\")\n",
        "print(f\"SOS_TOKEN               : {SOS_TOKEN}\")\n",
        "print(f\"EOS_TOKEN               : {EOS_TOKEN}\")"
      ]
    },
    {
      "cell_type": "markdown",
      "metadata": {
        "id": "kWiWhqBHNXt-"
      },
      "source": [
        "## Dataset"
      ]
    },
    {
      "cell_type": "code",
      "execution_count": 10,
      "metadata": {
        "id": "QfYjnJ6VZCBp"
      },
      "outputs": [],
      "source": [
        "''' This class is very similar to HW3P2 except for targets (now sequence of characters). '''\n",
        "\n",
        "class SpeechDataset(torch.utils.data.Dataset):\n",
        "    ''' memory inefficient : loading data in __init__ for simplicty\n",
        "\n",
        "        You may decide to load data in __getitem__ if you wish.\n",
        "        However, doing this memory inefficiently makes __init__ function takes\n",
        "        the load of loading the data, and shifts it away from during the training process.\n",
        "    '''\n",
        "\n",
        "    def __init__(self, root_dir, partition, cepstral=True):\n",
        "        self.mfcc_dir           = f\"{root_dir}/{partition}*/mfcc/*\"\n",
        "        self.transcript_dir     = f\"{root_dir}/{partition}*/transcripts/*\"\n",
        "        self.mfcc_files         = sorted(glob.glob(self.mfcc_dir))\n",
        "        self.transcript_files   = sorted(glob.glob(self.transcript_dir))\n",
        "        assert len(self.mfcc_files) == len(self.transcript_files)\n",
        "        self.mfcc_files         = self.mfcc_files\n",
        "        self.transcript_files   = self.transcript_files\n",
        "        self.length             = len(self.transcript_files)\n",
        "        self.vocab              = VOCAB\n",
        "        print(\"Loaded Path: \", partition)\n",
        "        self.mfccs, self.transcripts_shifted, self.transcripts_golden  = [], [], []\n",
        "        for file in self.mfcc_files:\n",
        "            mfcc = np.load(file)\n",
        "            if cepstral:\n",
        "                mfcc = (mfcc - np.mean(mfcc, axis=0)) / (np.std(mfcc, axis=0) + 1E-8)\n",
        "            self.mfccs.append(mfcc)\n",
        "        for file in self.transcript_files:\n",
        "            temp = np.load(file)[1:-1]\n",
        "            # Why do we have two different types of targets? How do we want our decoder to know the start of sequence <SOS> and end of sequence <EOS>?\n",
        "            self.transcripts_shifted.append(np.array([SOS_TOKEN] + [self.vocab.index(i) for i in temp]))\n",
        "            self.transcripts_golden.append(np.array([self.vocab.index(i) for i in temp] + [EOS_TOKEN]))\n",
        "        assert len(self.mfccs) == len(self.transcripts_shifted)\n",
        "    def __len__(self): return self.length\n",
        "    def __getitem__(self, ind):\n",
        "        mfcc                = torch.FloatTensor(self.mfccs[ind])\n",
        "        shifted_transcript  = torch.tensor(self.transcripts_shifted[ind])\n",
        "        golden_transcript   = torch.tensor(self.transcripts_golden[ind])\n",
        "        return mfcc, shifted_transcript, golden_transcript\n",
        "    def collate_fn(self, batch):\n",
        "        '''\n",
        "        1.  Extract the features and labels from 'batch'.\n",
        "        2.  We will additionally need to pad both features and labels,\n",
        "            look at PyTorch's documentation for pad_sequence.\n",
        "        3.  This is a good place to perform transforms, if you so wish.\n",
        "            Performing them on batches will speed the process up a bit.\n",
        "        4.  Return batch of features, labels, lengths of features, and lengths of labels.\n",
        "        '''\n",
        "        # Batch of input mfcc coefficients.\n",
        "        batch_mfcc              = [i[0] for i in batch]\n",
        "        # Batch of output characters (shifted and golden).\n",
        "        batch_transcript        = [i[1] for i in batch]\n",
        "        batch_golden            = [i[2] for i in batch]\n",
        "        lengths_mfcc            = [len(i) for i in batch_mfcc]\n",
        "        lengths_transcript      = [len(i) for i in batch_transcript]\n",
        "        # HINT: CHECK OUT -> pad_sequence (imported above)\n",
        "        # Also be sure to check the input format (batch_first).\n",
        "        batch_mfcc_pad          = pad_sequence(batch_mfcc, batch_first=True, padding_value=PAD_TOKEN)\n",
        "        batch_transcript_pad    = pad_sequence(batch_transcript, batch_first=True, padding_value=PAD_TOKEN)\n",
        "        batch_golden_pad        = pad_sequence(batch_golden, batch_first=True, padding_value=PAD_TOKEN)\n",
        "        # You may apply some transformations, Time and Frequency masking, here in the collate function:\n",
        "        # Food for Thought -> Why are we applying the transformation here and not in the __getitem__?\n",
        "        #                  -> Would we apply transformation on the validation set as well?\n",
        "        #                  -> Is the order of axes / dimensions as expected for the transform functions?\n",
        "        # Return the following values: padded features, padded shifted labels, padded golden labels, actual length of features, actual length of the shifted labels\n",
        "        return batch_mfcc_pad, batch_transcript_pad, batch_golden_pad, torch.tensor(lengths_mfcc), torch.tensor(lengths_transcript)"
      ]
    },
    {
      "cell_type": "code",
      "execution_count": 11,
      "metadata": {
        "id": "SeehjDLGNJz2"
      },
      "outputs": [],
      "source": [
        "class SpeechTestDataset(torch.utils.data.Dataset):\n",
        "    def __init__(self, root_dir, partition, cepstral=True):\n",
        "        self.mfcc_dir       = f\"{root_dir}/{partition}*/mfcc/*\"\n",
        "        self.mfcc_files     = sorted(glob.glob(self.mfcc_dir))\n",
        "        self.length         = len(self.mfcc_files)\n",
        "        self.mfccs = []\n",
        "        for file in self.mfcc_files:\n",
        "            mfcc = np.load(file)\n",
        "            if cepstral: mfcc = (mfcc - np.mean(mfcc, axis=0)) / (np.std(mfcc, axis=0) + 1E-8)\n",
        "            self.mfccs.append(mfcc)\n",
        "        print(\"Loaded Path: \", partition)\n",
        "    def __len__(self): return self.length\n",
        "    def __getitem__(self, ind):\n",
        "        mfcc = self.mfccs[ind]\n",
        "        return torch.FloatTensor(mfcc)\n",
        "    def collate_fn(self, batch):\n",
        "        '''\n",
        "        TODO:\n",
        "        1.  Extract the features and labels from 'batch'.\n",
        "        2.  We will additionally need to pad the features,\n",
        "            look at PyTorch's documentation for pad_sequence.\n",
        "        3.  Return batch of features, lengths of features.\n",
        "        '''\n",
        "        batch_mfcc      = batch\n",
        "        batch_mfcc_pad  = pad_sequence(batch_mfcc, batch_first=True)\n",
        "        lengths_mfcc    = [len(i) for i in batch_mfcc]\n",
        "        return batch_mfcc_pad, torch.tensor(lengths_mfcc)"
      ]
    },
    {
      "cell_type": "code",
      "execution_count": 12,
      "metadata": {
        "colab": {
          "base_uri": "https://localhost:8080/"
        },
        "id": "GTXbTFReehR3",
        "outputId": "a7b71958-777e-400b-e406-3ba57389a4c0"
      },
      "outputs": [
        {
          "name": "stdout",
          "output_type": "stream",
          "text": [
            "Loaded Path:  train-clean-100\n",
            "Loaded Path:  dev-clean\n",
            "Loaded Path:  test-clean\n"
          ]
        },
        {
          "data": {
            "text/plain": [
              "1254"
            ]
          },
          "execution_count": 12,
          "metadata": {},
          "output_type": "execute_result"
        }
      ],
      "source": [
        "# @NOTE: use the config file to specify PARTITION and CEPSTRAL\n",
        "DATA_DIR        = '/content/data/11785-HW4P2' # Enter your data directory here.\n",
        "PARTITION       = config[\"train_dataset\"]     # Enter your training directory here.\n",
        "CEPSTRAL        = config[\"cepstral_norm\"]     # Enter your cepstral_norm parameter here.\n",
        "train_dataset   = SpeechDataset(\n",
        "    root_dir    = DATA_DIR,\n",
        "    partition   = PARTITION,\n",
        "    cepstral    = CEPSTRAL\n",
        ")\n",
        "val_dataset     = SpeechDataset(\n",
        "    root_dir    = DATA_DIR,\n",
        "    partition   = \"dev-clean\",\n",
        "    cepstral    = CEPSTRAL\n",
        ")\n",
        "test_dataset    = SpeechTestDataset(\n",
        "    root_dir    = DATA_DIR,\n",
        "    partition   = \"test-clean\",\n",
        "    cepstral    = CEPSTRAL,\n",
        ")\n",
        "gc.collect()"
      ]
    },
    {
      "cell_type": "markdown",
      "metadata": {
        "id": "vQRQ_nQVNaFx"
      },
      "source": [
        "## DataLoader"
      ]
    },
    {
      "cell_type": "code",
      "execution_count": 14,
      "metadata": {
        "colab": {
          "base_uri": "https://localhost:8080/"
        },
        "id": "mtYEwlZhfUbT",
        "outputId": "31129eff-7c44-4dc6-e6e4-c7fdf0d3e7dc"
      },
      "outputs": [
        {
          "name": "stdout",
          "output_type": "stream",
          "text": [
            "No. of Train MFCCs   :  28539\n",
            "Batch Size           :  128\n",
            "Train Batches        :  223\n",
            "Val Batches          :  22\n",
            "Test Batches         :  21\n"
          ]
        }
      ],
      "source": [
        "train_loader    = torch.utils.data.DataLoader(\n",
        "    dataset     = train_dataset,\n",
        "    batch_size  = config[\"batch_size\"],\n",
        "    shuffle     = True,\n",
        "    num_workers = 4,\n",
        "    pin_memory  = True,\n",
        "    collate_fn  = train_dataset.collate_fn\n",
        ")\n",
        "\n",
        "val_loader      = torch.utils.data.DataLoader(\n",
        "    dataset     = val_dataset,\n",
        "    batch_size  = config[\"batch_size\"],\n",
        "    shuffle     = False,\n",
        "    num_workers = 2,\n",
        "    pin_memory  = True,\n",
        "    collate_fn  = val_dataset.collate_fn,\n",
        ")\n",
        "\n",
        "test_loader     = torch.utils.data.DataLoader(\n",
        "    dataset     = test_dataset,\n",
        "    batch_size  = config[\"batch_size\"],\n",
        "    shuffle     = False,\n",
        "    num_workers = 2,\n",
        "    pin_memory  = True,\n",
        "    collate_fn  = test_dataset.collate_fn,\n",
        ")\n",
        "\n",
        "print(\"No. of Train MFCCs   : \", train_dataset.__len__())\n",
        "print(\"Batch Size           : \", config[\"batch_size\"])\n",
        "print(\"Train Batches        : \", train_loader.__len__())\n",
        "print(\"Val Batches          : \", val_loader.__len__())\n",
        "print(\"Test Batches         : \", test_loader.__len__())"
      ]
    },
    {
      "cell_type": "code",
      "execution_count": 15,
      "metadata": {
        "colab": {
          "base_uri": "https://localhost:8080/"
        },
        "id": "eJo1BOHUPjpv",
        "outputId": "be0c7ef4-c627-489f-a1c4-728925fa6293"
      },
      "outputs": [
        {
          "name": "stdout",
          "output_type": "stream",
          "text": [
            "Checking the Shapes of the Data --\n",
            "\n",
            "x_pad shape:\t\ttorch.Size([128, 1688, 27])\n",
            "x_len shape:\t\ttorch.Size([128])\n",
            "\n",
            "y_shifted_pad shape:\ttorch.Size([128, 308])\n",
            "y_golden_pad shape:\ttorch.Size([128, 308])\n",
            "y_len shape:\t\ttorch.Size([128])\n",
            "\n"
          ]
        }
      ],
      "source": [
        "''' Sanity Check '''\n",
        "\n",
        "print(\"Checking the Shapes of the Data --\\n\")\n",
        "\n",
        "for batch in train_loader:\n",
        "    x_pad, y_shifted_pad, y_golden_pad, x_len, y_len, = batch\n",
        "\n",
        "    print(f\"x_pad shape:\\t\\t{x_pad.shape}\")\n",
        "    print(f\"x_len shape:\\t\\t{x_len.shape}\\n\")\n",
        "\n",
        "    print(f\"y_shifted_pad shape:\\t{y_shifted_pad.shape}\")\n",
        "    print(f\"y_golden_pad shape:\\t{y_golden_pad.shape}\")\n",
        "    print(f\"y_len shape:\\t\\t{y_len.shape}\\n\")\n",
        "\n",
        "    # print(y_shifted_pad)\n",
        "\n",
        "    break"
      ]
    },
    {
      "cell_type": "markdown",
      "metadata": {
        "id": "F9nl0yf9Q_-2"
      },
      "source": [
        "## DataLoader Verification\n",
        "\n",
        "- Train Dataset (train-clean-50)\n",
        "```\n",
        "Loaded Path:  train-clean-50\n",
        "Max MFCC Length          :  1982\n",
        "Avg MFCC Length          :  1256.06069100848\n",
        "Max Transcript Length    :  354\n",
        "Max Transcript Length    :  182.2676431424767\n",
        "```\n",
        "\n",
        "- Train Dataset (train-clean-100)\n",
        "```\n",
        "Loaded Path:  train-clean-100\n",
        "Max MFCC Length          :  2448\n",
        "Avg MFCC Length          :  1264.6258453344547\n",
        "Max Transcript Length    :  399\n",
        "Max Transcript Length    :  186.65321139493324\n",
        "```\n",
        "\n",
        "- Validation Dataset\n",
        "```\n",
        "Loaded Path:  dev-clean\n",
        "Max MFCC Length          :  3260\n",
        "Avg MFCC Length          :  713.3570107288198\n",
        "Max Transcript Length    :  517\n",
        "Max Transcript Length    :  107.71698113207547\n",
        "```\n",
        "\n",
        "- Test Dataset\n",
        "```\n",
        "Loaded Path:  test-clean\n",
        "Max MFCC Length          :  27\n",
        "Avg MFCC Length          :  27.0\n",
        "```\n",
        "\n",
        "- Population Stats\n",
        "```\n",
        "Max Length:  3260\n",
        "```\n",
        "\n",
        "If your values is not matching, read hints and think what could have gone wrong. Then approach TAs.\n",
        "\n"
      ]
    },
    {
      "cell_type": "markdown",
      "metadata": {
        "id": "6QiV7F8hhS0c"
      },
      "source": [
        "# Introduction\n",
        "\n",
        "Transformers are highly effective for speech recognition tasks because they utilize self-attention mechanisms, enabling them to analyze entire sequences of audio data in one shot. This allows for a nuanced understanding of long-range dependencies and the complex temporal dynamics inherent in speech. Compared to traditional models, transformers offer improved accuracy and efficiency, adeptly handling variations in speech patterns, accents, and intonations; thus, making them exceptionally suitable for advanced speech recognition applications."
      ]
    },
    {
      "cell_type": "markdown",
      "metadata": {
        "id": "AF6R4uUfrm5j"
      },
      "source": [
        "![image.png](data:image/png;base64,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)"
      ]
    },
    {
      "cell_type": "markdown",
      "metadata": {
        "id": "l6mtisVqr4FF"
      },
      "source": [
        "Given the complicated nature of these models, training in this homework will be a little different from other homeworks.<br>\n",
        "We will employ the following to effectively train the transformer with fewer resources (data and compute power).\n",
        "<br>\n",
        "* **Data Complexity and Model Capacity**:  Starting with a CNN-LSTM for input sequences captures temporal dynamics and dependencies early on, simplifying initial learning. This is effective for data with strong temporal or sequential patterns, which LSTMs excel at handling. We will use an already trained model (trained in HW3P2).\n",
        "\n",
        "\n",
        "* **Gradual (Incremental) Learning**: Starting with a simpler model (like an LSTM) allows the neural network to first learn the basic structures and patterns in the data. When we later introduce more complex mechanisms (like a transformer encoder), the model already has a foundational understanding of the data. This foundation can lead to a smoother and more effective learning process when the complexity of the model increases. In other words, we are using a simple, pretrained LSTM encoder as the basis for our transformer decoder and incrementally adding complexity!\n",
        "\n",
        "* **Learning Efficiency**: By freezing certain parts of the model during different stages of training, we focus the learning capacity of the network on specific modules, making the training process more efficient. This stepwise unfreezing and training allows different components of the model to adapt gradually, which can be very useful when integrating parts of the model that learn at different rates.\n",
        "\n",
        "* **Adaptation to Data Characteristics**: This strategy implicitly takes advantage of the data's characteristics by adjusting the model's architecture and training procedure to better suit the data's structure. For instance, if the data contains intricate sequential patterns, starting with an LSTM can harness these patterns effectively. Then, by introducing a transformer encoder, the model can further learn to capture complex, long-range dependencies within the data, something transformers are exceptionally good at.\n"
      ]
    },
    {
      "cell_type": "markdown",
      "metadata": {
        "id": "wTZ-lv47XOj0"
      },
      "source": [
        "## Utilities\n",
        "\n",
        "To make make building the transformer easy, we will define various utility functions and classes which corresponds to the various modules of the transformer. All Components are provided for you but your task will be too understand the modules as you will need  them in answering Canvas quizzes as well as implementing other parts of this notebook. Please refer to the write-up for more information."
      ]
    },
    {
      "cell_type": "code",
      "execution_count": 16,
      "metadata": {
        "id": "xPKEiQYszRjm"
      },
      "outputs": [],
      "source": [
        "def create_mask_1(padded_input, input_lengths=None, pad_idx=None):\n",
        "    \"\"\" Create a mask to identify non-padding positions.\n",
        "\n",
        "    Args:\n",
        "        padded_input: The input tensor with padding, shape (N, T, ...) or (N, T).\n",
        "        input_lengths: Optional, the actual lengths of each sequence before padding, shape (N,).\n",
        "        pad_idx: Optional, the index used for padding tokens.\n",
        "\n",
        "    Returns:\n",
        "        A mask tensor with shape (N, T, 1), where non-padding positions are marked with 1 and padding positions are marked with 0.\n",
        "    \"\"\"\n",
        "\n",
        "    assert input_lengths is not None or pad_idx is not None\n",
        "\n",
        "    # Create a mask based on input_lengths\n",
        "    if input_lengths is not None:\n",
        "        N = padded_input.size(0)        # padded_input : (N x T x ...)\n",
        "        non_pad_mask = padded_input.new_ones(padded_input.size()[:-1])  # (N x T)\n",
        "\n",
        "        # Set the mask to 0 for padding positions\n",
        "        for i in range(N):\n",
        "          non_pad_mask[i, input_lengths[i]:] = 0\n",
        "\n",
        "    if pad_idx is not None:             # padded_input : N x T\n",
        "\n",
        "        assert padded_input.dim() == 2\n",
        "\n",
        "        # Create a mask where non-padding positions are marked with 1 and padding positions are marked with 0\n",
        "        non_pad_mask = padded_input.ne(pad_idx).float()\n",
        "\n",
        "    return non_pad_mask.unsqueeze(-1)   # unsqueeze(-1) for broadcasting"
      ]
    },
    {
      "cell_type": "code",
      "execution_count": 17,
      "metadata": {
        "id": "OS7su_eQzWp5"
      },
      "outputs": [],
      "source": [
        "def create_mask_2(seq, pad_idx=None):\n",
        "    \"\"\" Create a mask to prevent positions from attending to subsequent positions.\n",
        "\n",
        "    Args:\n",
        "        seq: The input sequence tensor, shape (batch_size, sequence_length).\n",
        "\n",
        "    Returns:\n",
        "        A mask tensor with shape (batch_size, sequence_length, sequence_length),\n",
        "            where positions are allowed to attend to previous positions but not to subsequent positions.\n",
        "    \"\"\"\n",
        "\n",
        "    sz_b, len_s = seq.size()\n",
        "\n",
        "    # Create an upper triangular matrix with zeros on the diagonal and below (indicating allowed positions)\n",
        "    #   and ones above the diagonal (indicating disallowed positions)\n",
        "    subsequent_mask = torch.triu(\n",
        "        torch.ones((len_s, len_s), device=seq.device, dtype=torch.uint8), diagonal=1)\n",
        "\n",
        "    # Expand the mask to match the batch size, resulting in a mask for each sequence in the batch.\n",
        "    mask = subsequent_mask.unsqueeze(0).expand(sz_b, -1, -1)  # b x ls x ls\n",
        "\n",
        "\n",
        "    ''' Create a mask to ignore padding positions in the key sequence during attention calculation. '''\n",
        "\n",
        "    # Expanding to fit the shape of key query attention matrix.\n",
        "    if pad_idx != None:\n",
        "      len_q = seq.size(1)\n",
        "\n",
        "      # Create a mask where padding positions in the key sequence are marked with 1.\n",
        "      padding_mask  = seq.eq(pad_idx)\n",
        "\n",
        "      # Expand the mask to match the dimensions of the key-query attention matrix.\n",
        "      padding_mask  = padding_mask.unsqueeze(1).expand(-1, len_q, -1)  # b x lq x lk\n",
        "      mask          = (padding_mask + mask).gt(0)\n",
        "\n",
        "    else:\n",
        "      mask = mask.gt(0)\n",
        "\n",
        "    return mask"
      ]
    },
    {
      "cell_type": "code",
      "execution_count": 18,
      "metadata": {
        "id": "VoU14igzzbk3"
      },
      "outputs": [],
      "source": [
        "def create_mask_3(padded_input, input_lengths, expand_length):\n",
        "    \"\"\" Create an attention mask to ignore padding positions in the input sequence during attention calculation.\n",
        "\n",
        "    Args:\n",
        "        padded_input: The input tensor with padding, shape (N, Ti, ...).\n",
        "        input_lengths: The actual lengths of each sequence before padding, shape (N,).\n",
        "        expand_length: The length to which the attention mask should be expanded,\n",
        "            usually equal to the length of the sequence that the attention scores will be applied to.\n",
        "\n",
        "    Returns:\n",
        "        An attention mask tensor with shape (N, expand_length, Ti),\n",
        "            where padding positions in the input sequence are marked with 1 and other positions are marked with 0.\n",
        "    \"\"\"\n",
        "\n",
        "    # Create a mask to identify non-padding positions, shape (N, Ti, 1)\n",
        "    # (N x Ti x 1)\n",
        "    non_pad_mask    = create_mask_1(padded_input, input_lengths=input_lengths)\n",
        "\n",
        "    # Invert the mask to identify padding positions, shape (N, Ti)\n",
        "    # N x Ti, lt(1) like-not operation\n",
        "    pad_mask        = non_pad_mask.squeeze(-1).lt(1)\n",
        "\n",
        "\n",
        "    # Expand the mask to match the dimensions of the attention matrix, shape (N, expand_length, Ti)\n",
        "    attn_mask       = pad_mask.unsqueeze(1).expand(-1, expand_length, -1)\n",
        "\n",
        "    return attn_mask"
      ]
    },
    {
      "cell_type": "code",
      "execution_count": 19,
      "metadata": {
        "id": "fb5-BhwgZydi"
      },
      "outputs": [],
      "source": [
        "class ScaledDotProductAttention(torch.nn.Module):\n",
        "    ''' Scaled Dot-Product Attention '''\n",
        "\n",
        "    def __init__(self, temperature, attn_dropout=0.1):\n",
        "        super().__init__()\n",
        "        self.temperature    = temperature                       # Scaling factor for the dot product\n",
        "        self.dropout        = torch.nn.Dropout(attn_dropout)    # Dropout layer for attention weights\n",
        "        self.softmax        = torch.nn.Softmax(dim=2)           # Softmax layer along the attention dimension\n",
        "\n",
        "    def forward(self, q, k, v, mask=None):\n",
        "\n",
        "        # Calculate the dot product between queries and keys.\n",
        "        attn = torch.bmm(q, k.transpose(1, 2))\n",
        "\n",
        "        # Scale the dot product by the temperature.\n",
        "        attn = attn / self.temperature\n",
        "\n",
        "        if mask is not None:\n",
        "            # Apply the mask by setting masked positions to a large negative value.\n",
        "            # This ensures they have a softmax score close to zero.\n",
        "            mask_value = -1e+30 if attn.dtype == torch.float32 else -1e+4\n",
        "            attn = attn.masked_fill(mask, mask_value)\n",
        "\n",
        "        # Apply softmax to obtain attention weights.\n",
        "        attn    = self.softmax(attn)\n",
        "\n",
        "        # Apply dropout to the attention weights.\n",
        "        attn    = self.dropout(attn)\n",
        "\n",
        "        # Compute the weighted sum of values based on the attention weights.\n",
        "        output  = torch.bmm(attn, v)\n",
        "\n",
        "        return output, attn # Return the attention output and the attention weights."
      ]
    },
    {
      "cell_type": "code",
      "execution_count": 20,
      "metadata": {
        "id": "iuJntqzGzssH"
      },
      "outputs": [],
      "source": [
        "def save_attention_plot(attention_weights, epoch=0):\n",
        "    ''' function for saving attention weights plot to a file\n",
        "\n",
        "        @NOTE: default starter code set to save cross attention\n",
        "    '''\n",
        "\n",
        "    plt.clf()  # Clear the current figure\n",
        "    sns.heatmap(attention_weights, cmap=\"GnBu\")  # Create heatmap\n",
        "\n",
        "    # Save the plot to a file. Specify the directory if needed.\n",
        "    plt.savefig(f\"cross_attention-epoch{epoch}.png\")"
      ]
    },
    {
      "cell_type": "code",
      "execution_count": 21,
      "metadata": {
        "id": "wOCsC5z7qvZ5"
      },
      "outputs": [],
      "source": [
        "class MultiHeadAttention(torch.nn.Module):\n",
        "    ''' Multi-Head Attention Module '''\n",
        "\n",
        "    def __init__(self, n_head, d_model, dropout=0.1):\n",
        "        super().__init__()\n",
        "\n",
        "        self.n_head = n_head # Number of attention heads\n",
        "        self.d_k    = d_model // n_head\n",
        "        self.d_v    = d_model // n_head\n",
        "\n",
        "\n",
        "        # Linear layers for projecting the input query, key, and value to multiple heads\n",
        "        self.w_qs   = torch.nn.Linear(d_model, n_head * self.d_k)\n",
        "        self.w_ks   = torch.nn.Linear(d_model, n_head * self.d_k)\n",
        "        self.w_vs   = torch.nn.Linear(d_model, n_head * self.d_v)\n",
        "\n",
        "        torch.nn.init.normal_(self.w_qs.weight, mean=0, std=np.sqrt(2.0 / (d_model + self.d_k)))\n",
        "        torch.nn.init.normal_(self.w_ks.weight, mean=0, std=np.sqrt(2.0 / (d_model + self.d_k)))\n",
        "        torch.nn.init.normal_(self.w_vs.weight, mean=0, std=np.sqrt(2.0 / (d_model + self.d_v)))\n",
        "\n",
        "        # Initialize the weights of the linear layers\n",
        "        self.attention = ScaledDotProductAttention(\n",
        "            temperature=np.power(self.d_k, 0.5), attn_dropout=dropout)\n",
        "\n",
        "        # Final linear layer to project the concatenated outputs of the attention heads back to the model dimension\n",
        "        self.fc = torch.nn.Linear(n_head * self.d_v, d_model)\n",
        "\n",
        "        torch.nn.init.xavier_normal_(self.fc.weight)\n",
        "\n",
        "        self.dropout = torch.nn.Dropout(dropout)\n",
        "\n",
        "    def forward(self, q, k, v, mask=None):\n",
        "\n",
        "        # following key, value, query standard computation\n",
        "        d_k, d_v, n_head    = self.d_k, self.d_v, self.n_head\n",
        "        sz_b, len_q, _      = q.size()\n",
        "        sz_b, len_k, _      = k.size()\n",
        "        sz_b, len_v, _      = v.size()\n",
        "\n",
        "        # Project the input query, key, and value to multiple heads\n",
        "        q = self.w_qs(q).view(sz_b, len_q, n_head, d_k)\n",
        "        k = self.w_ks(k).view(sz_b, len_k, n_head, d_k)\n",
        "        v = self.w_vs(v).view(sz_b, len_v, n_head, d_v)\n",
        "\n",
        "        # Rearrange the dimensions to group the heads together for parallel processing\n",
        "        q = q.permute(2, 0, 1, 3).contiguous().view(-1, len_q, d_k) # (n*b) x lq x dk\n",
        "        k = k.permute(2, 0, 1, 3).contiguous().view(-1, len_k, d_k) # (n*b) x lk x dk\n",
        "        v = v.permute(2, 0, 1, 3).contiguous().view(-1, len_v, d_v) # (n*b) x lv x dv\n",
        "\n",
        "        # Repeat the mask for each attention head if a mask is provided\n",
        "        if mask is not None:\n",
        "            mask = mask.repeat(n_head, 1, 1)\n",
        "\n",
        "        # Apply scaled dot-product attention to the projected query, key, and value\n",
        "        output, attn    = self.attention(q, k, v, mask=mask)\n",
        "\n",
        "        # Rearrange the output back to the original order and concatenate the heads\n",
        "        output          = output.view(n_head, sz_b, len_q, d_v)\n",
        "        output          = output.permute(1, 2, 0, 3).contiguous().view(sz_b, len_q, -1) # b x lq x (n*dv)\n",
        "\n",
        "        output          = self.dropout(self.fc(output))\n",
        "\n",
        "        return output, attn"
      ]
    },
    {
      "cell_type": "markdown",
      "metadata": {
        "id": "RCwIlOrXvxGO"
      },
      "source": [
        "## Transformer Modules"
      ]
    },
    {
      "cell_type": "markdown",
      "metadata": {
        "id": "4Lt4-VJerMY3"
      },
      "source": [
        "### Positional Encoding"
      ]
    },
    {
      "cell_type": "code",
      "execution_count": 22,
      "metadata": {
        "id": "Pn9zEhZQrPyH"
      },
      "outputs": [],
      "source": [
        "class PositionalEncoding(torch.nn.Module):\n",
        "    ''' Position Encoding from Attention Is All You Need Paper '''\n",
        "\n",
        "    def __init__(self, d_model, max_len=5000):\n",
        "        super().__init__()\n",
        "\n",
        "        # Initialize a tensor to hold the positional encodings\n",
        "        pe          = torch.zeros(max_len, d_model)\n",
        "\n",
        "        # Create a tensor representing the positions (0 to max_len-1)\n",
        "        position    = torch.arange(0, max_len, dtype=torch.float).unsqueeze(1)\n",
        "\n",
        "        # Calculate the division term for the sine and cosine functions\n",
        "        # This term creates a series of values that decrease geometrically, used to generate varying frequencies for positional encodings\n",
        "        div_term    = torch.exp(torch.arange(0, d_model, 2).float() * (-math.log(10000.0) / d_model))\n",
        "\n",
        "        # Compute the positional encodings using sine and cosine functions\n",
        "        pe[:, 0::2] = torch.sin(position * div_term)\n",
        "        pe[:, 1::2] = torch.cos(position * div_term)\n",
        "\n",
        "        # Reshape the positional encodings tensor and make it a buffer\n",
        "        pe = pe.unsqueeze(0)\n",
        "        self.register_buffer(\"pe\", pe)\n",
        "\n",
        "    def forward(self, x):\n",
        "\n",
        "      return x + self.pe[:, :x.size(1)]"
      ]
    },
    {
      "cell_type": "markdown",
      "metadata": {
        "id": "WfFLc2WCtEjr"
      },
      "source": [
        "### Feed Forward Networks"
      ]
    },
    {
      "cell_type": "code",
      "execution_count": 23,
      "metadata": {
        "id": "nGfM9LObtC8k"
      },
      "outputs": [],
      "source": [
        "class FeedForward(torch.nn.Module):\n",
        "    ''' Projection Layer (Fully Connected Layers) '''\n",
        "\n",
        "    def __init__(self, d_model, d_ff=2048, dropout=0.1):\n",
        "        super().__init__()\n",
        "\n",
        "        self.linear_1   = torch.nn.Linear(d_model, d_ff)\n",
        "        self.dropout    = torch.nn.Dropout(dropout)\n",
        "        self.linear_2   = torch.nn.Linear(d_ff, d_model)\n",
        "\n",
        "    def forward(self, x):\n",
        "\n",
        "        # Apply the first linear layer, GeLU activation, and then dropout\n",
        "        x = self.dropout(torch.nn.functional.gelu(self.linear_1(x)))\n",
        "\n",
        "         # Apply the second linear layer to project the dimension back to d_model\n",
        "        x = self.linear_2(x)\n",
        "\n",
        "        return x"
      ]
    },
    {
      "cell_type": "markdown",
      "metadata": {
        "id": "tkbco9zxxbnc"
      },
      "source": [
        "# PART #1 (Preliminary Submission)\n",
        "\n",
        "In this part we will use a simple CNN-LSTM as an encoder with a Transformer Decoder (with Self-Attention and Cross-Attention)."
      ]
    },
    {
      "cell_type": "markdown",
      "metadata": {
        "id": "euflRQmX4fBC"
      },
      "source": [
        "## CNN-LSTM Encoder"
      ]
    },
    {
      "cell_type": "code",
      "execution_count": 24,
      "metadata": {
        "id": "cOg9-ZuWkT_n"
      },
      "outputs": [],
      "source": [
        "class Permute(nn.Module):\n",
        "    def forward(self, x):\n",
        "        return x.transpose(1, 2)"
      ]
    },
    {
      "cell_type": "code",
      "execution_count": 25,
      "metadata": {
        "id": "RHIIFL0WV7P-"
      },
      "outputs": [],
      "source": [
        "class pBLSTM(torch.nn.Module):\n",
        "    def __init__(self, input_size, hidden_size):\n",
        "        super(pBLSTM, self).__init__()\n",
        "        self.blstm = torch.nn.LSTM(input_size=2*input_size, hidden_size=hidden_size, bidirectional=True, batch_first=True)\n",
        "    def forward(self, x_pack):\n",
        "        x_pad, x_lens = pad_packed_sequence(x_pack, batch_first=True)\n",
        "        x_pad, x_lens = self.trunc_reshape(x_pad, x_lens)\n",
        "        output_packed, _ = self.blstm(pack_padded_sequence(x_pad, x_lens, batch_first=True, enforce_sorted=False))\n",
        "        return output_packed\n",
        "    def trunc_reshape(self, x, x_lens):\n",
        "        if x.shape[1]%2 == 1: x = x[:,:-1,:]\n",
        "        return x.reshape((x.shape[0], int(x.shape[1]//2), x.shape[2]*2)), (x_lens/2).type(torch.int)"
      ]
    },
    {
      "cell_type": "code",
      "execution_count": 26,
      "metadata": {
        "id": "gNhnIDjJWBM6"
      },
      "outputs": [],
      "source": [
        "from torch.autograd import Variable\n",
        "class LockedDropout(nn.Module):\n",
        "    def __init__(self, dropout):\n",
        "        super().__init__()\n",
        "        self.dropout = dropout\n",
        "    def forward(self, x):\n",
        "        if not self.training or not self.dropout: return x\n",
        "        x_unpack, x_len = pad_packed_sequence(x, batch_first=True)\n",
        "        mask = Variable(x.data.new(x_unpack.size(0), 1, x_unpack.size(2)).bernoulli_(1 - self.dropout), requires_grad=False) / (1 - self.dropout)\n",
        "        out = mask.expand_as(x_unpack) * x_unpack\n",
        "        return pack_padded_sequence(out, lengths=x_len, batch_first=True, enforce_sorted=False)"
      ]
    },
    {
      "cell_type": "code",
      "execution_count": 27,
      "metadata": {
        "id": "eL2vCjRfw82o"
      },
      "outputs": [],
      "source": [
        "class CNN_LSTM_Encoder(torch.nn.Module):\n",
        "    ''' The Encoder takes utterances as inputs and returns latent feature representations '''\n",
        "    def __init__(self, input_size, encoder_hidden_size, enc_dropout=0.25):\n",
        "        super(CNN_LSTM_Encoder, self).__init__()\n",
        "        self.embedding = torch.nn.Sequential(\n",
        "            torch.nn.Conv1d(input_size, 2 * input_size, kernel_size = 5, stride = 1, padding = 2),\n",
        "            torch.nn.BatchNorm1d(2 * input_size),\n",
        "            torch.nn.ReLU(inplace = True),\n",
        "            torch.nn.Conv1d(2 * input_size, 4 * input_size, kernel_size = 5, stride = 1, padding = 2),\n",
        "            torch.nn.BatchNorm1d(4 * input_size),\n",
        "            torch.nn.ReLU(inplace = True)\n",
        "        )\n",
        "        self.bilstm = torch.nn.LSTM(input_size = 4 * input_size,\n",
        "                                    hidden_size = encoder_hidden_size,\n",
        "                                    bidirectional = True,\n",
        "                                    batch_first = True,\n",
        "                                    dropout = enc_dropout)\n",
        "        self.pBLSTMs = torch.nn.Sequential(\n",
        "            pBLSTM(2 * encoder_hidden_size, encoder_hidden_size),\n",
        "            LockedDropout(dropout = 2 * enc_dropout),\n",
        "            pBLSTM(2 * encoder_hidden_size, 2 * encoder_hidden_size),\n",
        "            LockedDropout(dropout = enc_dropout),\n",
        "        )\n",
        "        self.permute = Permute()\n",
        "    def forward(self, x, x_lens):\n",
        "        x_em = self.embedding(self.permute(x))\n",
        "        x_pack = pack_padded_sequence(self.permute(x_em), x_lens, batch_first = True, enforce_sorted = False)\n",
        "        x_pack, _ = self.bilstm(x_pack)\n",
        "        x_pack = self.pBLSTMs(x_pack)\n",
        "        encoder_outputs, encoder_lens = pad_packed_sequence(x_pack, batch_first = True)\n",
        "        return encoder_outputs, encoder_lens"
      ]
    },
    {
      "cell_type": "markdown",
      "metadata": {
        "id": "bdJsTVEvZIwe"
      },
      "source": [
        "## Transformer Decoder\n",
        "\n",
        "![image.png](data:image/png;base64,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)"
      ]
    },
    {
      "cell_type": "markdown",
      "metadata": {
        "id": "sdzUsFHRyT6J"
      },
      "source": [
        "Tips to complete the Decoder below.\n",
        "\n",
        "* Can you seperate the decoder layers from the whole decoder?\n",
        "* How many multi-head attention do we have in the figure above.\n",
        "* How many layer normalizations?\n",
        "* How do we make the residual connections?\n",
        "\n",
        "For Forward Method:\n",
        "* What are the inputs to various multi-head attention modules?\n",
        "* How do we make the residual connection (do we need dropout)?\n"
      ]
    },
    {
      "cell_type": "code",
      "execution_count": 28,
      "metadata": {
        "id": "80KuP9_-1AMw"
      },
      "outputs": [],
      "source": [
        "class DecoderLayer(torch.nn.Module):\n",
        "    def __init__(self, d_model, num_heads, d_ff, dropout=0.1):\n",
        "        super().__init__()\n",
        "\n",
        "        # @TODO: fill in the blanks appropriately (given the modules above)\n",
        "        self.mha1       = MultiHeadAttention(num_heads, d_model, dropout=dropout)\n",
        "        self.mha2       = MultiHeadAttention(num_heads, d_model, dropout=dropout)\n",
        "        self.ffn        = FeedForward(d_model, d_ff)\n",
        "\n",
        "        self.layernorm1 = torch.nn.LayerNorm(d_model)\n",
        "        self.layernorm2 = torch.nn.LayerNorm(d_model)\n",
        "        self.layernorm3 = torch.nn.LayerNorm(d_model)\n",
        "\n",
        "        self.dropout1   = torch.nn.Dropout(dropout)\n",
        "        self.dropout2   = torch.nn.Dropout(dropout)\n",
        "        self.dropout3   = torch.nn.Dropout(dropout)\n",
        "\n",
        "    def forward(self, padded_targets, enc_output, enc_input_lengths, dec_enc_attn_mask, pad_mask, slf_attn_mask):\n",
        "        # Masked Multi-head Attention\n",
        "        att_out, att = self.mha1(padded_targets, padded_targets, padded_targets, slf_attn_mask)\n",
        "        att_out = self.dropout1(att_out)\n",
        "        # Skip (Residual) Connections + Layer Normalization\n",
        "        out = self.layernorm1(padded_targets + att_out)\n",
        "        # Masked Multi-Head Attention on Encoder Outputs and Targets\n",
        "        crossatt_out, cross_att = self.mha2(out, enc_output, enc_output, dec_enc_attn_mask)\n",
        "        crossatt_out = self.dropout2(crossatt_out)\n",
        "        # Skip (Residual) Connections + Layer Normalization\n",
        "        out = self.layernorm2(out + crossatt_out)\n",
        "        # Feed Forward Network\n",
        "        ffn_out = self.dropout3(self.ffn(out))\n",
        "        # Skip (Residual) Connections + Layer Normalization\n",
        "        output = self.layernorm3(out + ffn_out)\n",
        "\n",
        "        return output, att, cross_att"
      ]
    },
    {
      "cell_type": "code",
      "execution_count": 29,
      "metadata": {
        "id": "pl09au7xdMFg"
      },
      "outputs": [],
      "source": [
        "class Decoder(torch.nn.Module):\n",
        "    def __init__(self, num_layers, d_model, num_heads, d_ff, dropout,\n",
        "            target_vocab_size, max_seq_length, eos_token, sos_token, pad_token):\n",
        "        super().__init__()\n",
        "\n",
        "        self.EOS_TOKEN      = eos_token\n",
        "        self.SOS_TOKEN      = sos_token\n",
        "        self.PAD_TOKEN      = pad_token\n",
        "\n",
        "        self.max_seq_length = max_seq_length\n",
        "        self.num_layers     = num_layers\n",
        "\n",
        "        # use torch.nn.ModuleList() with list comprehension looping through num_layers\n",
        "        # @NOTE: think about what stays constant per each DecoderLayer (how to call DecoderLayer)\n",
        "        # @HINT: We've implemented this for you.\n",
        "        self.dec_layers = torch.nn.ModuleList(\n",
        "            [DecoderLayer(d_model, num_heads, d_ff, dropout) for _ in range(num_layers)]\n",
        "        )\n",
        "\n",
        "        self.target_embedding       = nn.Embedding(target_vocab_size, d_model)\n",
        "        self.positional_encoding    = PositionalEncoding(d_model)\n",
        "        self.final_linear           = nn.Linear(d_model, target_vocab_size)\n",
        "        self.dropout                = nn.Dropout(dropout)\n",
        "\n",
        "\n",
        "    def forward(self, padded_targets, enc_output, enc_input_lengths):\n",
        "\n",
        "        # create a padding mask for the padded_targets with <PAD_TOKEN>\n",
        "        ''' TODO '''\n",
        "        mask1 = create_mask_1(padded_targets, pad_idx=self.PAD_TOKEN)\n",
        "\n",
        "        # creating an attention mask for the future subsequences (look-ahead mask)\n",
        "        ''' TODO '''\n",
        "        mask2 = create_mask_2(padded_targets, pad_idx=self.PAD_TOKEN)\n",
        "\n",
        "        # creating attention mask to ignore padding positions in the input sequence during attention calculation\n",
        "        ''' TODO '''\n",
        "        mask3 = create_mask_3(enc_output, enc_input_lengths, padded_targets.size(1))\n",
        "\n",
        "        # computing embeddings for the target sequence\n",
        "        ''' TODO '''\n",
        "        embedding = self.target_embedding(padded_targets)\n",
        "\n",
        "        # computing Positional Encodings with the embedded targets and apply dropout\n",
        "        ''' TODO '''\n",
        "        position = self.positional_encoding(embedding)\n",
        "\n",
        "        embedding = self.dropout(position)\n",
        "\n",
        "        # passing through decoder layers\n",
        "        # @NOTE: store your mha1 and mha2 attention weights inside a dictionary\n",
        "        # @NOTE: you will want to retrieve these later so store them with a useful name\n",
        "        ''' TODO '''\n",
        "        attns = {}\n",
        "        for layer in self.dec_layers:\n",
        "            embedding, self_attn, cross_attn = layer(embedding, enc_output, enc_input_lengths, mask3, mask1, mask2)\n",
        "\n",
        "        # linear layer (Final Projection) for next character prediction\n",
        "        ''' TODO '''\n",
        "        attns[\"self_attn\"] = self_attn\n",
        "        attns[\"cross_attn\"] = cross_attn\n",
        "\n",
        "        # return the network output and the dictionary of attention weights\n",
        "        return self.final_linear(embedding), attns\n",
        "\n",
        "\n",
        "    def recognize_greedy_search(self, enc_outputs, enc_input_lengths):\n",
        "        ''' passes the encoder outputs and its corresponding lengths through autoregressive network\n",
        "\n",
        "            @NOTE: You do not need to make changes to this method.\n",
        "        '''\n",
        "\n",
        "        batch_size = enc_outputs.size(0)\n",
        "\n",
        "        # start with the <SOS> token for each sequence in the batch\n",
        "        target_seq = torch.full((batch_size, 1), self.SOS_TOKEN, dtype=torch.long).to(enc_outputs.device)\n",
        "\n",
        "        finished = torch.zeros(batch_size, dtype=torch.bool).to(enc_outputs.device)\n",
        "\n",
        "        for _ in range(self.max_seq_length):\n",
        "\n",
        "            # preparing attention masks\n",
        "            # filled with ones becaues we want to attend to all the elements in the sequence\n",
        "            pad_mask = torch.ones_like(target_seq).float().unsqueeze(-1)  # (batch_size x i x 1)\n",
        "            slf_attn_mask_subseq = create_mask_2(target_seq)\n",
        "\n",
        "            x = self.positional_encoding(self.target_embedding(target_seq))\n",
        "\n",
        "            for i in range(self.num_layers):\n",
        "                x, block1, block2 = self.dec_layers[i](\n",
        "                    x, enc_outputs, enc_input_lengths, None, pad_mask, slf_attn_mask_subseq)\n",
        "\n",
        "            seq_out = self.final_linear(x[:, -1])\n",
        "            logits = torch.nn.functional.log_softmax(seq_out, dim=1)\n",
        "\n",
        "            # selecting the token with the highest probability\n",
        "            # @NOTE: this is the autoregressive nature of the network!\n",
        "            next_token = logits.argmax(dim=-1).unsqueeze(1)\n",
        "\n",
        "            # appending the token to the sequence\n",
        "            target_seq = torch.cat([target_seq, next_token], dim=-1)\n",
        "\n",
        "            # checking if <EOS> token is generated\n",
        "            eos_mask = next_token.squeeze(-1) == self.EOS_TOKEN\n",
        "            # or opration, if both or one of them is true store the value of the finished sequence in finished variable\n",
        "            finished |= eos_mask\n",
        "\n",
        "            # end if all sequences have generated the EOS token\n",
        "            if finished.all(): break\n",
        "\n",
        "        # remove the initial <SOS> token and pad sequences to the same length\n",
        "        target_seq = target_seq[:, 1:]\n",
        "        max_length = target_seq.size(1)\n",
        "        target_seq = torch.nn.functional.pad(target_seq,\n",
        "            (0, self.max_seq_length - max_length), value=self.PAD_TOKEN)\n",
        "\n",
        "        return target_seq"
      ]
    },
    {
      "cell_type": "markdown",
      "metadata": {
        "id": "_JrVsaskeH1G"
      },
      "source": [
        "## CNN-LSTM Encoder + Speech Transformer Decoder\n",
        "\n",
        "In this section, let's build the first (simplest) Transformer network by combining the CNN-LSTM encoder and our Transformer Decoder."
      ]
    },
    {
      "cell_type": "code",
      "execution_count": 30,
      "metadata": {
        "id": "oqiAstL22fBV"
      },
      "outputs": [],
      "source": [
        "class SpeechTransformer(torch.nn.Module):\n",
        "\n",
        "    def __init__(self, input_dim, dec_num_layers, dec_num_heads,\n",
        "                    d_model, d_ff, target_vocab_size, eos_token, sos_token,\n",
        "                    pad_token, enc_dropout, dec_dropout, max_seq_length=512):\n",
        "\n",
        "        super(SpeechTransformer, self).__init__()\n",
        "\n",
        "        self.encoder    = CNN_LSTM_Encoder(input_dim, 256, enc_dropout)\n",
        "\n",
        "        self.proj       = torch.nn.Linear(1024, d_model)\n",
        "\n",
        "        self.decoder    = Decoder(dec_num_layers, d_model, dec_num_heads, d_ff,\n",
        "                dec_dropout, target_vocab_size, max_seq_length, eos_token, sos_token, pad_token)\n",
        "\n",
        "        for p in self.parameters():\n",
        "            if p.dim() > 1: torch.nn.init.xavier_uniform_(p)\n",
        "\n",
        "    def forward(self, padded_input, input_lengths, padded_target, target_lengths):\n",
        "\n",
        "        # passing through Encoder\n",
        "        encoder_output, encoder_len = self.encoder(padded_input, input_lengths)\n",
        "\n",
        "        # adding projection layer to change dimension of encoder_outputs to match d_model\n",
        "        encoder_output = self.proj(encoder_output)\n",
        "\n",
        "        # @NOTE: adding layernorm to adjust dynamic ranges of the encoder_outputs\n",
        "        # @NOTE: uncomment this if you choose to use layernorm described in __init__ above\n",
        "        # encoder_output = self.layernorm(encoder_output)\n",
        "\n",
        "        # passing Encoder output and Attention masks through Decoder\n",
        "        output, attention_weights = self.decoder(padded_target, encoder_output, encoder_len)\n",
        "\n",
        "        return output, attention_weights\n",
        "\n",
        "    def recognize(self, inp, inp_len):\n",
        "        \"\"\" sequence-to-sequence greedy search -- decoding one utterence at a time \"\"\"\n",
        "\n",
        "        encoder_outputs, encoder_len  = self.encoder(inp, inp_len)\n",
        "        encoder_outputs                = self.proj(encoder_outputs)\n",
        "        out                            = self.decoder.recognize_greedy_search(encoder_outputs, encoder_len)\n",
        "\n",
        "        return out"
      ]
    },
    {
      "cell_type": "markdown",
      "metadata": {
        "id": "bPZD3vqdUisj"
      },
      "source": [
        "## Model Setup\n"
      ]
    },
    {
      "cell_type": "code",
      "execution_count": 31,
      "metadata": {
        "colab": {
          "base_uri": "https://localhost:8080/"
        },
        "id": "p2uX2P9YVnbk",
        "outputId": "7e9b3d2d-edf9-4c98-a47d-c66a75ae2d7f"
      },
      "outputs": [
        {
          "data": {
            "text/plain": [
              "0"
            ]
          },
          "execution_count": 31,
          "metadata": {},
          "output_type": "execute_result"
        }
      ],
      "source": [
        "torch.cuda.empty_cache()\n",
        "gc.collect()"
      ]
    },
    {
      "cell_type": "code",
      "execution_count": 32,
      "metadata": {
        "colab": {
          "base_uri": "https://localhost:8080/"
        },
        "id": "a9LN0l5VUk_s",
        "outputId": "38f4c675-cd4a-4c75-e66f-1d229f54729c",
        "scrolled": true
      },
      "outputs": [
        {
          "name": "stdout",
          "output_type": "stream",
          "text": [
            "Model Summary:\n",
            "SpeechTransformer(\n",
            "  (encoder): CNN_LSTM_Encoder(\n",
            "    (embedding): Sequential(\n",
            "      (0): Conv1d(27, 54, kernel_size=(5,), stride=(1,), padding=(2,))\n",
            "      (1): BatchNorm1d(54, eps=1e-05, momentum=0.1, affine=True, track_running_stats=True)\n",
            "      (2): ReLU(inplace=True)\n",
            "      (3): Conv1d(54, 108, kernel_size=(5,), stride=(1,), padding=(2,))\n",
            "      (4): BatchNorm1d(108, eps=1e-05, momentum=0.1, affine=True, track_running_stats=True)\n",
            "      (5): ReLU(inplace=True)\n",
            "    )\n",
            "    (bilstm): LSTM(108, 256, batch_first=True, dropout=0.2, bidirectional=True)\n",
            "    (pBLSTMs): Sequential(\n",
            "      (0): pBLSTM(\n",
            "        (blstm): LSTM(1024, 256, batch_first=True, bidirectional=True)\n",
            "      )\n",
            "      (1): LockedDropout()\n",
            "      (2): pBLSTM(\n",
            "        (blstm): LSTM(1024, 512, batch_first=True, bidirectional=True)\n",
            "      )\n",
            "      (3): LockedDropout()\n",
            "    )\n",
            "    (permute): Permute()\n",
            "  )\n",
            "  (proj): Linear(in_features=1024, out_features=512, bias=True)\n",
            "  (decoder): Decoder(\n",
            "    (dec_layers): ModuleList(\n",
            "      (0-1): 2 x DecoderLayer(\n",
            "        (mha1): MultiHeadAttention(\n",
            "          (w_qs): Linear(in_features=512, out_features=512, bias=True)\n",
            "          (w_ks): Linear(in_features=512, out_features=512, bias=True)\n",
            "          (w_vs): Linear(in_features=512, out_features=512, bias=True)\n",
            "          (attention): ScaledDotProductAttention(\n",
            "            (dropout): Dropout(p=0.2, inplace=False)\n",
            "            (softmax): Softmax(dim=2)\n",
            "          )\n",
            "          (fc): Linear(in_features=512, out_features=512, bias=True)\n",
            "          (dropout): Dropout(p=0.2, inplace=False)\n",
            "        )\n",
            "        (mha2): MultiHeadAttention(\n",
            "          (w_qs): Linear(in_features=512, out_features=512, bias=True)\n",
            "          (w_ks): Linear(in_features=512, out_features=512, bias=True)\n",
            "          (w_vs): Linear(in_features=512, out_features=512, bias=True)\n",
            "          (attention): ScaledDotProductAttention(\n",
            "            (dropout): Dropout(p=0.2, inplace=False)\n",
            "            (softmax): Softmax(dim=2)\n",
            "          )\n",
            "          (fc): Linear(in_features=512, out_features=512, bias=True)\n",
            "          (dropout): Dropout(p=0.2, inplace=False)\n",
            "        )\n",
            "        (ffn): FeedForward(\n",
            "          (linear_1): Linear(in_features=512, out_features=2048, bias=True)\n",
            "          (dropout): Dropout(p=0.1, inplace=False)\n",
            "          (linear_2): Linear(in_features=2048, out_features=512, bias=True)\n",
            "        )\n",
            "        (layernorm1): LayerNorm((512,), eps=1e-05, elementwise_affine=True)\n",
            "        (layernorm2): LayerNorm((512,), eps=1e-05, elementwise_affine=True)\n",
            "        (layernorm3): LayerNorm((512,), eps=1e-05, elementwise_affine=True)\n",
            "        (dropout1): Dropout(p=0.2, inplace=False)\n",
            "        (dropout2): Dropout(p=0.2, inplace=False)\n",
            "        (dropout3): Dropout(p=0.2, inplace=False)\n",
            "      )\n",
            "    )\n",
            "    (target_embedding): Embedding(31, 512)\n",
            "    (positional_encoding): PositionalEncoding()\n",
            "    (final_linear): Linear(in_features=512, out_features=31, bias=True)\n",
            "    (dropout): Dropout(p=0.2, inplace=False)\n",
            "  )\n",
            ")\n",
            "##########\n",
            "Model Parameters:\n",
            " 18.676327\n",
            "##########\n"
          ]
        }
      ],
      "source": [
        "''' Please refer to the config file and top sections to fill in the following '''\n",
        "\n",
        "model = SpeechTransformer(\n",
        "input_dim                   = config['input_dim'],\n",
        "dec_num_layers              = config['dec_num_layers'],\n",
        "dec_num_heads               = config['dec_num_heads'],\n",
        "\n",
        "d_model                     = config['d_model'],\n",
        "d_ff                        = config['d_ff'],\n",
        "\n",
        "target_vocab_size           = len(VOCAB),\n",
        "eos_token                   = 2,\n",
        "sos_token                   = 1,\n",
        "pad_token                   = 0,\n",
        "\n",
        "enc_dropout                 = config['enc_dropout'],\n",
        "dec_dropout                 = config['dec_dropout'],\n",
        "\n",
        "# decrease to a small number if you are just trying to implement the network\n",
        "max_seq_length              = 550 , # Max sequence length for transcripts. Check data verification.\n",
        ").to(device)\n",
        "\n",
        "def num_parameters(mode):\n",
        "    total_params = sum(p.numel() for p in model.parameters() if p.requires_grad)\n",
        "    return total_params / 1E6\n",
        "\n",
        "para = num_parameters(model)\n",
        "print(\"#\"*10)\n",
        "print(f\"Model Parameters:\\n {para}\")\n",
        "print(\"#\"*10)"
      ]
    },
    {
      "cell_type": "markdown",
      "metadata": {
        "id": "oRUBrF1R78pm"
      },
      "source": [
        "### Loading the CNN-LSTM Checkpoint\n",
        "\n",
        "---\n",
        "For ease of training we use a pretrained LSTM -- load the .pth file.\n",
        "\n",
        "Download the weights from here - https://drive.google.com/file/d/1wRcHwCvxksxiPv6WQykOkY9i4bip-ooa/view?usp=sharing"
      ]
    },
    {
      "cell_type": "markdown",
      "metadata": {
        "id": "23DMfXsaU6kj"
      },
      "source": [
        "## Loss, Optimizer, and Scheduler Definitions"
      ]
    },
    {
      "cell_type": "code",
      "execution_count": 33,
      "metadata": {
        "id": "zGxaiyESLpwI"
      },
      "outputs": [],
      "source": [
        "loss_func   = nn.CrossEntropyLoss(ignore_index = PAD_TOKEN)\n",
        "scaler      = torch.cuda.amp.GradScaler()"
      ]
    },
    {
      "cell_type": "code",
      "execution_count": 34,
      "metadata": {
        "id": "W-jth-6HLPLr"
      },
      "outputs": [],
      "source": [
        "''' defining optimizer '''\n",
        "\n",
        "if config[\"optimizer\"] == \"SGD\":\n",
        "  # feel free to change any of the initializations you like to fit your needs\n",
        "  optimizer = torch.optim.SGD(model.parameters(),\n",
        "                              lr=config[\"learning_rate\"],\n",
        "                              momentum=config[\"momentum\"],\n",
        "                              weight_decay=1E-4,\n",
        "                              nesterov=config[\"nesterov\"])\n",
        "\n",
        "elif config[\"optimizer\"] == \"Adam\":\n",
        "  # feel free to change any of the initializations you like to fit your needs\n",
        "  optimizer = torch.optim.Adam(model.parameters(),\n",
        "                               lr=float(config[\"learning_rate\"]),\n",
        "                               weight_decay=1e-4)\n",
        "\n",
        "elif config[\"optimizer\"] == \"AdamW\":\n",
        "  # feel free to change any of the initializations you like to fit your needs\n",
        "  optimizer = torch.optim.AdamW(model.parameters(),\n",
        "                                lr=float(config[\"learning_rate\"]),\n",
        "                                weight_decay=0.01)\n",
        "\n",
        "''' defining scheduler '''\n",
        "\n",
        "if config[\"scheduler\"] == \"ReduceLR\":\n",
        "  #Feel Free to change any of the initializations you like to fit your needs\n",
        "  scheduler = torch.optim.lr_scheduler.ReduceLROnPlateau(optimizer,\n",
        "                factor=config[\"factor\"], patience=config[\"patience\"], min_lr=1E-8, verbose=True)\n",
        "\n",
        "elif config[\"scheduler\"] == \"CosineAnnealing\":\n",
        "  #Feel Free to change any of the initializations you like to fit your needs\n",
        "  scheduler = torch.optim.lr_scheduler.CosineAnnealingLR(optimizer,\n",
        "                T_max = config[\"epochs\"], eta_min=1E-8)"
      ]
    },
    {
      "cell_type": "code",
      "execution_count": 35,
      "metadata": {
        "id": "216ukmHbU-ol"
      },
      "outputs": [],
      "source": [
        "def save_model(model, optimizer, scheduler, metric, epoch, path):\n",
        "    torch.save(\n",
        "        {\"model_state_dict\"         : model.state_dict(),\n",
        "         \"optimizer_state_dict\"     : optimizer.state_dict(),\n",
        "         \"scheduler_state_dict\"     : scheduler.state_dict() if scheduler is not None else {},\n",
        "         metric[0]                  : metric[1],\n",
        "         \"epoch\"                    : epoch},\n",
        "         path\n",
        "    )\n",
        "\n",
        "def load_model(path, model, metric= \"valid_acc\", optimizer= None, scheduler= None):\n",
        "\n",
        "    checkpoint = torch.load(path)\n",
        "    model.load_state_dict(checkpoint[\"model_state_dict\"])\n",
        "\n",
        "    if optimizer != None:\n",
        "        optimizer.load_state_dict(checkpoint[\"optimizer_state_dict\"])\n",
        "    if scheduler != None:\n",
        "        scheduler.load_state_dict(checkpoint[\"scheduler_state_dict\"])\n",
        "\n",
        "    epoch   = checkpoint[\"epoch\"]\n",
        "    metric  = checkpoint[metric]\n",
        "\n",
        "    return [model, optimizer, scheduler, epoch, metric]"
      ]
    },
    {
      "cell_type": "markdown",
      "metadata": {
        "id": "lWUHzWOEs_ky"
      },
      "source": [
        "## Training and Validation Modules"
      ]
    },
    {
      "cell_type": "markdown",
      "metadata": {
        "id": "iWWO5vM4_RGC"
      },
      "source": [
        "### Levenshtein Distance"
      ]
    },
    {
      "cell_type": "code",
      "execution_count": 36,
      "metadata": {
        "id": "QXNHNbnh5w5z"
      },
      "outputs": [],
      "source": [
        "''' utility function which takes a sequence of indices and converts them to a list of characters '''\n",
        "def indices_to_chars(indices, vocab):\n",
        "    tokens = []\n",
        "    for i in indices:   # looping through all indices\n",
        "\n",
        "        if int(i) == SOS_TOKEN:     # If SOS is encountered, don't add it to the final list\n",
        "            continue\n",
        "        elif int(i) == EOS_TOKEN:   # If EOS is encountered, stop the decoding process\n",
        "            break\n",
        "        else:\n",
        "            tokens.append(vocab[i])\n",
        "\n",
        "    return tokens"
      ]
    },
    {
      "cell_type": "code",
      "execution_count": 37,
      "metadata": {
        "id": "Lbv5sJSIFB8b"
      },
      "outputs": [],
      "source": [
        "''' utility function for Levenshtein Distantce quantification '''\n",
        "def calc_edit_distance(predictions, y, y_len, vocab=VOCAB, print_example=False):\n",
        "\n",
        "    dist = 0.0\n",
        "    batch_size, seq_len = predictions.shape\n",
        "\n",
        "    for batch_idx in range(batch_size):\n",
        "\n",
        "        y_sliced    = indices_to_chars(y[batch_idx, 0 : y_len[batch_idx]], vocab)\n",
        "        pred_sliced = indices_to_chars(predictions[batch_idx], vocab)\n",
        "\n",
        "        # strings - when you are using characters from the SpeechDataset\n",
        "        y_string    = \"\".join(y_sliced)\n",
        "        pred_string = \"\".join(pred_sliced)\n",
        "\n",
        "        dist        += Levenshtein.distance(pred_string, y_string)\n",
        "\n",
        "    if print_example:\n",
        "        print(\"\\nGround Truth : \", y_string)\n",
        "        print(\"Prediction   : \", pred_string)\n",
        "\n",
        "    dist /= batch_size\n",
        "\n",
        "    return dist"
      ]
    },
    {
      "cell_type": "markdown",
      "metadata": {
        "id": "b0RXXoJk_WU5"
      },
      "source": [
        "### Training and Validation Functions"
      ]
    },
    {
      "cell_type": "code",
      "execution_count": 38,
      "metadata": {
        "id": "VJHSLMCmp8l5"
      },
      "outputs": [],
      "source": [
        "def train_model(model, train_loader, optimizer):\n",
        "\n",
        "    model.train()\n",
        "    batch_bar = tqdm(total=len(train_loader), dynamic_ncols=True, leave=False, position=0, desc=\"Train\")\n",
        "\n",
        "    total_loss          = 0\n",
        "    running_loss        = 0.0\n",
        "    running_perplexity  = 0.0\n",
        "\n",
        "    for i, (inputs, targets_shifted, targets_golden, inputs_lengths, targets_lengths) in enumerate(train_loader):\n",
        "\n",
        "        optimizer.zero_grad()\n",
        "\n",
        "        inputs          = inputs.to(device)\n",
        "        targets_shifted = targets_shifted.to(device)\n",
        "        targets_golden  = targets_golden.to(device)\n",
        "\n",
        "        with torch.cuda.amp.autocast():\n",
        "            # passing the minibatch through the model\n",
        "            raw_predictions, attention_weights = model(inputs, inputs_lengths, targets_shifted, targets_lengths)\n",
        "\n",
        "            padding_mask = torch.logical_not(torch.eq(targets_shifted, PAD_TOKEN))\n",
        "\n",
        "            # cast the mask to float32\n",
        "            padding_mask = padding_mask.float()\n",
        "            loss = loss_func(raw_predictions.transpose(1,2), targets_golden)*padding_mask\n",
        "            loss = loss.sum() / padding_mask.sum()\n",
        "\n",
        "        scaler.scale(loss).backward()   # This is a replacement for loss.backward()\n",
        "        scaler.step(optimizer)          # This is a replacement for optimizer.step()\n",
        "        scaler.update()                 # This is something added just for FP16\n",
        "\n",
        "        running_loss        += float(loss.item())\n",
        "        perplexity          = torch.exp(loss)\n",
        "        running_perplexity  += perplexity.item()\n",
        "\n",
        "        # online training monitoring\n",
        "        batch_bar.set_postfix(\n",
        "            loss = \"{:.04f}\".format(float(running_loss / (i + 1))),\n",
        "            perplexity = \"{:.04f}\".format(float(running_perplexity / (i + 1)))\n",
        "        )\n",
        "\n",
        "        batch_bar.update()\n",
        "\n",
        "        del inputs, targets_shifted, targets_golden, inputs_lengths, targets_lengths\n",
        "        torch.cuda.empty_cache()\n",
        "\n",
        "    running_loss        = float(running_loss / len(train_loader))\n",
        "    running_perplexity  = float(running_perplexity / len(train_loader))\n",
        "\n",
        "    batch_bar.close()\n",
        "\n",
        "    return running_loss, running_perplexity, attention_weights"
      ]
    },
    {
      "cell_type": "code",
      "execution_count": 39,
      "metadata": {
        "id": "tuYsBMoQ30US"
      },
      "outputs": [],
      "source": [
        "def validate_fast(model, dataloader):\n",
        "    model.eval()\n",
        "\n",
        "    # progress bar\n",
        "    batch_bar = tqdm(total=len(dataloader), dynamic_ncols=True, leave=False, position=0, desc=\"Val\", ncols=5)\n",
        "\n",
        "    running_distance = 0.0\n",
        "\n",
        "    for i, (inputs, targets_shifted, targets_golden, inputs_lengths, targets_lengths) in enumerate(dataloader):\n",
        "\n",
        "        inputs  = inputs.to(device)\n",
        "        targets_golden = targets_golden.to(device)\n",
        "\n",
        "        with torch.inference_mode():\n",
        "            greedy_predictions = model.recognize(inputs, inputs_lengths)\n",
        "\n",
        "        # calculating Levenshtein Distance\n",
        "        # @NOTE: modify the print_example to print more or less validation examples\n",
        "        running_distance += calc_edit_distance(greedy_predictions, targets_golden, targets_lengths, VOCAB, print_example=True)\n",
        "\n",
        "        # online validation distance monitoring\n",
        "        batch_bar.set_postfix(\n",
        "            running_distance = \"{:.04f}\".format(float(running_distance / (i + 1)))\n",
        "        )\n",
        "\n",
        "        batch_bar.update()\n",
        "\n",
        "        del inputs, targets_shifted, targets_golden, inputs_lengths, targets_lengths\n",
        "        torch.cuda.empty_cache()\n",
        "\n",
        "        if i==4: break      # validating only upon first five batches\n",
        "\n",
        "    batch_bar.close()\n",
        "    running_distance /= 5\n",
        "\n",
        "    return running_distance"
      ]
    },
    {
      "cell_type": "code",
      "execution_count": 40,
      "metadata": {
        "id": "_fvRunxh_36z"
      },
      "outputs": [],
      "source": [
        "def validate_full(model, dataloader):\n",
        "    model.eval()\n",
        "\n",
        "    # progress bar\n",
        "    batch_bar = tqdm(total=len(dataloader), dynamic_ncols=True, leave=False, position=0, desc=\"Val\", ncols=5)\n",
        "\n",
        "    running_distance = 0.0\n",
        "\n",
        "    for i, (inputs, targets_shifted, targets_golden, inputs_lengths, targets_lengths) in enumerate(dataloader):\n",
        "\n",
        "        inputs  = inputs.to(device)\n",
        "        targets_golden = targets_golden.to(device)\n",
        "\n",
        "        with torch.inference_mode():\n",
        "            greedy_predictions = model.recognize(inputs, inputs_lengths)\n",
        "\n",
        "        # calculating Levenshtein Distance\n",
        "        # @NOTE: modify the print_example to print more or less validation examples\n",
        "        running_distance += calc_edit_distance(greedy_predictions, targets_golden, targets_lengths, VOCAB, print_example=True)\n",
        "\n",
        "        # online validation distance monitoring\n",
        "        batch_bar.set_postfix(\n",
        "            running_distance = \"{:.04f}\".format(float(running_distance / (i + 1)))\n",
        "        )\n",
        "\n",
        "        batch_bar.update()\n",
        "\n",
        "        del inputs, targets_shifted, targets_golden, inputs_lengths, targets_lengths\n",
        "        torch.cuda.empty_cache()\n",
        "\n",
        "\n",
        "    batch_bar.close()\n",
        "    running_distance /= len(dataloader)\n",
        "\n",
        "    return running_distance"
      ]
    },
    {
      "cell_type": "markdown",
      "metadata": {
        "id": "gP7QK6rD_mT9"
      },
      "source": [
        "## WandB"
      ]
    },
    {
      "cell_type": "code",
      "execution_count": 41,
      "metadata": {
        "colab": {
          "base_uri": "https://localhost:8080/",
          "height": 176
        },
        "id": "CUz-15ws79RI",
        "outputId": "ffe63f84-a1e8-4f2d-e662-c65fc9e1e5b7"
      },
      "outputs": [
        {
          "name": "stderr",
          "output_type": "stream",
          "text": [
            "\u001b[34m\u001b[1mwandb\u001b[0m: \u001b[33mWARNING\u001b[0m If you're specifying your api key in code, ensure this code is not shared publicly.\n",
            "\u001b[34m\u001b[1mwandb\u001b[0m: \u001b[33mWARNING\u001b[0m Consider setting the WANDB_API_KEY environment variable, or running `wandb login` from the command line.\n",
            "\u001b[34m\u001b[1mwandb\u001b[0m: Appending key for api.wandb.ai to your netrc file: /root/.netrc\n",
            "\u001b[34m\u001b[1mwandb\u001b[0m: Currently logged in as: \u001b[33mdunhanj\u001b[0m (\u001b[33mdunhan\u001b[0m). Use \u001b[1m`wandb login --relogin`\u001b[0m to force relogin\n"
          ]
        },
        {
          "data": {
            "text/html": [
              "Tracking run with wandb version 0.16.6"
            ],
            "text/plain": [
              "<IPython.core.display.HTML object>"
            ]
          },
          "metadata": {},
          "output_type": "display_data"
        },
        {
          "data": {
            "text/html": [
              "Run data is saved locally in <code>/content/wandb/run-20240501_191713-oq1ra3sk</code>"
            ],
            "text/plain": [
              "<IPython.core.display.HTML object>"
            ]
          },
          "metadata": {},
          "output_type": "display_data"
        },
        {
          "data": {
            "text/html": [
              "Syncing run <strong><a href='https://wandb.ai/dunhan/HW4P2-S24/runs/oq1ra3sk' target=\"_blank\">Dunhan_Transformer_ENC-2/4_DEC-2/4_512_2048_AdamW_ReduceLR</a></strong> to <a href='https://wandb.ai/dunhan/HW4P2-S24' target=\"_blank\">Weights & Biases</a> (<a href='https://wandb.me/run' target=\"_blank\">docs</a>)<br/>"
            ],
            "text/plain": [
              "<IPython.core.display.HTML object>"
            ]
          },
          "metadata": {},
          "output_type": "display_data"
        },
        {
          "data": {
            "text/html": [
              " View project at <a href='https://wandb.ai/dunhan/HW4P2-S24' target=\"_blank\">https://wandb.ai/dunhan/HW4P2-S24</a>"
            ],
            "text/plain": [
              "<IPython.core.display.HTML object>"
            ]
          },
          "metadata": {},
          "output_type": "display_data"
        },
        {
          "data": {
            "text/html": [
              " View run at <a href='https://wandb.ai/dunhan/HW4P2-S24/runs/oq1ra3sk' target=\"_blank\">https://wandb.ai/dunhan/HW4P2-S24/runs/oq1ra3sk</a>"
            ],
            "text/plain": [
              "<IPython.core.display.HTML object>"
            ]
          },
          "metadata": {},
          "output_type": "display_data"
        }
      ],
      "source": [
        "# using WandB? resume training?\n",
        "\n",
        "USE_WANDB = True\n",
        "RESUME_LOGGING = False\n",
        "\n",
        "# creating your WandB run\n",
        "run_name = \"{}_Transformer_ENC-{}/{}_DEC-{}/{}_{}_{}_{}_{}\".format(\n",
        "    config[\"Name\"],\n",
        "    config[\"enc_num_layers\"],       # only used in Part II with the Transformer Encoder\n",
        "    config[\"enc_num_heads\"],        # only used in Part II with the Transformer Encoder\n",
        "    config[\"dec_num_layers\"],\n",
        "    config[\"dec_num_heads\"],\n",
        "    config[\"d_model\"],\n",
        "    config[\"d_ff\"],\n",
        "    config[\"optimizer\"],\n",
        "    config[\"scheduler\"])\n",
        "\n",
        "if USE_WANDB:\n",
        "\n",
        "    wandb.login(key=\"e82cd60c71ce53e010026113443de725b0d4fb58\", relogin=True) # TODO enter your key here\n",
        "\n",
        "    if RESUME_LOGGING:\n",
        "        run_id = \"\"\n",
        "        run = wandb.init(\n",
        "            id     = run_id,        ### Insert specific run id here if you want to resume a previous run\n",
        "            resume = True,          ### You need this to resume previous runs, but comment out reinit=True when using this\n",
        "            project = \"HW4P2-S24\",  ### Project should be created in your wandb account\n",
        "        )\n",
        "\n",
        "    else:\n",
        "        run = wandb.init(\n",
        "            name    = run_name,     ### Wandb creates random run names if you skip this field, we recommend you give useful names\n",
        "            reinit  = True,         ### Allows reinitalizing runs when you re-run this cell\n",
        "            project = \"HW4P2-S24\",  ### Project should be created in your wandb account\n",
        "            config  = config        ### Wandb Config for your run\n",
        "        )\n",
        "\n",
        "        ### Save your model architecture as a string with str(model)\n",
        "        model_arch  = str(model)\n",
        "\n",
        "        ### Save it in a txt file\n",
        "        arch_file   = open(\"model_arch.txt\", \"w\")\n",
        "        file_write  = arch_file.write(model_arch)\n",
        "        arch_file.close()\n",
        "\n",
        "        ### Log it in your wandb run with wandb.save()\n",
        "        wandb.save(\"model_arch.txt\")"
      ]
    },
    {
      "cell_type": "code",
      "execution_count": 42,
      "metadata": {
        "colab": {
          "base_uri": "https://localhost:8080/"
        },
        "id": "AiyvF4p7lv_0",
        "outputId": "95df7e91-7793-4133-a12c-0f2a15759e6e"
      },
      "outputs": [
        {
          "data": {
            "text/plain": [
              "<All keys matched successfully>"
            ]
          },
          "execution_count": 42,
          "metadata": {},
          "output_type": "execute_result"
        }
      ],
      "source": [
        "model.encoder.load_state_dict(torch.load(\"/content/pblstm_fast_training_weights.pth\"))"
      ]
    },
    {
      "cell_type": "markdown",
      "metadata": {
        "id": "4vUMtM_dVyrG"
      },
      "source": [
        "## Experiments"
      ]
    },
    {
      "cell_type": "code",
      "execution_count": 43,
      "metadata": {
        "colab": {
          "base_uri": "https://localhost:8080/",
          "height": 1000
        },
        "id": "a1LD0uyPEHTI",
        "outputId": "8e021547-60f6-4221-8c21-51ecab90816e"
      },
      "outputs": [
        {
          "name": "stdout",
          "output_type": "stream",
          "text": [
            "\n",
            "Epoch 1/50\n"
          ]
        },
        {
          "name": "stderr",
          "output_type": "stream",
          "text": []
        },
        {
          "name": "stdout",
          "output_type": "stream",
          "text": [
            "\n",
            "Epoch 1/50: \n",
            "Train Loss 3.0981\t Train Perplexity 37.3634\t Learning Rate 0.0005\n"
          ]
        },
        {
          "name": "stderr",
          "output_type": "stream",
          "text": [
            "Val:   5%|▍         | 1/22 [00:53<18:36, 53.17s/it, running_distance=535.0703]"
          ]
        },
        {
          "name": "stdout",
          "output_type": "stream",
          "text": [
            "\n",
            "Ground Truth :  SHE PRESSED HIS HAND GENTLY IN GRATITUDE WEREN'T YOU HAPPY THEN AT ALL\n",
            "Prediction   :                                                                                                                                                                                                                                                                                                                                                                                                                                                                                                                                                                        \n"
          ]
        },
        {
          "name": "stderr",
          "output_type": "stream",
          "text": [
            "Val:   9%|▉         | 2/22 [01:42<17:04, 51.20s/it, running_distance=532.2188]"
          ]
        },
        {
          "name": "stdout",
          "output_type": "stream",
          "text": [
            "\n",
            "Ground Truth :  WE RANGE WIDER LAST LONGER AND ESCAPE MORE AND MORE FROM INTENSITY TOWARDS UNDERSTANDING\n",
            "Prediction   :                                                                                                                                                                                                                                                                                                                                                                                                                                                                                                                                                                        \n"
          ]
        },
        {
          "name": "stderr",
          "output_type": "stream",
          "text": [
            "Val:  14%|█▎        | 3/22 [02:32<15:53, 50.21s/it, running_distance=531.4922]"
          ]
        },
        {
          "name": "stdout",
          "output_type": "stream",
          "text": [
            "\n",
            "Ground Truth :  I EXPLAIN THAT I'M TAKING MUSIC AND ALSO BIOLOGY ALGEBRA ENGLISH AND FRENCH MUSIC HE SNORTS\n",
            "Prediction   :                                                                                                                                                                                                                                                                                                                                                                                                                                                                                                                                                                        \n"
          ]
        },
        {
          "name": "stderr",
          "output_type": "stream",
          "text": [
            "Val:  18%|█▊        | 4/22 [03:21<15:00, 50.01s/it, running_distance=531.6719]"
          ]
        },
        {
          "name": "stdout",
          "output_type": "stream",
          "text": [
            "\n",
            "Ground Truth :  NOW HIS MIDDLE HORSE WAS BEING ALMOST DRAGGED BY THE OTHER TWO\n",
            "Prediction   :                                                                                                                                                                                                                                                                                                                                                                                                                                                                                                                                                                        \n"
          ]
        },
        {
          "name": "stderr",
          "output_type": "stream",
          "text": [
            "Val:  23%|██▎       | 5/22 [04:14<14:28, 51.10s/it, running_distance=530.7313]"
          ]
        },
        {
          "name": "stdout",
          "output_type": "stream",
          "text": [
            "\n",
            "Ground Truth :  OH REJOINED THE DAGUERREOTYPIST BECAUSE LIKE AN OLD LADY'S CUP OF TEA IT IS WATER BEWITCHED\n",
            "Prediction   :                                                                                                                                                                                                                                                                                                                                                                                                                                                                                                                                                                        \n"
          ]
        },
        {
          "name": "stderr",
          "output_type": "stream",
          "text": []
        },
        {
          "name": "stdout",
          "output_type": "stream",
          "text": [
            "Levenshtein Distance 530.7313\n",
            "Saved epoch model\n",
            "Saved best training model\n",
            "\n",
            "Epoch 2/50\n"
          ]
        },
        {
          "name": "stderr",
          "output_type": "stream",
          "text": []
        },
        {
          "name": "stdout",
          "output_type": "stream",
          "text": [
            "\n",
            "Epoch 2/50: \n",
            "Train Loss 2.7308\t Train Perplexity 15.5742\t Learning Rate 0.0005\n",
            "Saved epoch model\n",
            "Saved best training model\n",
            "\n",
            "Epoch 3/50\n"
          ]
        },
        {
          "name": "stderr",
          "output_type": "stream",
          "text": []
        },
        {
          "name": "stdout",
          "output_type": "stream",
          "text": [
            "\n",
            "Epoch 3/50: \n",
            "Train Loss 2.3288\t Train Perplexity 10.2861\t Learning Rate 0.0005\n"
          ]
        },
        {
          "name": "stderr",
          "output_type": "stream",
          "text": [
            "Val:   5%|▍         | 1/22 [00:51<18:07, 51.80s/it, running_distance=339.6562]"
          ]
        },
        {
          "name": "stdout",
          "output_type": "stream",
          "text": [
            "\n",
            "Ground Truth :  SHE PRESSED HIS HAND GENTLY IN GRATITUDE WEREN'T YOU HAPPY THEN AT ALL\n",
            "Prediction   :  AND THE THE THE THE THE THE THE THE THE THE THE THE THE THE THE THE THE THE THE THE THE THE THE THE THE THE THE THE THE THE THE THE THE THE THE THE THE THE THE THE THE THE THE THE THE THE THE THE THE THE THE THE THE THE THE THE THE THE THE THE THE THE THE THE THE THE THE THE THE THE THE THE THE THE THE THE THE THE THEXOFOFOFOFOFOF\n"
          ]
        },
        {
          "name": "stderr",
          "output_type": "stream",
          "text": [
            "Val:   9%|▉         | 2/22 [01:40<16:37, 49.86s/it, running_distance=346.6094]"
          ]
        },
        {
          "name": "stdout",
          "output_type": "stream",
          "text": [
            "\n",
            "Ground Truth :  WE RANGE WIDER LAST LONGER AND ESCAPE MORE AND MORE FROM INTENSITY TOWARDS UNDERSTANDING\n",
            "Prediction   :  AND THE THE THE THE THE THE THE THE THE THE THE THE THE THE THE THE THE THE THE THE THE THE THE THE THE THE THE THE THE THE THE THE THE THE THE THE THE THE THE THE THE THE THE THE THE THE THE THE THE THE THE THE THE THE THE THE THE THE THE THE THE THE THE THE THE THE THE THE THE THE THE THE THE THE THE THE THE THE THEXOFOFOFOFOFOF\n"
          ]
        },
        {
          "name": "stderr",
          "output_type": "stream",
          "text": [
            "Val:  14%|█▎        | 3/22 [02:28<15:31, 49.05s/it, running_distance=345.3854]"
          ]
        },
        {
          "name": "stdout",
          "output_type": "stream",
          "text": [
            "\n",
            "Ground Truth :  I EXPLAIN THAT I'M TAKING MUSIC AND ALSO BIOLOGY ALGEBRA ENGLISH AND FRENCH MUSIC HE SNORTS\n",
            "Prediction   :  AND THE THE THE THE THE THE THE THE THE THE THE THE THE THE THE THE THE THE THE THE THE THE THE THE THE THE THE THE THE THE THE THE THE THE THE THE THE THE THE THE THE THE THE THE THE THE THE THE THE THE THE THE THE THE THE THE THE THE THE THE THE THE THE THE THE THE THE THE THE THE THE THE THE THE THE THE THE THE THEXOFOFOFOFOFOF\n"
          ]
        },
        {
          "name": "stderr",
          "output_type": "stream",
          "text": [
            "Val:  18%|█▊        | 4/22 [03:17<14:43, 49.10s/it, running_distance=342.1992]"
          ]
        },
        {
          "name": "stdout",
          "output_type": "stream",
          "text": [
            "\n",
            "Ground Truth :  NOW HIS MIDDLE HORSE WAS BEING ALMOST DRAGGED BY THE OTHER TWO\n",
            "Prediction   :  AND THE THE THE THE THE THE THE THE THE THE THE THE THE THE THE THE THE THE THE THE THE THE THE THE THE THE THE THE THE THE THE THE THE THE THE THE THE THE THE THE THE THE THE THE THE THE THE THE THE THE THE THE THE THE THE THE THE THE THE THE THE THE THE THE THE THE THE THE THE THE THE THE THE THE THE THE THE THE THEXOFOFOFOFOFOF\n"
          ]
        },
        {
          "name": "stderr",
          "output_type": "stream",
          "text": [
            "Val:  23%|██▎       | 5/22 [04:08<14:08, 49.92s/it, running_distance=342.0828]"
          ]
        },
        {
          "name": "stdout",
          "output_type": "stream",
          "text": [
            "\n",
            "Ground Truth :  OH REJOINED THE DAGUERREOTYPIST BECAUSE LIKE AN OLD LADY'S CUP OF TEA IT IS WATER BEWITCHED\n",
            "Prediction   :  AND THE THE THE THE THE THE THE THE THE THE THE THE THE THE THE THE THE THE THE THE THE THE THE THE THE THE THE THE THE THE THE THE THE THE THE THE THE THE THE THE THE THE THE THE THE THE THE THE THE THE THE THE THE THE THE THE THE THE THE THE THE THE THE THE THE THE THE THE THE THE THE THE THE THE THE THE THE THE THE THE THE THEATHE THE THE THEXHEREROFOFOFOFOFOFOFOFOFOFOFOFUTHEATHEATHEATHEATHEATHEATHEATHE THE THEATHEATHEATHEXOF\n"
          ]
        },
        {
          "name": "stderr",
          "output_type": "stream",
          "text": []
        },
        {
          "name": "stdout",
          "output_type": "stream",
          "text": [
            "Levenshtein Distance 342.0828\n",
            "Saved epoch model\n",
            "Saved best training model\n",
            "\n",
            "Epoch 4/50\n"
          ]
        },
        {
          "name": "stderr",
          "output_type": "stream",
          "text": []
        },
        {
          "name": "stdout",
          "output_type": "stream",
          "text": [
            "\n",
            "Epoch 4/50: \n",
            "Train Loss 2.1340\t Train Perplexity 8.4648\t Learning Rate 0.0005\n",
            "Saved epoch model\n",
            "Saved best training model\n",
            "\n",
            "Epoch 5/50\n"
          ]
        },
        {
          "name": "stderr",
          "output_type": "stream",
          "text": []
        },
        {
          "name": "stdout",
          "output_type": "stream",
          "text": [
            "\n",
            "Epoch 5/50: \n",
            "Train Loss 1.8777\t Train Perplexity 6.5974\t Learning Rate 0.0005\n"
          ]
        },
        {
          "name": "stderr",
          "output_type": "stream",
          "text": [
            "Val:   5%|▍         | 1/22 [00:51<17:53, 51.11s/it, running_distance=162.2500]"
          ]
        },
        {
          "name": "stdout",
          "output_type": "stream",
          "text": [
            "\n",
            "Ground Truth :  SHE PRESSED HIS HAND GENTLY IN GRATITUDE WEREN'T YOU HAPPY THEN AT ALL\n",
            "Prediction   :  SHE PREST HAD DRANDLY GRATTED AND GRATTED HAVE YOU HAVE THE HAVE THE HE PEART AND THE SHE WAS AND THE SHE WAS AND THE SHE WAS AND THE SHE WAS AND THE SHE WERE THE SHE WERE THE SHE HAD THE SHE HAD AND THE HEAD THE HAD AND THE PRESST HAD A SHE PRESSS\n"
          ]
        },
        {
          "name": "stderr",
          "output_type": "stream",
          "text": [
            "Val:   9%|▉         | 2/22 [01:38<16:20, 49.01s/it, running_distance=161.5039]"
          ]
        },
        {
          "name": "stdout",
          "output_type": "stream",
          "text": [
            "\n",
            "Ground Truth :  WE RANGE WIDER LAST LONGER AND ESCAPE MORE AND MORE FROM INTENSITY TOWARDS UNDERSTANDING\n",
            "Prediction   :  WHE RAING WITH LONG BLONG MORE FROM THE SPENSSITY OF THE SAND A SAND THE SAND THE SAND THE SAND THE SAND THE SAND THE SAND THE SAND A SAND A SAND THE SAND A SAND THE SAND THE SAND A SAND THE SAND THE SAND THE SAND A SAND THE SAND THE SAND THE SAND\n"
          ]
        },
        {
          "name": "stderr",
          "output_type": "stream",
          "text": [
            "Val:  14%|█▎        | 3/22 [02:25<15:12, 48.03s/it, running_distance=157.6875]"
          ]
        },
        {
          "name": "stdout",
          "output_type": "stream",
          "text": [
            "\n",
            "Ground Truth :  I EXPLAIN THAT I'M TAKING MUSIC AND ALSO BIOLOGY ALGEBRA ENGLISH AND FRENCH MUSIC HE SNORTS\n",
            "Prediction   :  I CCLAING THE MADE MADE MUSICK ALS BILLENT ALSO BYLENT ONE THRING FRANCE AND FRANCE AND FRANCE AND FRANCE AND THE SNORT AND THE SNORT AND THE SNORT AND THE SNORT AND THE SNORT AND THE SNORT\n"
          ]
        },
        {
          "name": "stderr",
          "output_type": "stream",
          "text": [
            "Val:  18%|█▊        | 4/22 [03:13<14:22, 47.91s/it, running_distance=157.2168]"
          ]
        },
        {
          "name": "stdout",
          "output_type": "stream",
          "text": [
            "\n",
            "Ground Truth :  NOW HIS MIDDLE HORSE WAS BEING ALMOST DRAGGED BY THE OTHER TWO\n",
            "Prediction   :  NOW MILL FORSE BENG OF MUST BY AT THE AT THE AT THE AT THE AND THE GET AND WHICH AND WHICH AND THE SHE WAS A SHE WAS A SHE WAS A SHE WAS A SHOULD THE STRAT A STRAT A STRAT A SME THE SMILL THE SMILL THE SMILL THE HE MILL THE GOD THE MILL THE SMILL FORSE MILL FORS\n"
          ]
        },
        {
          "name": "stderr",
          "output_type": "stream",
          "text": [
            "Val:  23%|██▎       | 5/22 [04:04<13:55, 49.12s/it, running_distance=158.6219]"
          ]
        },
        {
          "name": "stdout",
          "output_type": "stream",
          "text": [
            "\n",
            "Ground Truth :  OH REJOINED THE DAGUERREOTYPIST BECAUSE LIKE AN OLD LADY'S CUP OF TEA IT IS WATER BEWITCHED\n",
            "Prediction   :  WHO WERE THE GART THE GART THE LAKE ALL LAKE ALL LAY ALL ALL ALL THE SHE WITH AND A SHE WITH AND THE SHE WAS AND THE SURE THE SHE WATH IN THE SHE WITH THE NOT THE STONE THE STONE THE STONE THE STONE THE NOT THE STON\n"
          ]
        },
        {
          "name": "stderr",
          "output_type": "stream",
          "text": []
        },
        {
          "name": "stdout",
          "output_type": "stream",
          "text": [
            "Levenshtein Distance 158.6219\n",
            "Saved epoch model\n",
            "Saved best training model\n",
            "\n",
            "Epoch 6/50\n"
          ]
        },
        {
          "name": "stderr",
          "output_type": "stream",
          "text": []
        },
        {
          "name": "stdout",
          "output_type": "stream",
          "text": [
            "\n",
            "Epoch 6/50: \n",
            "Train Loss 0.9530\t Train Perplexity 2.6684\t Learning Rate 0.0005\n",
            "Saved epoch model\n",
            "Saved best training model\n",
            "\n",
            "Epoch 7/50\n"
          ]
        },
        {
          "name": "stderr",
          "output_type": "stream",
          "text": []
        },
        {
          "name": "stdout",
          "output_type": "stream",
          "text": [
            "\n",
            "Epoch 7/50: \n",
            "Train Loss 0.5520\t Train Perplexity 1.7385\t Learning Rate 0.0005\n"
          ]
        },
        {
          "name": "stderr",
          "output_type": "stream",
          "text": [
            "Val:   5%|▍         | 1/22 [00:17<06:15, 17.90s/it, running_distance=18.4688]"
          ]
        },
        {
          "name": "stdout",
          "output_type": "stream",
          "text": [
            "\n",
            "Ground Truth :  SHE PRESSED HIS HAND GENTLY IN GRATITUDE WEREN'T YOU HAPPY THEN AT ALL\n",
            "Prediction   :  SHE PRESSED HIS HAND GENTLY IN GRADITUDE WORD YOU HAPPY THEN AT ALL\n"
          ]
        },
        {
          "name": "stderr",
          "output_type": "stream",
          "text": [
            "Val:   9%|▉         | 2/22 [00:34<05:40, 17.04s/it, running_distance=22.5938]"
          ]
        },
        {
          "name": "stdout",
          "output_type": "stream",
          "text": [
            "\n",
            "Ground Truth :  WE RANGE WIDER LAST LONGER AND ESCAPE MORE AND MORE FROM INTENSITY TOWARDS UNDERSTANDING\n",
            "Prediction   :  WE RANGE WHITER LAST LONGER AND IS CEEP MORE AT MORE FROM INTENSITY TOWARDS UNDER STANDING\n"
          ]
        },
        {
          "name": "stderr",
          "output_type": "stream",
          "text": [
            "Val:  14%|█▎        | 3/22 [00:50<05:18, 16.79s/it, running_distance=22.9010]"
          ]
        },
        {
          "name": "stdout",
          "output_type": "stream",
          "text": [
            "\n",
            "Ground Truth :  I EXPLAIN THAT I'M TAKING MUSIC AND ALSO BIOLOGY ALGEBRA ENGLISH AND FRENCH MUSIC HE SNORTS\n",
            "Prediction   :  EXPLAIN THAT OM TAKING MUSIC AND ALSO BY OLSO BY OLITY OUTS REVENGLISH IN FRIENCH HE SNARTS\n"
          ]
        },
        {
          "name": "stderr",
          "output_type": "stream",
          "text": [
            "Val:  18%|█▊        | 4/22 [01:08<05:11, 17.32s/it, running_distance=21.3086]"
          ]
        },
        {
          "name": "stdout",
          "output_type": "stream",
          "text": [
            "\n",
            "Ground Truth :  NOW HIS MIDDLE HORSE WAS BEING ALMOST DRAGGED BY THE OTHER TWO\n",
            "Prediction   :  NOW HIS MILL HORSE WAS BEING ALMOST DRAGG BY THE OTHER TUE\n"
          ]
        },
        {
          "name": "stderr",
          "output_type": "stream",
          "text": [
            "Val:  23%|██▎       | 5/22 [01:40<06:23, 22.59s/it, running_distance=22.5156]"
          ]
        },
        {
          "name": "stdout",
          "output_type": "stream",
          "text": [
            "\n",
            "Ground Truth :  OH REJOINED THE DAGUERREOTYPIST BECAUSE LIKE AN OLD LADY'S CUP OF TEA IT IS WATER BEWITCHED\n",
            "Prediction   :  OH REJOINED TO GERR TIPEST BECAUSE LIKE AND OLD LADE HIS CUP OF TEED IT IS WATER BEWHICH TO\n"
          ]
        },
        {
          "name": "stderr",
          "output_type": "stream",
          "text": []
        },
        {
          "name": "stdout",
          "output_type": "stream",
          "text": [
            "Levenshtein Distance 22.5156\n",
            "Saved epoch model\n",
            "Saved best training model\n",
            "\n",
            "Epoch 8/50\n"
          ]
        },
        {
          "name": "stderr",
          "output_type": "stream",
          "text": []
        },
        {
          "name": "stdout",
          "output_type": "stream",
          "text": [
            "\n",
            "Epoch 8/50: \n",
            "Train Loss 0.4301\t Train Perplexity 1.5379\t Learning Rate 0.0005\n",
            "Saved epoch model\n",
            "Saved best training model\n",
            "\n",
            "Epoch 9/50\n"
          ]
        },
        {
          "name": "stderr",
          "output_type": "stream",
          "text": []
        },
        {
          "name": "stdout",
          "output_type": "stream",
          "text": [
            "\n",
            "Epoch 9/50: \n",
            "Train Loss 0.3649\t Train Perplexity 1.4405\t Learning Rate 0.0005\n"
          ]
        },
        {
          "name": "stderr",
          "output_type": "stream",
          "text": [
            "Val:   5%|▍         | 1/22 [00:18<06:34, 18.78s/it, running_distance=15.4375]"
          ]
        },
        {
          "name": "stdout",
          "output_type": "stream",
          "text": [
            "\n",
            "Ground Truth :  SHE PRESSED HIS HAND GENTLY IN GRATITUDE WEREN'T YOU HAPPY THEN AT ALL\n",
            "Prediction   :  SHE PRESSED HIS HAND GENTLY IN GRATITUDE WORD YOU HAPPY THEN AT ALL\n"
          ]
        },
        {
          "name": "stderr",
          "output_type": "stream",
          "text": [
            "Val:   9%|▉         | 2/22 [00:36<06:03, 18.16s/it, running_distance=18.1484]"
          ]
        },
        {
          "name": "stdout",
          "output_type": "stream",
          "text": [
            "\n",
            "Ground Truth :  WE RANGE WIDER LAST LONGER AND ESCAPE MORE AND MORE FROM INTENSITY TOWARDS UNDERSTANDING\n",
            "Prediction   :  WE RANGE WATER LAST LONGER AND ASKEEP MORE AT MORE FROM INTENSITY TOWARDS UNDERSTANDING\n"
          ]
        },
        {
          "name": "stderr",
          "output_type": "stream",
          "text": [
            "Val:  14%|█▎        | 3/22 [00:52<05:30, 17.37s/it, running_distance=18.5130]"
          ]
        },
        {
          "name": "stdout",
          "output_type": "stream",
          "text": [
            "\n",
            "Ground Truth :  I EXPLAIN THAT I'M TAKING MUSIC AND ALSO BIOLOGY ALGEBRA ENGLISH AND FRENCH MUSIC HE SNORTS\n",
            "Prediction   :  EXPLAINED THAT I'M TAKING MUSIC AND ALSO BIOLITY OUTS RE ENGLISH IN FRENCH MUSIC HE'S NARTS\n"
          ]
        },
        {
          "name": "stderr",
          "output_type": "stream",
          "text": [
            "Val:  18%|█▊        | 4/22 [01:08<04:56, 16.47s/it, running_distance=17.3516]"
          ]
        },
        {
          "name": "stdout",
          "output_type": "stream",
          "text": [
            "\n",
            "Ground Truth :  NOW HIS MIDDLE HORSE WAS BEING ALMOST DRAGGED BY THE OTHER TWO\n",
            "Prediction   :  NOW HIS MILL HORSE WAS BEING ALMOST DRAGG BY THE OTHER TWO\n"
          ]
        },
        {
          "name": "stderr",
          "output_type": "stream",
          "text": [
            "Val:  23%|██▎       | 5/22 [01:26<04:50, 17.10s/it, running_distance=18.2375]"
          ]
        },
        {
          "name": "stdout",
          "output_type": "stream",
          "text": [
            "\n",
            "Ground Truth :  OH REJOINED THE DAGUERREOTYPIST BECAUSE LIKE AN OLD LADY'S CUP OF TEA IT IS WATER BEWITCHED\n",
            "Prediction   :  OH REJOINT AT TO GARATIPEST BECAUSE LIKE AN OLD LADIES CUP OF TEE IT IS WATER BE WHICHED\n"
          ]
        },
        {
          "name": "stderr",
          "output_type": "stream",
          "text": []
        },
        {
          "name": "stdout",
          "output_type": "stream",
          "text": [
            "Levenshtein Distance 18.2375\n",
            "Saved epoch model\n",
            "Saved best training model\n",
            "\n",
            "Epoch 10/50\n"
          ]
        },
        {
          "name": "stderr",
          "output_type": "stream",
          "text": []
        },
        {
          "name": "stdout",
          "output_type": "stream",
          "text": [
            "\n",
            "Epoch 10/50: \n",
            "Train Loss 0.3220\t Train Perplexity 1.3799\t Learning Rate 0.0005\n",
            "Saved epoch model\n",
            "Saved best training model\n",
            "\n",
            "Epoch 11/50\n"
          ]
        },
        {
          "name": "stderr",
          "output_type": "stream",
          "text": []
        },
        {
          "name": "stdout",
          "output_type": "stream",
          "text": [
            "\n",
            "Epoch 11/50: \n",
            "Train Loss 0.2903\t Train Perplexity 1.3370\t Learning Rate 0.0005\n"
          ]
        },
        {
          "name": "stderr",
          "output_type": "stream",
          "text": [
            "Val:   5%|▍         | 1/22 [00:17<06:06, 17.45s/it, running_distance=13.6953]"
          ]
        },
        {
          "name": "stdout",
          "output_type": "stream",
          "text": [
            "\n",
            "Ground Truth :  SHE PRESSED HIS HAND GENTLY IN GRATITUDE WEREN'T YOU HAPPY THEN AT ALL\n",
            "Prediction   :  SHE PRESSED HIS HAND GENTLY IN GRATITUDE WORD YOU HAPPY THEN AT ALL\n"
          ]
        },
        {
          "name": "stderr",
          "output_type": "stream",
          "text": [
            "Val:   9%|▉         | 2/22 [00:34<05:46, 17.30s/it, running_distance=16.0000]"
          ]
        },
        {
          "name": "stdout",
          "output_type": "stream",
          "text": [
            "\n",
            "Ground Truth :  WE RANGE WIDER LAST LONGER AND ESCAPE MORE AND MORE FROM INTENSITY TOWARDS UNDERSTANDING\n",
            "Prediction   :  WE RANGE WHATER LAST LONGER AND IS KEEP MORE AT MORE FROM INTENSITY TOWARDS UNDERSTANDING\n"
          ]
        },
        {
          "name": "stderr",
          "output_type": "stream",
          "text": [
            "Val:  14%|█▎        | 3/22 [00:51<05:27, 17.25s/it, running_distance=16.1198]"
          ]
        },
        {
          "name": "stdout",
          "output_type": "stream",
          "text": [
            "\n",
            "Ground Truth :  I EXPLAIN THAT I'M TAKING MUSIC AND ALSO BIOLOGY ALGEBRA ENGLISH AND FRENCH MUSIC HE SNORTS\n",
            "Prediction   :  EXPLAIN THAT I'M TAKING MUSIC AND ALSO BIOLITY OUTS REMENGLISH IN FRENCH MUSIC HE'S NARTS\n"
          ]
        },
        {
          "name": "stderr",
          "output_type": "stream",
          "text": [
            "Val:  18%|█▊        | 4/22 [01:07<04:56, 16.50s/it, running_distance=14.9727]"
          ]
        },
        {
          "name": "stdout",
          "output_type": "stream",
          "text": [
            "\n",
            "Ground Truth :  NOW HIS MIDDLE HORSE WAS BEING ALMOST DRAGGED BY THE OTHER TWO\n",
            "Prediction   :  NOW HIS MILL HORSE WAS BEING ALMOST DRAGGED BY THE OTHER TWO\n"
          ]
        },
        {
          "name": "stderr",
          "output_type": "stream",
          "text": [
            "Val:  23%|██▎       | 5/22 [01:26<04:56, 17.47s/it, running_distance=15.6578]"
          ]
        },
        {
          "name": "stdout",
          "output_type": "stream",
          "text": [
            "\n",
            "Ground Truth :  OH REJOINED THE DAGUERREOTYPIST BECAUSE LIKE AN OLD LADY'S CUP OF TEA IT IS WATER BEWITCHED\n",
            "Prediction   :  OH REJOINED TO GARATIPEST BECAUSE LIKE AN OLD LADY'S CUP OF TEAK IT IS WATER BE WHICHED TO\n"
          ]
        },
        {
          "name": "stderr",
          "output_type": "stream",
          "text": []
        },
        {
          "name": "stdout",
          "output_type": "stream",
          "text": [
            "Levenshtein Distance 15.6578\n",
            "Saved epoch model\n",
            "Saved best training model\n",
            "\n",
            "Epoch 12/50\n"
          ]
        },
        {
          "name": "stderr",
          "output_type": "stream",
          "text": []
        },
        {
          "name": "stdout",
          "output_type": "stream",
          "text": [
            "\n",
            "Epoch 12/50: \n",
            "Train Loss 0.2649\t Train Perplexity 1.3034\t Learning Rate 0.0005\n",
            "Saved epoch model\n",
            "Saved best training model\n",
            "\n",
            "Epoch 13/50\n"
          ]
        },
        {
          "name": "stderr",
          "output_type": "stream",
          "text": []
        },
        {
          "name": "stdout",
          "output_type": "stream",
          "text": [
            "\n",
            "Epoch 13/50: \n",
            "Train Loss 0.2442\t Train Perplexity 1.2767\t Learning Rate 0.0005\n"
          ]
        },
        {
          "name": "stderr",
          "output_type": "stream",
          "text": [
            "Val:   5%|▍         | 1/22 [00:17<06:16, 17.92s/it, running_distance=13.7031]"
          ]
        },
        {
          "name": "stdout",
          "output_type": "stream",
          "text": [
            "\n",
            "Ground Truth :  SHE PRESSED HIS HAND GENTLY IN GRATITUDE WEREN'T YOU HAPPY THEN AT ALL\n",
            "Prediction   :  SHE PRESSED HIS HAND GENTLY IN GRATITUDE WORD YOU HAPPY THEN AT ALL\n"
          ]
        },
        {
          "name": "stderr",
          "output_type": "stream",
          "text": [
            "Val:   9%|▉         | 2/22 [00:34<05:42, 17.15s/it, running_distance=15.4023]"
          ]
        },
        {
          "name": "stdout",
          "output_type": "stream",
          "text": [
            "\n",
            "Ground Truth :  WE RANGE WIDER LAST LONGER AND ESCAPE MORE AND MORE FROM INTENSITY TOWARDS UNDERSTANDING\n",
            "Prediction   :  WE RANGE WHITER LAST BLONGER AND ESCEEP MORE AT MORE FROM INTENSITY TOWARDS UNDERSTANDING\n"
          ]
        },
        {
          "name": "stderr",
          "output_type": "stream",
          "text": [
            "Val:  14%|█▎        | 3/22 [01:21<09:42, 30.64s/it, running_distance=15.5208]"
          ]
        },
        {
          "name": "stdout",
          "output_type": "stream",
          "text": [
            "\n",
            "Ground Truth :  I EXPLAIN THAT I'M TAKING MUSIC AND ALSO BIOLOGY ALGEBRA ENGLISH AND FRENCH MUSIC HE SNORTS\n",
            "Prediction   :  EXPLAIN THAT I'M TAKING MUSIC AND ALSO BIOLITY OUTS OR ENGLISH AND FRIENCH MUSIC HE'S NORTS\n"
          ]
        },
        {
          "name": "stderr",
          "output_type": "stream",
          "text": [
            "Val:  18%|█▊        | 4/22 [01:36<07:25, 24.75s/it, running_distance=14.2910]"
          ]
        },
        {
          "name": "stdout",
          "output_type": "stream",
          "text": [
            "\n",
            "Ground Truth :  NOW HIS MIDDLE HORSE WAS BEING ALMOST DRAGGED BY THE OTHER TWO\n",
            "Prediction   :  NOW HIS MILL HORSE WAS BEING ALMOST DRAGGED BY THE OTHER TWO\n"
          ]
        },
        {
          "name": "stderr",
          "output_type": "stream",
          "text": [
            "Val:  23%|██▎       | 5/22 [01:57<06:32, 23.07s/it, running_distance=14.9625]"
          ]
        },
        {
          "name": "stdout",
          "output_type": "stream",
          "text": [
            "\n",
            "Ground Truth :  OH REJOINED THE DAGUERREOTYPIST BECAUSE LIKE AN OLD LADY'S CUP OF TEA IT IS WATER BEWITCHED\n",
            "Prediction   :  OH REJOINED THAT TO GARTIPEST BECAUSE LIKE AN OLD LADY'S CUP OF TEAK IT IS WATER BEWITCHED\n"
          ]
        },
        {
          "name": "stderr",
          "output_type": "stream",
          "text": []
        },
        {
          "name": "stdout",
          "output_type": "stream",
          "text": [
            "Levenshtein Distance 14.9625\n",
            "Saved epoch model\n",
            "Saved best training model\n",
            "\n",
            "Epoch 14/50\n"
          ]
        },
        {
          "name": "stderr",
          "output_type": "stream",
          "text": []
        },
        {
          "name": "stdout",
          "output_type": "stream",
          "text": [
            "\n",
            "Epoch 14/50: \n",
            "Train Loss 0.2267\t Train Perplexity 1.2546\t Learning Rate 0.0005\n",
            "Saved epoch model\n",
            "Saved best training model\n",
            "\n",
            "Epoch 15/50\n"
          ]
        },
        {
          "name": "stderr",
          "output_type": "stream",
          "text": []
        },
        {
          "name": "stdout",
          "output_type": "stream",
          "text": [
            "\n",
            "Epoch 15/50: \n",
            "Train Loss 0.2119\t Train Perplexity 1.2361\t Learning Rate 0.0005\n"
          ]
        },
        {
          "name": "stderr",
          "output_type": "stream",
          "text": [
            "Val:   5%|▍         | 1/22 [00:18<06:20, 18.11s/it, running_distance=12.5938]"
          ]
        },
        {
          "name": "stdout",
          "output_type": "stream",
          "text": [
            "\n",
            "Ground Truth :  SHE PRESSED HIS HAND GENTLY IN GRATITUDE WEREN'T YOU HAPPY THEN AT ALL\n",
            "Prediction   :  SHE PRESSED HIS HAND GENTLY IN GRATITUDE WORN'T YOU HAPPY THEN AT ALL\n"
          ]
        },
        {
          "name": "stderr",
          "output_type": "stream",
          "text": [
            "Val:   9%|▉         | 2/22 [00:35<05:53, 17.67s/it, running_distance=14.0625]"
          ]
        },
        {
          "name": "stdout",
          "output_type": "stream",
          "text": [
            "\n",
            "Ground Truth :  WE RANGE WIDER LAST LONGER AND ESCAPE MORE AND MORE FROM INTENSITY TOWARDS UNDERSTANDING\n",
            "Prediction   :  WE RANGE WATER LAST LONGER AND ESCHEEPED MORE AT MORE FROM INTENSITY TOWARDS UNDERSTANDING\n"
          ]
        },
        {
          "name": "stderr",
          "output_type": "stream",
          "text": [
            "Val:  14%|█▎        | 3/22 [00:51<05:18, 16.75s/it, running_distance=14.2708]"
          ]
        },
        {
          "name": "stdout",
          "output_type": "stream",
          "text": [
            "\n",
            "Ground Truth :  I EXPLAIN THAT I'M TAKING MUSIC AND ALSO BIOLOGY ALGEBRA ENGLISH AND FRENCH MUSIC HE SNORTS\n",
            "Prediction   :  EXPLAIN THAT I'M TAKING MUSIC AND ALSO BIOLITY OUTS YOUR ENGLISH IN FRIENCH MUSIC THESE NORTS\n"
          ]
        },
        {
          "name": "stderr",
          "output_type": "stream",
          "text": [
            "Val:  18%|█▊        | 4/22 [01:06<04:50, 16.12s/it, running_distance=13.2637]"
          ]
        },
        {
          "name": "stdout",
          "output_type": "stream",
          "text": [
            "\n",
            "Ground Truth :  NOW HIS MIDDLE HORSE WAS BEING ALMOST DRAGGED BY THE OTHER TWO\n",
            "Prediction   :  NOW HIS MILL HORSE WAS BEING ALMOST DRAGGED BY THE OTHER TWO\n"
          ]
        },
        {
          "name": "stderr",
          "output_type": "stream",
          "text": [
            "Val:  23%|██▎       | 5/22 [01:25<04:53, 17.24s/it, running_distance=13.9156]"
          ]
        },
        {
          "name": "stdout",
          "output_type": "stream",
          "text": [
            "\n",
            "Ground Truth :  OH REJOINED THE DAGUERREOTYPIST BECAUSE LIKE AN OLD LADY'S CUP OF TEA IT IS WATER BEWITCHED\n",
            "Prediction   :  OH REJOINED THAT TO GARATIPEST BECAUSE LIKE AN OLD LADY'S CUP OF TEA IT IS WATER BEWITCHED\n"
          ]
        },
        {
          "name": "stderr",
          "output_type": "stream",
          "text": []
        },
        {
          "name": "stdout",
          "output_type": "stream",
          "text": [
            "Levenshtein Distance 13.9156\n",
            "Saved epoch model\n",
            "Saved best training model\n",
            "\n",
            "Epoch 16/50\n"
          ]
        },
        {
          "name": "stderr",
          "output_type": "stream",
          "text": []
        },
        {
          "name": "stdout",
          "output_type": "stream",
          "text": [
            "\n",
            "Epoch 16/50: \n",
            "Train Loss 0.1997\t Train Perplexity 1.2211\t Learning Rate 0.0005\n",
            "Saved epoch model\n",
            "Saved best training model\n",
            "\n",
            "Epoch 17/50\n"
          ]
        },
        {
          "name": "stderr",
          "output_type": "stream",
          "text": []
        },
        {
          "name": "stdout",
          "output_type": "stream",
          "text": [
            "\n",
            "Epoch 17/50: \n",
            "Train Loss 0.1887\t Train Perplexity 1.2077\t Learning Rate 0.0005\n"
          ]
        },
        {
          "name": "stderr",
          "output_type": "stream",
          "text": [
            "Val:   5%|▍         | 1/22 [00:17<06:16, 17.95s/it, running_distance=12.5000]"
          ]
        },
        {
          "name": "stdout",
          "output_type": "stream",
          "text": [
            "\n",
            "Ground Truth :  SHE PRESSED HIS HAND GENTLY IN GRATITUDE WEREN'T YOU HAPPY THEN AT ALL\n",
            "Prediction   :  SHE PRESSED HIS HAND GENTLY IN GRATITUDE WORN'T YOU HAPPY THEN AT ALL\n"
          ]
        },
        {
          "name": "stderr",
          "output_type": "stream",
          "text": [
            "Val:   9%|▉         | 2/22 [00:37<06:16, 18.84s/it, running_distance=13.8047]"
          ]
        },
        {
          "name": "stdout",
          "output_type": "stream",
          "text": [
            "\n",
            "Ground Truth :  WE RANGE WIDER LAST LONGER AND ESCAPE MORE AND MORE FROM INTENSITY TOWARDS UNDERSTANDING\n",
            "Prediction   :  WE RANGE WATER LAST LONGER AND ESCEEPED MORE AT MORE AT MORE FROM INTENSITY TOWARDS UNDERSTANDING\n"
          ]
        },
        {
          "name": "stderr",
          "output_type": "stream",
          "text": [
            "Val:  14%|█▎        | 3/22 [01:24<10:06, 31.92s/it, running_distance=14.0990]"
          ]
        },
        {
          "name": "stdout",
          "output_type": "stream",
          "text": [
            "\n",
            "Ground Truth :  I EXPLAIN THAT I'M TAKING MUSIC AND ALSO BIOLOGY ALGEBRA ENGLISH AND FRENCH MUSIC HE SNORTS\n",
            "Prediction   :  EXPLAIN THAT I'M TAKING MUSIC AND ALSO BY OLIGI ALDIER ENGLISH IN FRENCH MUSIC THESE NORTS\n"
          ]
        },
        {
          "name": "stderr",
          "output_type": "stream",
          "text": [
            "Val:  18%|█▊        | 4/22 [01:42<07:51, 26.17s/it, running_distance=13.0586]"
          ]
        },
        {
          "name": "stdout",
          "output_type": "stream",
          "text": [
            "\n",
            "Ground Truth :  NOW HIS MIDDLE HORSE WAS BEING ALMOST DRAGGED BY THE OTHER TWO\n",
            "Prediction   :  NOW HIS MILL HORSE WAS BEING ALMOST DRAGGED BY THE OTHER TWO\n"
          ]
        },
        {
          "name": "stderr",
          "output_type": "stream",
          "text": [
            "Val:  23%|██▎       | 5/22 [02:03<06:52, 24.27s/it, running_distance=13.6203]"
          ]
        },
        {
          "name": "stdout",
          "output_type": "stream",
          "text": [
            "\n",
            "Ground Truth :  OH REJOINED THE DAGUERREOTYPIST BECAUSE LIKE AN OLD LADY'S CUP OF TEA IT IS WATER BEWITCHED\n",
            "Prediction   :  OH REJOINED THAT TO GAR TYPEST BECAUSE LIKE AN OLD LADY'S CUP OF TEAK IT IS WATER BE WHICHED\n"
          ]
        },
        {
          "name": "stderr",
          "output_type": "stream",
          "text": []
        },
        {
          "name": "stdout",
          "output_type": "stream",
          "text": [
            "Levenshtein Distance 13.6203\n",
            "Saved epoch model\n",
            "Saved best training model\n",
            "\n",
            "Epoch 18/50\n"
          ]
        },
        {
          "name": "stderr",
          "output_type": "stream",
          "text": []
        },
        {
          "name": "stdout",
          "output_type": "stream",
          "text": [
            "\n",
            "Epoch 18/50: \n",
            "Train Loss 0.1790\t Train Perplexity 1.1961\t Learning Rate 0.0005\n",
            "Saved epoch model\n",
            "Saved best training model\n",
            "\n",
            "Epoch 19/50\n"
          ]
        },
        {
          "name": "stderr",
          "output_type": "stream",
          "text": []
        },
        {
          "name": "stdout",
          "output_type": "stream",
          "text": [
            "\n",
            "Epoch 19/50: \n",
            "Train Loss 0.1691\t Train Perplexity 1.1843\t Learning Rate 0.0005\n"
          ]
        },
        {
          "name": "stderr",
          "output_type": "stream",
          "text": [
            "Val:   5%|▍         | 1/22 [00:19<06:42, 19.17s/it, running_distance=11.8516]"
          ]
        },
        {
          "name": "stdout",
          "output_type": "stream",
          "text": [
            "\n",
            "Ground Truth :  SHE PRESSED HIS HAND GENTLY IN GRATITUDE WEREN'T YOU HAPPY THEN AT ALL\n",
            "Prediction   :  SHE PRESSED HIS HAND GENTLY IN GRATITUDE WORN'T YOU HAPPY THEN AT ALL\n"
          ]
        },
        {
          "name": "stderr",
          "output_type": "stream",
          "text": [
            "Val:   9%|▉         | 2/22 [00:46<08:02, 24.11s/it, running_distance=13.5938]"
          ]
        },
        {
          "name": "stdout",
          "output_type": "stream",
          "text": [
            "\n",
            "Ground Truth :  WE RANGE WIDER LAST LONGER AND ESCAPE MORE AND MORE FROM INTENSITY TOWARDS UNDERSTANDING\n",
            "Prediction   :  WE RANGE WATER LAST LONGER AND ESCEEPED MORE AT MORE FROM INTENSITY TOWARDS UNDERSTANDING\n"
          ]
        },
        {
          "name": "stderr",
          "output_type": "stream",
          "text": [
            "Val:  14%|█▎        | 3/22 [01:05<06:51, 21.64s/it, running_distance=13.5339]"
          ]
        },
        {
          "name": "stdout",
          "output_type": "stream",
          "text": [
            "\n",
            "Ground Truth :  I EXPLAIN THAT I'M TAKING MUSIC AND ALSO BIOLOGY ALGEBRA ENGLISH AND FRENCH MUSIC HE SNORTS\n",
            "Prediction   :  EXPLAIN THAT I'M TAKING MUSIC AND ALSO BIOLIGY ALDS OR ENGLISH AND FRENCH MUSIC THESE NORTS\n"
          ]
        },
        {
          "name": "stderr",
          "output_type": "stream",
          "text": [
            "Val:  18%|█▊        | 4/22 [01:21<05:52, 19.59s/it, running_distance=12.6328]"
          ]
        },
        {
          "name": "stdout",
          "output_type": "stream",
          "text": [
            "\n",
            "Ground Truth :  NOW HIS MIDDLE HORSE WAS BEING ALMOST DRAGGED BY THE OTHER TWO\n",
            "Prediction   :  NOW HIS MILL HORSE WAS BEING ALMOST DRAGGED BY THE OTHER TWO\n"
          ]
        },
        {
          "name": "stderr",
          "output_type": "stream",
          "text": [
            "Val:  23%|██▎       | 5/22 [01:41<05:35, 19.73s/it, running_distance=13.0281]"
          ]
        },
        {
          "name": "stdout",
          "output_type": "stream",
          "text": [
            "\n",
            "Ground Truth :  OH REJOINED THE DAGUERREOTYPIST BECAUSE LIKE AN OLD LADY'S CUP OF TEA IT IS WATER BEWITCHED\n",
            "Prediction   :  OH REJOINED THAT TO GARL TYPEST BECAUSE LIKE AN OLD LADY'S CUP OF TEAK IT IS WATER BEWITCHED\n"
          ]
        },
        {
          "name": "stderr",
          "output_type": "stream",
          "text": []
        },
        {
          "name": "stdout",
          "output_type": "stream",
          "text": [
            "Levenshtein Distance 13.0281\n",
            "Saved epoch model\n",
            "Saved best training model\n",
            "\n",
            "Epoch 20/50\n"
          ]
        },
        {
          "name": "stderr",
          "output_type": "stream",
          "text": []
        },
        {
          "name": "stdout",
          "output_type": "stream",
          "text": [
            "\n",
            "Epoch 20/50: \n",
            "Train Loss 0.1607\t Train Perplexity 1.1744\t Learning Rate 0.0005\n",
            "Saved epoch model\n",
            "Saved best training model\n",
            "\n",
            "Epoch 21/50\n"
          ]
        },
        {
          "name": "stderr",
          "output_type": "stream",
          "text": []
        },
        {
          "name": "stdout",
          "output_type": "stream",
          "text": [
            "\n",
            "Epoch 21/50: \n",
            "Train Loss 0.1538\t Train Perplexity 1.1663\t Learning Rate 0.0005\n"
          ]
        },
        {
          "name": "stderr",
          "output_type": "stream",
          "text": [
            "Val:   5%|▍         | 1/22 [00:20<07:06, 20.32s/it, running_distance=11.9062]"
          ]
        },
        {
          "name": "stdout",
          "output_type": "stream",
          "text": [
            "\n",
            "Ground Truth :  SHE PRESSED HIS HAND GENTLY IN GRATITUDE WEREN'T YOU HAPPY THEN AT ALL\n",
            "Prediction   :  SHE PRESSED HIS HAND GENTLY IN GRATITUDE WORN'T YOU HAPPY THEN AT ALL\n"
          ]
        },
        {
          "name": "stderr",
          "output_type": "stream",
          "text": [
            "Val:   9%|▉         | 2/22 [00:39<06:36, 19.80s/it, running_distance=13.3555]"
          ]
        },
        {
          "name": "stdout",
          "output_type": "stream",
          "text": [
            "\n",
            "Ground Truth :  WE RANGE WIDER LAST LONGER AND ESCAPE MORE AND MORE FROM INTENSITY TOWARDS UNDERSTANDING\n",
            "Prediction   :  WE RANGE WATER LAST LONGER AND ESCEEPED MORE AT MORE FROM INTENSITY TOWARDS UNDERSTANDING\n"
          ]
        },
        {
          "name": "stderr",
          "output_type": "stream",
          "text": [
            "Val:  14%|█▎        | 3/22 [00:58<06:08, 19.39s/it, running_distance=13.3958]"
          ]
        },
        {
          "name": "stdout",
          "output_type": "stream",
          "text": [
            "\n",
            "Ground Truth :  I EXPLAIN THAT I'M TAKING MUSIC AND ALSO BIOLOGY ALGEBRA ENGLISH AND FRENCH MUSIC HE SNORTS\n",
            "Prediction   :  EXPLAIN THAT I'M TAKING MUSIC AND ALSO BIOLITY ALTIE ALTIE ALTIE AND FRENCH MUSIC THESE NARTS\n"
          ]
        },
        {
          "name": "stderr",
          "output_type": "stream",
          "text": [
            "Val:  18%|█▊        | 4/22 [01:16<05:35, 18.62s/it, running_distance=12.5254]"
          ]
        },
        {
          "name": "stdout",
          "output_type": "stream",
          "text": [
            "\n",
            "Ground Truth :  NOW HIS MIDDLE HORSE WAS BEING ALMOST DRAGGED BY THE OTHER TWO\n",
            "Prediction   :  NOW HIS MILL HORSE WAS BEING ALMOST DRAGGED BY THE OTHER TWO\n"
          ]
        },
        {
          "name": "stderr",
          "output_type": "stream",
          "text": [
            "Val:  23%|██▎       | 5/22 [01:37<05:32, 19.55s/it, running_distance=12.9594]"
          ]
        },
        {
          "name": "stdout",
          "output_type": "stream",
          "text": [
            "\n",
            "Ground Truth :  OH REJOINED THE DAGUERREOTYPIST BECAUSE LIKE AN OLD LADY'S CUP OF TEA IT IS WATER BEWITCHED\n",
            "Prediction   :  OH REJOINED THAT TO GAR TYPEST BECAUSE LIKE AN OLD LADY'S CUP OF TEAK IT IS WATER BEWITCHED\n"
          ]
        },
        {
          "name": "stderr",
          "output_type": "stream",
          "text": []
        },
        {
          "name": "stdout",
          "output_type": "stream",
          "text": [
            "Levenshtein Distance 12.9594\n",
            "Saved epoch model\n",
            "Saved best training model\n",
            "\n",
            "Epoch 22/50\n"
          ]
        },
        {
          "name": "stderr",
          "output_type": "stream",
          "text": []
        },
        {
          "name": "stdout",
          "output_type": "stream",
          "text": [
            "\n",
            "Epoch 22/50: \n",
            "Train Loss 0.1471\t Train Perplexity 1.1585\t Learning Rate 0.0005\n",
            "Saved epoch model\n",
            "Saved best training model\n",
            "\n",
            "Epoch 23/50\n"
          ]
        },
        {
          "name": "stderr",
          "output_type": "stream",
          "text": []
        },
        {
          "name": "stdout",
          "output_type": "stream",
          "text": [
            "\n",
            "Epoch 23/50: \n",
            "Train Loss 0.1405\t Train Perplexity 1.1509\t Learning Rate 0.0005\n"
          ]
        },
        {
          "name": "stderr",
          "output_type": "stream",
          "text": [
            "Val:   5%|▍         | 1/22 [00:13<04:42, 13.47s/it, running_distance=12.0312]"
          ]
        },
        {
          "name": "stdout",
          "output_type": "stream",
          "text": [
            "\n",
            "Ground Truth :  SHE PRESSED HIS HAND GENTLY IN GRATITUDE WEREN'T YOU HAPPY THEN AT ALL\n",
            "Prediction   :  SHE PRESSED HIS HAND GENTLY IN GRATITUDE WORN'T YOU HAPPY THEN AT ALL\n"
          ]
        },
        {
          "name": "stderr",
          "output_type": "stream",
          "text": [
            "Val:   9%|▉         | 2/22 [00:32<05:39, 16.98s/it, running_distance=13.1172]"
          ]
        },
        {
          "name": "stdout",
          "output_type": "stream",
          "text": [
            "\n",
            "Ground Truth :  WE RANGE WIDER LAST LONGER AND ESCAPE MORE AND MORE FROM INTENSITY TOWARDS UNDERSTANDING\n",
            "Prediction   :  WE RANGE WAITER LAST LONGER AND ESCEEPED MORE AT MORE FROM INTENSITY TOWARDS UNDERSTANDING\n"
          ]
        },
        {
          "name": "stderr",
          "output_type": "stream",
          "text": [
            "Val:  14%|█▎        | 3/22 [00:51<05:39, 17.86s/it, running_distance=13.1380]"
          ]
        },
        {
          "name": "stdout",
          "output_type": "stream",
          "text": [
            "\n",
            "Ground Truth :  I EXPLAIN THAT I'M TAKING MUSIC AND ALSO BIOLOGY ALGEBRA ENGLISH AND FRENCH MUSIC HE SNORTS\n",
            "Prediction   :  EXPLAIN THAT I'M TAKING MUSIC AND ALSO BIOLIGY ALTIE ALTIER ENGLISH IN FRENCH MUSIC THESE NARTS\n"
          ]
        },
        {
          "name": "stderr",
          "output_type": "stream",
          "text": [
            "Val:  18%|█▊        | 4/22 [01:09<05:19, 17.76s/it, running_distance=12.2500]"
          ]
        },
        {
          "name": "stdout",
          "output_type": "stream",
          "text": [
            "\n",
            "Ground Truth :  NOW HIS MIDDLE HORSE WAS BEING ALMOST DRAGGED BY THE OTHER TWO\n",
            "Prediction   :  NOW HIS MILL HORSE WAS BEING ALMOST DRAGGED BY THE OTHER TWO\n"
          ]
        },
        {
          "name": "stderr",
          "output_type": "stream",
          "text": [
            "Val:  23%|██▎       | 5/22 [01:29<05:16, 18.61s/it, running_distance=12.4734]"
          ]
        },
        {
          "name": "stdout",
          "output_type": "stream",
          "text": [
            "\n",
            "Ground Truth :  OH REJOINED THE DAGUERREOTYPIST BECAUSE LIKE AN OLD LADY'S CUP OF TEA IT IS WATER BEWITCHED\n",
            "Prediction   :  OH REJOINED IT TO GARROTIPEST BECAUSE LIKE AN OLD LADY'S CUP OF TEAK IT IS WATER BEWITCHED\n"
          ]
        },
        {
          "name": "stderr",
          "output_type": "stream",
          "text": []
        },
        {
          "name": "stdout",
          "output_type": "stream",
          "text": [
            "Levenshtein Distance 12.4734\n",
            "Saved epoch model\n",
            "Saved best training model\n",
            "\n",
            "Epoch 24/50\n"
          ]
        },
        {
          "name": "stderr",
          "output_type": "stream",
          "text": []
        },
        {
          "name": "stdout",
          "output_type": "stream",
          "text": [
            "\n",
            "Epoch 24/50: \n",
            "Train Loss 0.1345\t Train Perplexity 1.1439\t Learning Rate 0.0005\n",
            "Saved epoch model\n",
            "Saved best training model\n",
            "\n",
            "Epoch 25/50\n"
          ]
        },
        {
          "name": "stderr",
          "output_type": "stream",
          "text": []
        },
        {
          "name": "stdout",
          "output_type": "stream",
          "text": [
            "\n",
            "Epoch 25/50: \n",
            "Train Loss 0.1290\t Train Perplexity 1.1378\t Learning Rate 0.0005\n"
          ]
        },
        {
          "name": "stderr",
          "output_type": "stream",
          "text": [
            "Val:   5%|▍         | 1/22 [00:18<06:25, 18.35s/it, running_distance=11.6875]"
          ]
        },
        {
          "name": "stdout",
          "output_type": "stream",
          "text": [
            "\n",
            "Ground Truth :  SHE PRESSED HIS HAND GENTLY IN GRATITUDE WEREN'T YOU HAPPY THEN AT ALL\n",
            "Prediction   :  SHE PRESSED HIS HAND GENTLY IN GRATITUDE WORN YOU HAPPY THEN AT ALL\n"
          ]
        },
        {
          "name": "stderr",
          "output_type": "stream",
          "text": [
            "Val:   9%|▉         | 2/22 [00:37<06:18, 18.90s/it, running_distance=12.4492]"
          ]
        },
        {
          "name": "stdout",
          "output_type": "stream",
          "text": [
            "\n",
            "Ground Truth :  WE RANGE WIDER LAST LONGER AND ESCAPE MORE AND MORE FROM INTENSITY TOWARDS UNDERSTANDING\n",
            "Prediction   :  WE RANGE WATER LAST LONGER AND ESCEEPED MORE AT MORE AT MORE FROM INTENSITY TOWARDS UNDERSTANDING\n"
          ]
        },
        {
          "name": "stderr",
          "output_type": "stream",
          "text": [
            "Val:  14%|█▎        | 3/22 [00:56<05:57, 18.83s/it, running_distance=12.5104]"
          ]
        },
        {
          "name": "stdout",
          "output_type": "stream",
          "text": [
            "\n",
            "Ground Truth :  I EXPLAIN THAT I'M TAKING MUSIC AND ALSO BIOLOGY ALGEBRA ENGLISH AND FRENCH MUSIC HE SNORTS\n",
            "Prediction   :  EXPLAIN THAT I'M TAKING MUSIC AND ALSO BIOLITY ALTIE ALTIE ALTIE AND FRENCH MUSIC THESE NORTS\n"
          ]
        },
        {
          "name": "stderr",
          "output_type": "stream",
          "text": [
            "Val:  18%|█▊        | 4/22 [01:13<05:28, 18.27s/it, running_distance=11.5625]"
          ]
        },
        {
          "name": "stdout",
          "output_type": "stream",
          "text": [
            "\n",
            "Ground Truth :  NOW HIS MIDDLE HORSE WAS BEING ALMOST DRAGGED BY THE OTHER TWO\n",
            "Prediction   :  NOW HIS MILE HORSE WAS BEING ALMOST DRAGGED BY THE OTHER TWO\n"
          ]
        },
        {
          "name": "stderr",
          "output_type": "stream",
          "text": [
            "Val:  23%|██▎       | 5/22 [01:33<05:17, 18.67s/it, running_distance=12.0344]"
          ]
        },
        {
          "name": "stdout",
          "output_type": "stream",
          "text": [
            "\n",
            "Ground Truth :  OH REJOINED THE DAGUERREOTYPIST BECAUSE LIKE AN OLD LADY'S CUP OF TEA IT IS WATER BEWITCHED\n",
            "Prediction   :  OH REJOINED THAT TO GARE TYPEST BECAUSE LIKE AN OLD LADY'S CUP OF TEAK IT IS WATER BEWITCHED\n"
          ]
        },
        {
          "name": "stderr",
          "output_type": "stream",
          "text": []
        },
        {
          "name": "stdout",
          "output_type": "stream",
          "text": [
            "Levenshtein Distance 12.0344\n",
            "Saved epoch model\n",
            "Saved best training model\n",
            "\n",
            "Epoch 26/50\n"
          ]
        },
        {
          "name": "stderr",
          "output_type": "stream",
          "text": []
        },
        {
          "name": "stdout",
          "output_type": "stream",
          "text": [
            "\n",
            "Epoch 26/50: \n",
            "Train Loss 0.1242\t Train Perplexity 1.1323\t Learning Rate 0.0005\n",
            "Saved epoch model\n",
            "Saved best training model\n",
            "\n",
            "Epoch 27/50\n"
          ]
        },
        {
          "name": "stderr",
          "output_type": "stream",
          "text": []
        },
        {
          "name": "stdout",
          "output_type": "stream",
          "text": [
            "\n",
            "Epoch 27/50: \n",
            "Train Loss 0.1197\t Train Perplexity 1.1272\t Learning Rate 0.0005\n"
          ]
        },
        {
          "name": "stderr",
          "output_type": "stream",
          "text": [
            "Val:   5%|▍         | 1/22 [00:17<05:57, 17.02s/it, running_distance=11.9609]"
          ]
        },
        {
          "name": "stdout",
          "output_type": "stream",
          "text": [
            "\n",
            "Ground Truth :  SHE PRESSED HIS HAND GENTLY IN GRATITUDE WEREN'T YOU HAPPY THEN AT ALL\n",
            "Prediction   :  SHE PRESSED HIS HAND GENTLY IN GRATITUDE WORN'T YOU HAPPY THEN AT ALL\n"
          ]
        },
        {
          "name": "stderr",
          "output_type": "stream",
          "text": [
            "Val:   9%|▉         | 2/22 [00:35<05:54, 17.71s/it, running_distance=13.0312]"
          ]
        },
        {
          "name": "stdout",
          "output_type": "stream",
          "text": [
            "\n",
            "Ground Truth :  WE RANGE WIDER LAST LONGER AND ESCAPE MORE AND MORE FROM INTENSITY TOWARDS UNDERSTANDING\n",
            "Prediction   :  WE RANGE WATER LAST LONGER AND ESCEEPED MORE AT MORE AT MORE FROM INTENSITY TOWARDS UNDERSTANDING\n"
          ]
        },
        {
          "name": "stderr",
          "output_type": "stream",
          "text": [
            "Val:  14%|█▎        | 3/22 [00:52<05:28, 17.30s/it, running_distance=12.9245]"
          ]
        },
        {
          "name": "stdout",
          "output_type": "stream",
          "text": [
            "\n",
            "Ground Truth :  I EXPLAIN THAT I'M TAKING MUSIC AND ALSO BIOLOGY ALGEBRA ENGLISH AND FRENCH MUSIC HE SNORTS\n",
            "Prediction   :  EXPLAIN THAT I'M TAKING MUSIC AND ALSO BY OLIGY ALDICHE ALTIER ENGLISH AND FRENCH MUSIC THESE NARTS\n"
          ]
        },
        {
          "name": "stderr",
          "output_type": "stream",
          "text": [
            "Val:  18%|█▊        | 4/22 [01:09<05:13, 17.43s/it, running_distance=11.8652]"
          ]
        },
        {
          "name": "stdout",
          "output_type": "stream",
          "text": [
            "\n",
            "Ground Truth :  NOW HIS MIDDLE HORSE WAS BEING ALMOST DRAGGED BY THE OTHER TWO\n",
            "Prediction   :  NOW HIS MILL HORSE WAS BEING ALMOST DRAG BY THE OTHER TWO\n"
          ]
        },
        {
          "name": "stderr",
          "output_type": "stream",
          "text": [
            "Val:  23%|██▎       | 5/22 [01:31<05:22, 18.98s/it, running_distance=12.3547]"
          ]
        },
        {
          "name": "stdout",
          "output_type": "stream",
          "text": [
            "\n",
            "Ground Truth :  OH REJOINED THE DAGUERREOTYPIST BECAUSE LIKE AN OLD LADY'S CUP OF TEA IT IS WATER BEWITCHED\n",
            "Prediction   :  OH REJOINED THAT TO GAR TYPEST BECAUSE LIKE AN OLD LADY'S CUP OF TEAGUE IT IS WATER BEWITCHED\n"
          ]
        },
        {
          "name": "stderr",
          "output_type": "stream",
          "text": []
        },
        {
          "name": "stdout",
          "output_type": "stream",
          "text": [
            "Levenshtein Distance 12.3547\n",
            "Saved epoch model\n",
            "Saved best training model\n",
            "\n",
            "Epoch 28/50\n"
          ]
        },
        {
          "name": "stderr",
          "output_type": "stream",
          "text": []
        },
        {
          "name": "stdout",
          "output_type": "stream",
          "text": [
            "\n",
            "Epoch 28/50: \n",
            "Train Loss 0.1156\t Train Perplexity 1.1226\t Learning Rate 0.0005\n",
            "Saved epoch model\n",
            "Saved best training model\n",
            "\n",
            "Epoch 29/50\n"
          ]
        },
        {
          "name": "stderr",
          "output_type": "stream",
          "text": []
        },
        {
          "name": "stdout",
          "output_type": "stream",
          "text": [
            "\n",
            "Epoch 29/50: \n",
            "Train Loss 0.1117\t Train Perplexity 1.1182\t Learning Rate 0.0005\n"
          ]
        },
        {
          "name": "stderr",
          "output_type": "stream",
          "text": [
            "Val:   5%|▍         | 1/22 [00:19<06:42, 19.18s/it, running_distance=11.2969]"
          ]
        },
        {
          "name": "stdout",
          "output_type": "stream",
          "text": [
            "\n",
            "Ground Truth :  SHE PRESSED HIS HAND GENTLY IN GRATITUDE WEREN'T YOU HAPPY THEN AT ALL\n",
            "Prediction   :  SHE PRESSED HIS HAND GENTLY IN GRATITUDE WORN'T YOU HAPPY THEN AT ALL\n"
          ]
        },
        {
          "name": "stderr",
          "output_type": "stream",
          "text": [
            "Val:   9%|▉         | 2/22 [00:38<06:24, 19.24s/it, running_distance=12.0664]"
          ]
        },
        {
          "name": "stdout",
          "output_type": "stream",
          "text": [
            "\n",
            "Ground Truth :  WE RANGE WIDER LAST LONGER AND ESCAPE MORE AND MORE FROM INTENSITY TOWARDS UNDERSTANDING\n",
            "Prediction   :  WE RANGE WAITER LAST LONGER AND ESCEPED MORE AT MORE AT MORE FROM INTENSITY TOWARDS UNDERSTANDING\n"
          ]
        },
        {
          "name": "stderr",
          "output_type": "stream",
          "text": [
            "Val:  14%|█▎        | 3/22 [01:25<10:02, 31.71s/it, running_distance=12.5729]"
          ]
        },
        {
          "name": "stdout",
          "output_type": "stream",
          "text": [
            "\n",
            "Ground Truth :  I EXPLAIN THAT I'M TAKING MUSIC AND ALSO BIOLOGY ALGEBRA ENGLISH AND FRENCH MUSIC HE SNORTS\n",
            "Prediction   :  EXPLAIN THAT I'M TAKING MUSIC AND ALSO BIOLIGY ALTIE ALTIE ALTICH IN FRENCH MUSIC THESE NARDS\n"
          ]
        },
        {
          "name": "stderr",
          "output_type": "stream",
          "text": [
            "Val:  18%|█▊        | 4/22 [01:42<07:51, 26.21s/it, running_distance=11.6016]"
          ]
        },
        {
          "name": "stdout",
          "output_type": "stream",
          "text": [
            "\n",
            "Ground Truth :  NOW HIS MIDDLE HORSE WAS BEING ALMOST DRAGGED BY THE OTHER TWO\n",
            "Prediction   :  NOW HIS MILL HORSE WAS BEING ALMOST DRAGGED BY THE OTHER TWO\n"
          ]
        },
        {
          "name": "stderr",
          "output_type": "stream",
          "text": [
            "Val:  23%|██▎       | 5/22 [02:04<06:56, 24.52s/it, running_distance=11.9812]"
          ]
        },
        {
          "name": "stdout",
          "output_type": "stream",
          "text": [
            "\n",
            "Ground Truth :  OH REJOINED THE DAGUERREOTYPIST BECAUSE LIKE AN OLD LADY'S CUP OF TEA IT IS WATER BEWITCHED\n",
            "Prediction   :  OH REJOINED THAT TO GAR TYPEST BECAUSE LIKE AN OLD LADY'S CUP OF TIGUE IT IS WATER BEWHICHED\n"
          ]
        },
        {
          "name": "stderr",
          "output_type": "stream",
          "text": []
        },
        {
          "name": "stdout",
          "output_type": "stream",
          "text": [
            "Levenshtein Distance 11.9812\n",
            "Saved epoch model\n",
            "Saved best training model\n",
            "\n",
            "Epoch 30/50\n"
          ]
        },
        {
          "name": "stderr",
          "output_type": "stream",
          "text": []
        },
        {
          "name": "stdout",
          "output_type": "stream",
          "text": [
            "\n",
            "Epoch 30/50: \n",
            "Train Loss 0.1076\t Train Perplexity 1.1137\t Learning Rate 0.0005\n",
            "Saved epoch model\n",
            "Saved best training model\n",
            "\n",
            "Epoch 31/50\n"
          ]
        },
        {
          "name": "stderr",
          "output_type": "stream",
          "text": []
        },
        {
          "name": "stdout",
          "output_type": "stream",
          "text": [
            "\n",
            "Epoch 31/50: \n",
            "Train Loss 0.1043\t Train Perplexity 1.1100\t Learning Rate 0.0005\n"
          ]
        },
        {
          "name": "stderr",
          "output_type": "stream",
          "text": [
            "Val:   5%|▍         | 1/22 [00:18<06:33, 18.76s/it, running_distance=11.3516]"
          ]
        },
        {
          "name": "stdout",
          "output_type": "stream",
          "text": [
            "\n",
            "Ground Truth :  SHE PRESSED HIS HAND GENTLY IN GRATITUDE WEREN'T YOU HAPPY THEN AT ALL\n",
            "Prediction   :  SHE PRESSED HIS HAND GENTLY IN GRATITUDE WORN'T YOU HAPPY THEN AT ALL\n"
          ]
        },
        {
          "name": "stderr",
          "output_type": "stream",
          "text": [
            "Val:   9%|▉         | 2/22 [00:37<06:18, 18.93s/it, running_distance=12.0586]"
          ]
        },
        {
          "name": "stdout",
          "output_type": "stream",
          "text": [
            "\n",
            "Ground Truth :  WE RANGE WIDER LAST LONGER AND ESCAPE MORE AND MORE FROM INTENSITY TOWARDS UNDERSTANDING\n",
            "Prediction   :  WE RANGE WATER LAST LONGER AND ESCAPED MORE AT MORE FROM INTENSITY TOWARDS UNDERSTANDING\n"
          ]
        },
        {
          "name": "stderr",
          "output_type": "stream",
          "text": [
            "Val:  14%|█▎        | 3/22 [00:56<05:58, 18.89s/it, running_distance=12.1901]"
          ]
        },
        {
          "name": "stdout",
          "output_type": "stream",
          "text": [
            "\n",
            "Ground Truth :  I EXPLAIN THAT I'M TAKING MUSIC AND ALSO BIOLOGY ALGEBRA ENGLISH AND FRENCH MUSIC HE SNORTS\n",
            "Prediction   :  EXPLAIN THAT I'M TAKING MUSIC AND ALSO BYOLITY ALTIE ALTIE ALTIE ALTIE AND FRENCH MUSIC THESE NARDS\n"
          ]
        },
        {
          "name": "stderr",
          "output_type": "stream",
          "text": [
            "Val:  18%|█▊        | 4/22 [01:13<05:22, 17.89s/it, running_distance=11.3008]"
          ]
        },
        {
          "name": "stdout",
          "output_type": "stream",
          "text": [
            "\n",
            "Ground Truth :  NOW HIS MIDDLE HORSE WAS BEING ALMOST DRAGGED BY THE OTHER TWO\n",
            "Prediction   :  NOW HIS MILL HORSE WAS BEING ALMOST DRAG BY THE OTHER TWO\n"
          ]
        },
        {
          "name": "stderr",
          "output_type": "stream",
          "text": [
            "Val:  23%|██▎       | 5/22 [02:03<08:23, 29.64s/it, running_distance=12.1391]"
          ]
        },
        {
          "name": "stdout",
          "output_type": "stream",
          "text": [
            "\n",
            "Ground Truth :  OH REJOINED THE DAGUERREOTYPIST BECAUSE LIKE AN OLD LADY'S CUP OF TEA IT IS WATER BEWITCHED\n",
            "Prediction   :  OH REJOINED IT TO GARER TYPEST BECAUSE LIKE AN OLD LADY'S CUP OF TIGUE IT IS WATER BEWITCHED\n"
          ]
        },
        {
          "name": "stderr",
          "output_type": "stream",
          "text": []
        },
        {
          "name": "stdout",
          "output_type": "stream",
          "text": [
            "Levenshtein Distance 12.1391\n",
            "Saved epoch model\n",
            "Saved best training model\n",
            "\n",
            "Epoch 32/50\n"
          ]
        },
        {
          "name": "stderr",
          "output_type": "stream",
          "text": []
        },
        {
          "name": "stdout",
          "output_type": "stream",
          "text": [
            "\n",
            "Epoch 32/50: \n",
            "Train Loss 0.1001\t Train Perplexity 1.1053\t Learning Rate 0.0005\n",
            "Saved epoch model\n",
            "Saved best training model\n",
            "\n",
            "Epoch 33/50\n"
          ]
        },
        {
          "name": "stderr",
          "output_type": "stream",
          "text": []
        },
        {
          "name": "stdout",
          "output_type": "stream",
          "text": [
            "\n",
            "Epoch 33/50: \n",
            "Train Loss 0.0973\t Train Perplexity 1.1022\t Learning Rate 0.0005\n"
          ]
        },
        {
          "name": "stderr",
          "output_type": "stream",
          "text": [
            "Val:   5%|▍         | 1/22 [00:21<07:41, 21.97s/it, running_distance=11.1406]"
          ]
        },
        {
          "name": "stdout",
          "output_type": "stream",
          "text": [
            "\n",
            "Ground Truth :  SHE PRESSED HIS HAND GENTLY IN GRATITUDE WEREN'T YOU HAPPY THEN AT ALL\n",
            "Prediction   :  SHE PRESSED HIS HAND GENTLY IN GRATITUDE WORN'T YOU HAPPY THEN AT ALL\n"
          ]
        },
        {
          "name": "stderr",
          "output_type": "stream",
          "text": [
            "Val:   9%|▉         | 2/22 [00:41<06:47, 20.39s/it, running_distance=11.5195]"
          ]
        },
        {
          "name": "stdout",
          "output_type": "stream",
          "text": [
            "\n",
            "Ground Truth :  WE RANGE WIDER LAST LONGER AND ESCAPE MORE AND MORE FROM INTENSITY TOWARDS UNDERSTANDING\n",
            "Prediction   :  FWEET RANGE WHITER LAST LONGER AND ESCEEPED MORE AT MORE FROM INTENSITY TOWARDS UNDERSTANDING\n"
          ]
        },
        {
          "name": "stderr",
          "output_type": "stream",
          "text": [
            "Val:  14%|█▎        | 3/22 [00:58<06:00, 18.98s/it, running_distance=11.6823]"
          ]
        },
        {
          "name": "stdout",
          "output_type": "stream",
          "text": [
            "\n",
            "Ground Truth :  I EXPLAIN THAT I'M TAKING MUSIC AND ALSO BIOLOGY ALGEBRA ENGLISH AND FRENCH MUSIC HE SNORTS\n",
            "Prediction   :  EXPLAINED THAT I'M TAKING MUSIC AND ALSO BIOLITY ALTIE ALTIER ENGLISH IN FRENCH MUSIC THESE NARDS\n"
          ]
        },
        {
          "name": "stderr",
          "output_type": "stream",
          "text": [
            "Val:  18%|█▊        | 4/22 [01:15<05:28, 18.26s/it, running_distance=10.9219]"
          ]
        },
        {
          "name": "stdout",
          "output_type": "stream",
          "text": [
            "\n",
            "Ground Truth :  NOW HIS MIDDLE HORSE WAS BEING ALMOST DRAGGED BY THE OTHER TWO\n",
            "Prediction   :  NOW HIS MILL HORSE WAS BEING ALMOST DRAGGED BY THE OTHER TWO\n"
          ]
        },
        {
          "name": "stderr",
          "output_type": "stream",
          "text": [
            "Val:  23%|██▎       | 5/22 [02:07<08:33, 30.21s/it, running_distance=11.3750]"
          ]
        },
        {
          "name": "stdout",
          "output_type": "stream",
          "text": [
            "\n",
            "Ground Truth :  OH REJOINED THE DAGUERREOTYPIST BECAUSE LIKE AN OLD LADY'S CUP OF TEA IT IS WATER BEWITCHED\n",
            "Prediction   :  OH REJOINED IT TO GARETYPEST BECAUSE LIKE AN OLD LADY'S CUP OF TIGUE IT IS WATER BEWITCHED\n"
          ]
        },
        {
          "name": "stderr",
          "output_type": "stream",
          "text": []
        },
        {
          "name": "stdout",
          "output_type": "stream",
          "text": [
            "Levenshtein Distance 11.3750\n",
            "Saved epoch model\n",
            "Saved best training model\n",
            "\n",
            "Epoch 34/50\n"
          ]
        },
        {
          "name": "stderr",
          "output_type": "stream",
          "text": []
        },
        {
          "name": "stdout",
          "output_type": "stream",
          "text": [
            "\n",
            "Epoch 34/50: \n",
            "Train Loss 0.0944\t Train Perplexity 1.0991\t Learning Rate 0.0005\n",
            "Saved epoch model\n",
            "Saved best training model\n",
            "\n",
            "Epoch 35/50\n"
          ]
        },
        {
          "name": "stderr",
          "output_type": "stream",
          "text": []
        },
        {
          "name": "stdout",
          "output_type": "stream",
          "text": [
            "\n",
            "Epoch 35/50: \n",
            "Train Loss 0.0910\t Train Perplexity 1.0953\t Learning Rate 0.0005\n"
          ]
        },
        {
          "name": "stderr",
          "output_type": "stream",
          "text": [
            "Val:   5%|▍         | 1/22 [00:18<06:33, 18.74s/it, running_distance=10.7656]"
          ]
        },
        {
          "name": "stdout",
          "output_type": "stream",
          "text": [
            "\n",
            "Ground Truth :  SHE PRESSED HIS HAND GENTLY IN GRATITUDE WEREN'T YOU HAPPY THEN AT ALL\n",
            "Prediction   :  SHE PRESSED HIS HAND GENTLY IN GRATITUDE WORNED YOU HAPPY THEN AT ALL\n"
          ]
        },
        {
          "name": "stderr",
          "output_type": "stream",
          "text": [
            "Val:   9%|▉         | 2/22 [00:37<06:20, 19.05s/it, running_distance=11.4180]"
          ]
        },
        {
          "name": "stdout",
          "output_type": "stream",
          "text": [
            "\n",
            "Ground Truth :  WE RANGE WIDER LAST LONGER AND ESCAPE MORE AND MORE FROM INTENSITY TOWARDS UNDERSTANDING\n",
            "Prediction   :  WE RANGE WATER LAST LONGER AND ESCAPED MORE AT MORE FROM INTENSITY TOWARDS UNDERSTANDING\n"
          ]
        },
        {
          "name": "stderr",
          "output_type": "stream",
          "text": [
            "Val:  14%|█▎        | 3/22 [01:25<10:06, 31.90s/it, running_distance=12.1953]"
          ]
        },
        {
          "name": "stdout",
          "output_type": "stream",
          "text": [
            "\n",
            "Ground Truth :  I EXPLAIN THAT I'M TAKING MUSIC AND ALSO BIOLOGY ALGEBRA ENGLISH AND FRENCH MUSIC HE SNORTS\n",
            "Prediction   :  EXPLAIN THAT I'M TAKING MUSIC AND ALSO BIOLITY ALTIE ALTIER ENGLISH IN FRENCH MUSIC THESE NARTS\n"
          ]
        },
        {
          "name": "stderr",
          "output_type": "stream",
          "text": [
            "Val:  18%|█▊        | 4/22 [01:42<07:52, 26.22s/it, running_distance=11.3770]"
          ]
        },
        {
          "name": "stdout",
          "output_type": "stream",
          "text": [
            "\n",
            "Ground Truth :  NOW HIS MIDDLE HORSE WAS BEING ALMOST DRAGGED BY THE OTHER TWO\n",
            "Prediction   :  NOW HIS MILL HORSE WAS BEING ALMOST DRAG BY THE OTHER TWO\n"
          ]
        },
        {
          "name": "stderr",
          "output_type": "stream",
          "text": [
            "Val:  23%|██▎       | 5/22 [02:33<09:56, 35.10s/it, running_distance=11.7328]"
          ]
        },
        {
          "name": "stdout",
          "output_type": "stream",
          "text": [
            "\n",
            "Ground Truth :  OH REJOINED THE DAGUERREOTYPIST BECAUSE LIKE AN OLD LADY'S CUP OF TEA IT IS WATER BEWITCHED\n",
            "Prediction   :  OH REJOINED IT TO GAR TYPEST BECAUSE LIKE AN OLD LADY'S CUP OF TEA IT IS WATER BEWITCHED\n"
          ]
        },
        {
          "name": "stderr",
          "output_type": "stream",
          "text": []
        },
        {
          "name": "stdout",
          "output_type": "stream",
          "text": [
            "Levenshtein Distance 11.7328\n",
            "Saved epoch model\n",
            "Saved best training model\n",
            "\n",
            "Epoch 36/50\n"
          ]
        },
        {
          "name": "stderr",
          "output_type": "stream",
          "text": []
        },
        {
          "name": "stdout",
          "output_type": "stream",
          "text": [
            "\n",
            "Epoch 36/50: \n",
            "Train Loss 0.0886\t Train Perplexity 1.0926\t Learning Rate 0.0005\n",
            "Saved epoch model\n",
            "Saved best training model\n",
            "\n",
            "Epoch 37/50\n"
          ]
        },
        {
          "name": "stderr",
          "output_type": "stream",
          "text": []
        },
        {
          "name": "stdout",
          "output_type": "stream",
          "text": [
            "\n",
            "Epoch 37/50: \n",
            "Train Loss 0.0858\t Train Perplexity 1.0896\t Learning Rate 0.0005\n"
          ]
        },
        {
          "name": "stderr",
          "output_type": "stream",
          "text": [
            "Val:   5%|▍         | 1/22 [00:19<06:49, 19.51s/it, running_distance=11.2656]"
          ]
        },
        {
          "name": "stdout",
          "output_type": "stream",
          "text": [
            "\n",
            "Ground Truth :  SHE PRESSED HIS HAND GENTLY IN GRATITUDE WEREN'T YOU HAPPY THEN AT ALL\n",
            "Prediction   :  SHE PRESSED HIS HAND GENTLY IN GRATITUDE WORN'T YOU HAPPY THEN AT ALL\n"
          ]
        },
        {
          "name": "stderr",
          "output_type": "stream",
          "text": [
            "Val:   9%|▉         | 2/22 [00:38<06:28, 19.42s/it, running_distance=12.4297]"
          ]
        },
        {
          "name": "stdout",
          "output_type": "stream",
          "text": [
            "\n",
            "Ground Truth :  WE RANGE WIDER LAST LONGER AND ESCAPE MORE AND MORE FROM INTENSITY TOWARDS UNDERSTANDING\n",
            "Prediction   :  WE RANGE WATER LAST LONGER AND ESCAPED MORE AT MORE FROM INTENSITY TOWARDS UNDERSTANDING\n"
          ]
        },
        {
          "name": "stderr",
          "output_type": "stream",
          "text": [
            "Val:  14%|█▎        | 3/22 [01:25<10:05, 31.85s/it, running_distance=12.4505]"
          ]
        },
        {
          "name": "stdout",
          "output_type": "stream",
          "text": [
            "\n",
            "Ground Truth :  I EXPLAIN THAT I'M TAKING MUSIC AND ALSO BIOLOGY ALGEBRA ENGLISH AND FRENCH MUSIC HE SNORTS\n",
            "Prediction   :  EXPLAINED THAT I'M TAKING MUSIC AND ALSO BIOLITY ALTIEUR ENGLISH IN FRENCH MUSIC THESE NARTS\n"
          ]
        },
        {
          "name": "stderr",
          "output_type": "stream",
          "text": [
            "Val:  18%|█▊        | 4/22 [02:08<10:53, 36.29s/it, running_distance=11.5723]"
          ]
        },
        {
          "name": "stdout",
          "output_type": "stream",
          "text": [
            "\n",
            "Ground Truth :  NOW HIS MIDDLE HORSE WAS BEING ALMOST DRAGGED BY THE OTHER TWO\n",
            "Prediction   :  NOW AS MILL HORSE WAS BEING ALMOST DRAGGED BY THE OTHER TWO\n"
          ]
        },
        {
          "name": "stderr",
          "output_type": "stream",
          "text": [
            "Val:  23%|██▎       | 5/22 [02:58<11:41, 41.25s/it, running_distance=11.8094]"
          ]
        },
        {
          "name": "stdout",
          "output_type": "stream",
          "text": [
            "\n",
            "Ground Truth :  OH REJOINED THE DAGUERREOTYPIST BECAUSE LIKE AN OLD LADY'S CUP OF TEA IT IS WATER BEWITCHED\n",
            "Prediction   :  OH REJOINED IT TO GARER TYPEST BECAUSE LIKE AN OLD LADY'S CUP OF TIGUE IT IS WATER BEWITCHED\n"
          ]
        },
        {
          "name": "stderr",
          "output_type": "stream",
          "text": []
        },
        {
          "name": "stdout",
          "output_type": "stream",
          "text": [
            "Levenshtein Distance 11.8094\n",
            "Saved epoch model\n",
            "Saved best training model\n",
            "\n",
            "Epoch 38/50\n"
          ]
        },
        {
          "name": "stderr",
          "output_type": "stream",
          "text": []
        },
        {
          "name": "stdout",
          "output_type": "stream",
          "text": [
            "\n",
            "Epoch 38/50: \n",
            "Train Loss 0.0836\t Train Perplexity 1.0872\t Learning Rate 0.0005\n",
            "Saved epoch model\n",
            "Saved best training model\n",
            "\n",
            "Epoch 39/50\n"
          ]
        },
        {
          "name": "stderr",
          "output_type": "stream",
          "text": []
        },
        {
          "name": "stdout",
          "output_type": "stream",
          "text": [
            "\n",
            "Epoch 39/50: \n",
            "Train Loss 0.0814\t Train Perplexity 1.0849\t Learning Rate 0.0005\n"
          ]
        },
        {
          "name": "stderr",
          "output_type": "stream",
          "text": [
            "Val:   5%|▍         | 1/22 [00:18<06:33, 18.74s/it, running_distance=11.1641]"
          ]
        },
        {
          "name": "stdout",
          "output_type": "stream",
          "text": [
            "\n",
            "Ground Truth :  SHE PRESSED HIS HAND GENTLY IN GRATITUDE WEREN'T YOU HAPPY THEN AT ALL\n",
            "Prediction   :  SHE PRESSED HIS HAND GENTLY IN GRATITUDE WORN'T YOU HAPPY THEN AT ALL\n"
          ]
        },
        {
          "name": "stderr",
          "output_type": "stream",
          "text": [
            "Val:   9%|▉         | 2/22 [00:36<06:09, 18.45s/it, running_distance=12.0000]"
          ]
        },
        {
          "name": "stdout",
          "output_type": "stream",
          "text": [
            "\n",
            "Ground Truth :  WE RANGE WIDER LAST LONGER AND ESCAPE MORE AND MORE FROM INTENSITY TOWARDS UNDERSTANDING\n",
            "Prediction   :  WE RANGE WATER LAST LONGER AND ESCHEEPED MORE AT MORE AT MORE FROM INTENSITY TOWARDS UNDERSTANDING\n"
          ]
        },
        {
          "name": "stderr",
          "output_type": "stream",
          "text": [
            "Val:  14%|█▎        | 3/22 [01:05<07:16, 22.99s/it, running_distance=12.0885]"
          ]
        },
        {
          "name": "stdout",
          "output_type": "stream",
          "text": [
            "\n",
            "Ground Truth :  I EXPLAIN THAT I'M TAKING MUSIC AND ALSO BIOLOGY ALGEBRA ENGLISH AND FRENCH MUSIC HE SNORTS\n",
            "Prediction   :  EXPLAINED THAT I'M TAKING MUSIC AND ALSO BIOLITY ALDIER ENGLISH IN FRENCH MUSIC THESE NARDS\n"
          ]
        },
        {
          "name": "stderr",
          "output_type": "stream",
          "text": [
            "Val:  18%|█▊        | 4/22 [01:23<06:22, 21.24s/it, running_distance=11.3359]"
          ]
        },
        {
          "name": "stdout",
          "output_type": "stream",
          "text": [
            "\n",
            "Ground Truth :  NOW HIS MIDDLE HORSE WAS BEING ALMOST DRAGGED BY THE OTHER TWO\n",
            "Prediction   :  NOW HIS MILL HORSE WAS BEING ALMOST DRAG BY THE OTHER TWO\n"
          ]
        },
        {
          "name": "stderr",
          "output_type": "stream",
          "text": [
            "Val:  23%|██▎       | 5/22 [01:44<05:56, 20.97s/it, running_distance=11.6750]"
          ]
        },
        {
          "name": "stdout",
          "output_type": "stream",
          "text": [
            "\n",
            "Ground Truth :  OH REJOINED THE DAGUERREOTYPIST BECAUSE LIKE AN OLD LADY'S CUP OF TEA IT IS WATER BEWITCHED\n",
            "Prediction   :  OH REJOUNT IT TO GARETYPEST BECAUSE LIKE AN OLD LADY'S CUP OF TEA IT IS WATER BEWHICHED\n"
          ]
        },
        {
          "name": "stderr",
          "output_type": "stream",
          "text": []
        },
        {
          "name": "stdout",
          "output_type": "stream",
          "text": [
            "Levenshtein Distance 11.6750\n",
            "Saved epoch model\n",
            "Saved best training model\n",
            "\n",
            "Epoch 40/50\n"
          ]
        },
        {
          "name": "stderr",
          "output_type": "stream",
          "text": [
            "Train:   4%|▍         | 10/223 [00:12<03:40,  1.04s/it, loss=0.0771, perplexity=1.0802]"
          ]
        },
        {
          "ename": "KeyboardInterrupt",
          "evalue": "",
          "output_type": "error",
          "traceback": [
            "\u001b[0;31m---------------------------------------------------------------------------\u001b[0m",
            "\u001b[0;31mKeyboardInterrupt\u001b[0m                         Traceback (most recent call last)",
            "\u001b[0;32m<ipython-input-43-fa1a39c90f74>\u001b[0m in \u001b[0;36m<cell line: 28>\u001b[0;34m()\u001b[0m\n\u001b[1;32m     32\u001b[0m     \u001b[0mcurr_lr\u001b[0m \u001b[0;34m=\u001b[0m \u001b[0mfloat\u001b[0m\u001b[0;34m(\u001b[0m\u001b[0moptimizer\u001b[0m\u001b[0;34m.\u001b[0m\u001b[0mparam_groups\u001b[0m\u001b[0;34m[\u001b[0m\u001b[0;36m0\u001b[0m\u001b[0;34m]\u001b[0m\u001b[0;34m[\u001b[0m\u001b[0;34m\"lr\"\u001b[0m\u001b[0;34m]\u001b[0m\u001b[0;34m)\u001b[0m\u001b[0;34m\u001b[0m\u001b[0;34m\u001b[0m\u001b[0m\n\u001b[1;32m     33\u001b[0m \u001b[0;34m\u001b[0m\u001b[0m\n\u001b[0;32m---> 34\u001b[0;31m     \u001b[0mtrain_loss\u001b[0m\u001b[0;34m,\u001b[0m \u001b[0mtrain_perplexity\u001b[0m\u001b[0;34m,\u001b[0m \u001b[0mattention_weights\u001b[0m \u001b[0;34m=\u001b[0m \u001b[0mtrain_model\u001b[0m\u001b[0;34m(\u001b[0m\u001b[0mmodel\u001b[0m\u001b[0;34m,\u001b[0m \u001b[0mtrain_loader\u001b[0m\u001b[0;34m,\u001b[0m \u001b[0moptimizer\u001b[0m\u001b[0;34m)\u001b[0m\u001b[0;34m\u001b[0m\u001b[0;34m\u001b[0m\u001b[0m\n\u001b[0m\u001b[1;32m     35\u001b[0m \u001b[0;34m\u001b[0m\u001b[0m\n\u001b[1;32m     36\u001b[0m     print(\"\\nEpoch {}/{}: \\nTrain Loss {:.04f}\\t Train Perplexity {:.04f}\\t Learning Rate {:.04f}\".format(\n",
            "\u001b[0;32m<ipython-input-38-36f261d3ecd3>\u001b[0m in \u001b[0;36mtrain_model\u001b[0;34m(model, train_loader, optimizer)\u001b[0m\n\u001b[1;32m     44\u001b[0m \u001b[0;34m\u001b[0m\u001b[0m\n\u001b[1;32m     45\u001b[0m         \u001b[0;32mdel\u001b[0m \u001b[0minputs\u001b[0m\u001b[0;34m,\u001b[0m \u001b[0mtargets_shifted\u001b[0m\u001b[0;34m,\u001b[0m \u001b[0mtargets_golden\u001b[0m\u001b[0;34m,\u001b[0m \u001b[0minputs_lengths\u001b[0m\u001b[0;34m,\u001b[0m \u001b[0mtargets_lengths\u001b[0m\u001b[0;34m\u001b[0m\u001b[0;34m\u001b[0m\u001b[0m\n\u001b[0;32m---> 46\u001b[0;31m         \u001b[0mtorch\u001b[0m\u001b[0;34m.\u001b[0m\u001b[0mcuda\u001b[0m\u001b[0;34m.\u001b[0m\u001b[0mempty_cache\u001b[0m\u001b[0;34m(\u001b[0m\u001b[0;34m)\u001b[0m\u001b[0;34m\u001b[0m\u001b[0;34m\u001b[0m\u001b[0m\n\u001b[0m\u001b[1;32m     47\u001b[0m \u001b[0;34m\u001b[0m\u001b[0m\n\u001b[1;32m     48\u001b[0m     \u001b[0mrunning_loss\u001b[0m        \u001b[0;34m=\u001b[0m \u001b[0mfloat\u001b[0m\u001b[0;34m(\u001b[0m\u001b[0mrunning_loss\u001b[0m \u001b[0;34m/\u001b[0m \u001b[0mlen\u001b[0m\u001b[0;34m(\u001b[0m\u001b[0mtrain_loader\u001b[0m\u001b[0;34m)\u001b[0m\u001b[0;34m)\u001b[0m\u001b[0;34m\u001b[0m\u001b[0;34m\u001b[0m\u001b[0m\n",
            "\u001b[0;32m/usr/local/lib/python3.10/dist-packages/torch/cuda/memory.py\u001b[0m in \u001b[0;36mempty_cache\u001b[0;34m()\u001b[0m\n\u001b[1;32m    160\u001b[0m     \"\"\"\n\u001b[1;32m    161\u001b[0m     \u001b[0;32mif\u001b[0m \u001b[0mis_initialized\u001b[0m\u001b[0;34m(\u001b[0m\u001b[0;34m)\u001b[0m\u001b[0;34m:\u001b[0m\u001b[0;34m\u001b[0m\u001b[0;34m\u001b[0m\u001b[0m\n\u001b[0;32m--> 162\u001b[0;31m         \u001b[0mtorch\u001b[0m\u001b[0;34m.\u001b[0m\u001b[0m_C\u001b[0m\u001b[0;34m.\u001b[0m\u001b[0m_cuda_emptyCache\u001b[0m\u001b[0;34m(\u001b[0m\u001b[0;34m)\u001b[0m\u001b[0;34m\u001b[0m\u001b[0;34m\u001b[0m\u001b[0m\n\u001b[0m\u001b[1;32m    163\u001b[0m \u001b[0;34m\u001b[0m\u001b[0m\n\u001b[1;32m    164\u001b[0m \u001b[0;34m\u001b[0m\u001b[0m\n",
            "\u001b[0;31mKeyboardInterrupt\u001b[0m: "
          ]
        },
        {
          "data": {
            "image/png": "[encoded data removed]",
            "text/plain": [
              "<Figure size 640x480 with 2 Axes>"
            ]
          },
          "metadata": {},
          "output_type": "display_data"
        }
      ],
      "source": [
        "e                   = 0\n",
        "best_loss           = 20\n",
        "\n",
        "checkpoint_root = os.path.join(os.getcwd(), \"checkpoints-basic-transformer\")\n",
        "os.makedirs(checkpoint_root, exist_ok=True)\n",
        "wandb.watch(model, log=\"all\")\n",
        "\n",
        "checkpoint_best_loss_model_filename     = 'checkpoint-best-loss-model.pth'\n",
        "checkpoint_last_epoch_filename          = 'checkpoint-epoch-'\n",
        "best_loss_model_path                    = os.path.join(checkpoint_root, checkpoint_best_loss_model_filename)\n",
        "\n",
        "if RESUME_LOGGING:\n",
        "    # change if you want to load best test model accordingly\n",
        "    checkpoint = torch.load(wandb.restore(checkpoint_best_loss_model_filename, run_path=\"\"+run_id).name)\n",
        "\n",
        "    model.load_state_dict(checkpoint['model_state_dict'])\n",
        "    optimizer.load_state_dict(checkpoint['optimizer_state_dict'])\n",
        "    e = checkpoint['epoch']\n",
        "\n",
        "    print(\"Resuming from epoch {}\".format(e+1))\n",
        "    print(\"Epochs left: \", config['epochs']-e)\n",
        "    print(\"Optimizer: \\n\", optimizer)\n",
        "\n",
        "torch.cuda.empty_cache()\n",
        "gc.collect()\n",
        "\n",
        "epochs = config[\"epochs\"]\n",
        "for epoch in range(e, epochs):\n",
        "\n",
        "    print(\"\\nEpoch {}/{}\".format(epoch+1, config[\"epochs\"]))\n",
        "\n",
        "    curr_lr = float(optimizer.param_groups[0][\"lr\"])\n",
        "\n",
        "    train_loss, train_perplexity, attention_weights = train_model(model, train_loader, optimizer)\n",
        "\n",
        "    print(\"\\nEpoch {}/{}: \\nTrain Loss {:.04f}\\t Train Perplexity {:.04f}\\t Learning Rate {:.04f}\".format(\n",
        "        epoch + 1, config[\"epochs\"], train_loss, train_perplexity, curr_lr))\n",
        "\n",
        "    if (epoch % 2 == 0):    # validate every 2 epochs to speed up training\n",
        "        levenshtein_distance = validate_fast(model, val_loader)\n",
        "        print(\"Levenshtein Distance {:.04f}\".format(levenshtein_distance))\n",
        "        wandb.log({\"train_loss\"     : train_loss,\n",
        "                \"train_perplexity\"  : train_perplexity,\n",
        "                \"learning_rate\"     : curr_lr,\n",
        "                \"val_distance\"      : levenshtein_distance})\n",
        "    else:\n",
        "        wandb.log({\"train_loss\"     : train_loss,\n",
        "                \"train_perplexity\"  : train_perplexity,\n",
        "                \"learning_rate\"     : curr_lr})\n",
        "\n",
        "    # plotting the encoder-nearest and decoder-nearest attention weights\n",
        "    attention_keys = list(attention_weights.keys())\n",
        "    attention_weights_decoder      = attention_weights[attention_keys[-1]][0].cpu().detach().numpy()\n",
        "\n",
        "    # saving the cross-attention weights\n",
        "    save_attention_plot(attention_weights_decoder, epoch+100)\n",
        "\n",
        "    # plot_attention_weights((attention_weights[attention_keys[0]][0]).cpu().detach().numpy())\n",
        "    # plot_attention_weights(attention_weights[attention_keys[-1]][0].cpu().detach().numpy())\n",
        "\n",
        "    if config[\"scheduler\"] == \"ReduceLR\":\n",
        "        scheduler.step(levenshtein_distance)\n",
        "    else:\n",
        "        scheduler.step()\n",
        "\n",
        "    ### Highly Recommended: Save checkpoint in drive and/or wandb if accuracy is better than your current best\n",
        "    epoch_model_path = os.path.join(checkpoint_root, (checkpoint_last_epoch_filename + str(epoch) + '.pth'))\n",
        "    save_model(model, optimizer, scheduler, ['train_loss', train_loss], epoch, epoch_model_path)\n",
        "    ## wandb.save(epoch_model_path) ## Can't save on wandb for all epochs, may blow up storage\n",
        "\n",
        "    print(\"Saved epoch model\")\n",
        "\n",
        "    if best_loss >= train_loss:\n",
        "        best_loss = train_loss\n",
        "        save_model(model, optimizer, scheduler, ['train_loss', train_loss], epoch, best_loss_model_path)\n",
        "        # wandb.save(best_loss_model_path)\n",
        "        print(\"Saved best training model\")\n",
        "\n",
        "### Finish your wandb run\n",
        "# run.finish()"
      ]
    },
    {
      "cell_type": "markdown",
      "metadata": {
        "id": "hgFYFaBGeBqM"
      },
      "source": [
        "## Testing"
      ]
    },
    {
      "cell_type": "code",
      "execution_count": 44,
      "metadata": {
        "colab": {
          "base_uri": "https://localhost:8080/"
        },
        "id": "bLENWUZCMU0V",
        "outputId": "fb407010-6ef6-4609-c341-c887b605ae37"
      },
      "outputs": [
        {
          "data": {
            "text/plain": [
              "<All keys matched successfully>"
            ]
          },
          "execution_count": 44,
          "metadata": {},
          "output_type": "execute_result"
        }
      ],
      "source": [
        "torch.cuda.empty_cache()\n",
        "gc.collect()\n",
        "model.load_state_dict(torch.load('/content/checkpoints-basic-transformer/checkpoint-best-loss-model.pth')['model_state_dict'])"
      ]
    },
    {
      "cell_type": "code",
      "execution_count": 45,
      "metadata": {
        "colab": {
          "base_uri": "https://localhost:8080/"
        },
        "id": "vVKku0SQW8y6",
        "outputId": "029488ac-c878-4dd4-9d20-a8741eaf07fd"
      },
      "outputs": [
        {
          "name": "stderr",
          "output_type": "stream",
          "text": [
            "Test: 100%|██████████| 21/21 [08:07<00:00, 17.88s/it]"
          ]
        }
      ],
      "source": [
        "model.eval()\n",
        "\n",
        "# progress bar\n",
        "batch_bar = tqdm(total=len(test_loader), dynamic_ncols=True, leave=False, position=0, desc=\"Test\", ncols=5)\n",
        "\n",
        "all_predictions = []\n",
        "\n",
        "for i, data in enumerate(test_loader):\n",
        "    inputs, inputs_lengths = data\n",
        "    inputs                 = inputs.to(device)\n",
        "\n",
        "    with torch.inference_mode():\n",
        "        greedy_predictions = model.recognize(inputs, inputs_lengths)\n",
        "\n",
        "    greedy_predictions = greedy_predictions.detach().cpu().numpy()\n",
        "\n",
        "    for batch_idx in range(greedy_predictions.shape[0]):\n",
        "        pred_sliced = indices_to_chars(greedy_predictions[batch_idx], vocab= VOCAB)\n",
        "        pred_string = ''.join(pred_sliced)\n",
        "        all_predictions.append(pred_string)\n",
        "\n",
        "    batch_bar.update()"
      ]
    },
    {
      "cell_type": "code",
      "execution_count": 46,
      "metadata": {
        "colab": {
          "base_uri": "https://localhost:8080/"
        },
        "id": "XH9kvWIz5_9Z",
        "outputId": "016e9c37-5a41-4c64-c628-fa38a26a07fe"
      },
      "outputs": [
        {
          "name": "stdout",
          "output_type": "stream",
          "text": [
            "/content\n"
          ]
        }
      ],
      "source": [
        "%cd /content/\n",
        "df = pd.DataFrame({\n",
        "    \"index\" : list(range(len(all_predictions))),\n",
        "    \"label\" : all_predictions\n",
        "})\n",
        "\n",
        "df.to_csv(\"test.csv\", index=False)"
      ]
    }
  ],
  "metadata": {
    "accelerator": "GPU",
    "colab": {
      "gpuType": "V100",
      "provenance": []
    },
    "kernelspec": {
      "display_name": "Python 3",
      "name": "python3"
    },
    "language_info": {
      "codemirror_mode": {
        "name": "ipython",
        "version": 3
      },
      "file_extension": ".py",
      "mimetype": "text/x-python",
      "name": "python",
      "nbconvert_exporter": "python",
      "pygments_lexer": "ipython3",
      "version": "3.8.0"
    }
  },
  "nbformat": 4,
  "nbformat_minor": 0
}
